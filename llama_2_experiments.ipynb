{
 "cells": [
  {
   "cell_type": "markdown",
   "metadata": {},
   "source": [
    "# Benchmark Llama2 models on the ClimateX task and dataset\n",
    "\n",
    "To do this, we will utilize Together.ai for Llama 2 model APIs.\n",
    "\n"
   ]
  },
  {
   "cell_type": "code",
   "execution_count": 3,
   "metadata": {},
   "outputs": [],
   "source": [
    "import pandas as pd \n",
    "import re\n",
    "import os\n"
   ]
  },
  {
   "cell_type": "code",
   "execution_count": 4,
   "metadata": {},
   "outputs": [
    {
     "data": {
      "text/plain": [
       "True"
      ]
     },
     "execution_count": 4,
     "metadata": {},
     "output_type": "execute_result"
    }
   ],
   "source": [
    "# API Keys - store your TOGETHER_API_KEY in local .env file in this directory\n",
    "from dotenv import load_dotenv\n",
    "load_dotenv()\n"
   ]
  },
  {
   "cell_type": "code",
   "execution_count": 5,
   "metadata": {},
   "outputs": [
    {
     "data": {
      "text/html": [
       "<div>\n",
       "<style scoped>\n",
       "    .dataframe tbody tr th:only-of-type {\n",
       "        vertical-align: middle;\n",
       "    }\n",
       "\n",
       "    .dataframe tbody tr th {\n",
       "        vertical-align: top;\n",
       "    }\n",
       "\n",
       "    .dataframe thead th {\n",
       "        text-align: right;\n",
       "    }\n",
       "</style>\n",
       "<table border=\"1\" class=\"dataframe\">\n",
       "  <thead>\n",
       "    <tr style=\"text-align: right;\">\n",
       "      <th></th>\n",
       "      <th>statement_idx</th>\n",
       "      <th>report</th>\n",
       "      <th>page_num</th>\n",
       "      <th>sent_num</th>\n",
       "      <th>statement</th>\n",
       "      <th>confidence</th>\n",
       "      <th>score</th>\n",
       "      <th>split</th>\n",
       "    </tr>\n",
       "  </thead>\n",
       "  <tbody>\n",
       "    <tr>\n",
       "      <th>3</th>\n",
       "      <td>3</td>\n",
       "      <td>AR6_WGI</td>\n",
       "      <td>24</td>\n",
       "      <td>2</td>\n",
       "      <td>Since 1750, increases in CO2 (47%) and CH4 (15...</td>\n",
       "      <td>very high</td>\n",
       "      <td>3</td>\n",
       "      <td>test</td>\n",
       "    </tr>\n",
       "    <tr>\n",
       "      <th>42</th>\n",
       "      <td>42</td>\n",
       "      <td>AR6_WGI</td>\n",
       "      <td>37</td>\n",
       "      <td>16</td>\n",
       "      <td>Over the next 2000 years, global mean sea leve...</td>\n",
       "      <td>low</td>\n",
       "      <td>0</td>\n",
       "      <td>test</td>\n",
       "    </tr>\n",
       "    <tr>\n",
       "      <th>77</th>\n",
       "      <td>77</td>\n",
       "      <td>AR6_WGI</td>\n",
       "      <td>47</td>\n",
       "      <td>7</td>\n",
       "      <td>By the end of the century, scenarios with very...</td>\n",
       "      <td>high</td>\n",
       "      <td>2</td>\n",
       "      <td>test</td>\n",
       "    </tr>\n",
       "    <tr>\n",
       "      <th>81</th>\n",
       "      <td>81</td>\n",
       "      <td>AR6_WGI</td>\n",
       "      <td>62</td>\n",
       "      <td>2</td>\n",
       "      <td>Over the past millennium, and especially since...</td>\n",
       "      <td>medium</td>\n",
       "      <td>1</td>\n",
       "      <td>test</td>\n",
       "    </tr>\n",
       "    <tr>\n",
       "      <th>86</th>\n",
       "      <td>86</td>\n",
       "      <td>AR6_WGI</td>\n",
       "      <td>63</td>\n",
       "      <td>8</td>\n",
       "      <td>The paleo context supports the assessment that...</td>\n",
       "      <td>high</td>\n",
       "      <td>2</td>\n",
       "      <td>test</td>\n",
       "    </tr>\n",
       "  </tbody>\n",
       "</table>\n",
       "</div>"
      ],
      "text/plain": [
       "    statement_idx   report  page_num  sent_num  \\\n",
       "3               3  AR6_WGI        24         2   \n",
       "42             42  AR6_WGI        37        16   \n",
       "77             77  AR6_WGI        47         7   \n",
       "81             81  AR6_WGI        62         2   \n",
       "86             86  AR6_WGI        63         8   \n",
       "\n",
       "                                            statement confidence  score split  \n",
       "3   Since 1750, increases in CO2 (47%) and CH4 (15...  very high      3  test  \n",
       "42  Over the next 2000 years, global mean sea leve...        low      0  test  \n",
       "77  By the end of the century, scenarios with very...       high      2  test  \n",
       "81  Over the past millennium, and especially since...     medium      1  test  \n",
       "86  The paleo context supports the assessment that...       high      2  test  "
      ]
     },
     "execution_count": 5,
     "metadata": {},
     "output_type": "execute_result"
    }
   ],
   "source": [
    "df = pd.read_csv('./data/ipcc_statements_dataset.tsv', sep='\\t', skiprows=0)\n",
    "\n",
    "train_set = df.loc[df['split'] == 'train']\n",
    "test_set = df.loc[df['split'] == 'test']\n",
    "\n",
    "test_set.head()"
   ]
  },
  {
   "cell_type": "code",
   "execution_count": 9,
   "metadata": {},
   "outputs": [],
   "source": [
    "from langchain.llms import Together\n",
    "\n",
    "llm = Together(\n",
    "    # Select one.\n",
    "    model = \"togethercomputer/llama-2-7b-chat\",\n",
    "    # model = \"togethercomputer/llama-2-13b-chat\", \n",
    "    # model = \"togethercomputer/llama-2-70b-chat\", \n",
    "    temperature=0.0,\n",
    "    max_tokens=1000,\n",
    ")\n"
   ]
  },
  {
   "cell_type": "markdown",
   "metadata": {},
   "source": [
    "## First, use zero-shot prompting (no examples)"
   ]
  },
  {
   "cell_type": "code",
   "execution_count": 10,
   "metadata": {},
   "outputs": [],
   "source": [
    "PREFIX = \"<s>[INST] <<SYS>> You are a knowledgeable climate science assistant trained to assess the confidence level associated with various statements about climate change. <<SYS>> You will be presented with a statement about climate science, climate impacts or climate change mitigation which is retrieved or paraphrased from the IPCC AR6 WGI, WGII or WGIII assessment reports. Climate scientists have evaluated that statement as low confidence, medium confidence, high confidence, or very high confidence, based on evidence (type, amount, quantity, consistency) and agreement among their peers. What is their confidence level? Respond *only* with one of the following words: 'low', 'medium', 'high', 'very high'. If you don't know, you can respond 'I don't know'. Statement: \"\n",
    "SUFFIX = \" Confidence: [/INST] \"\n"
   ]
  },
  {
   "cell_type": "markdown",
   "metadata": {},
   "source": [
    "### One example"
   ]
  },
  {
   "cell_type": "code",
   "execution_count": 15,
   "metadata": {},
   "outputs": [
    {
     "name": "stdout",
     "output_type": "stream",
     "text": [
      "--PROMPT--\n",
      "<s>[INST] <<SYS>> You are a knowledgeable climate science assistant trained to assess the confidence level associated with various statements about climate change. <<SYS>> You will be presented with a statement about climate science, climate impacts or climate change mitigation which is retrieved or paraphrased from the IPCC AR6 WGI, WGII or WGIII assessment reports. Climate scientists have evaluated that statement as low confidence, medium confidence, high confidence, or very high confidence, based on evidence (type, amount, quantity, consistency) and agreement among their peers. What is their confidence level? Respond *only* with one of the following words: 'low', 'medium', 'high', 'very high'. If you don't know, you can respond 'I don't know'. Statement: Around two-thirds of treeline ecotones have also shifted upwards in recent decades, though these shifts are not ubiquitous and slower than expected based on rising temperatures Confidence: [/INST] \n",
      "\n",
      "--MODEL RESPONSE--\n",
      "Based on the statement you provided, the confidence level according to the IPCC AR6 WGI report is:\n",
      "\n",
      "High\n",
      "--FINAL PARSED OUTPUT CONFIDENCE PREDICTION--\n"
     ]
    },
    {
     "data": {
      "text/plain": [
       "'high'"
      ]
     },
     "execution_count": 15,
     "metadata": {},
     "output_type": "execute_result"
    }
   ],
   "source": [
    "def get_zero_shot_confidence(llm, statement, verbose=False):\n",
    "    complete_prompt = PREFIX + statement + SUFFIX\n",
    "    text = llm(complete_prompt)\n",
    "    if verbose:\n",
    "        print(\"--PROMPT--\")\n",
    "        print(complete_prompt)\n",
    "        print()\n",
    "\n",
    "        print(\"--MODEL RESPONSE--\")\n",
    "        print(text)\n",
    "        print(\"--FINAL PARSED OUTPUT CONFIDENCE PREDICTION--\")\n",
    "\n",
    "    # extract single-word confidence rating\n",
    "    if re.search(r\"low\", text, re.IGNORECASE):\n",
    "        return \"low\"\n",
    "    elif re.search(r\"medium\", text, re.IGNORECASE):\n",
    "        return \"medium\"\n",
    "    elif re.search(r\"very high\", text, re.IGNORECASE):\n",
    "        return \"very high\"\n",
    "    elif re.search(r\"high\", text, re.IGNORECASE):\n",
    "        return \"high\"\n",
    "    elif re.search(r\"i don't know\", text, re.IGNORECASE):\n",
    "        return \"idk\"\n",
    "    else:\n",
    "        return \"N/A\"\n",
    "\n",
    "example = train_set['statement'].sample(1)\n",
    "example = example.values[0]\n",
    "get_zero_shot_confidence(llm, example, verbose=True)"
   ]
  },
  {
   "cell_type": "markdown",
   "metadata": {},
   "source": [
    "## Run on the entire test set, save results"
   ]
  },
  {
   "cell_type": "code",
   "execution_count": 19,
   "metadata": {},
   "outputs": [],
   "source": [
    "samples = test_set.copy()\n",
    "\n",
    "samples['prediction'] = samples.statement.apply(lambda x: get_zero_shot_confidence(llm, x))"
   ]
  },
  {
   "cell_type": "code",
   "execution_count": 20,
   "metadata": {},
   "outputs": [
    {
     "name": "stdout",
     "output_type": "stream",
     "text": [
      "Accuracy: 0.333\n",
      "'I don't know': 0\n",
      "N/A: 0\n"
     ]
    }
   ],
   "source": [
    "samples['correct'] = samples.apply(\n",
    "    lambda row: (row['confidence'] == row['prediction']), axis=1)\n",
    "\n",
    "print(f\"Accuracy: {samples['correct'].sum() / (samples.shape[0]-len(samples[samples['prediction'] == 'idk'])):.3f}\")\n",
    "print(f\"'I don't know': {len(samples[samples['prediction'] == 'idk'])}\")\n",
    "print(f\"N/A: {len(samples[samples['prediction'] == 'N/A'])}\")"
   ]
  },
  {
   "cell_type": "code",
   "execution_count": 21,
   "metadata": {},
   "outputs": [],
   "source": [
    "samples.to_csv('./results/llama-2-chat-7b-zeroshot-temp0-2024-01-17.csv', index=False)"
   ]
  },
  {
   "cell_type": "code",
   "execution_count": 22,
   "metadata": {},
   "outputs": [
    {
     "data": {
      "text/html": [
       "<div>\n",
       "<style scoped>\n",
       "    .dataframe tbody tr th:only-of-type {\n",
       "        vertical-align: middle;\n",
       "    }\n",
       "\n",
       "    .dataframe tbody tr th {\n",
       "        vertical-align: top;\n",
       "    }\n",
       "\n",
       "    .dataframe thead th {\n",
       "        text-align: right;\n",
       "    }\n",
       "</style>\n",
       "<table border=\"1\" class=\"dataframe\">\n",
       "  <thead>\n",
       "    <tr style=\"text-align: right;\">\n",
       "      <th></th>\n",
       "      <th>statement_idx</th>\n",
       "      <th>report</th>\n",
       "      <th>page_num</th>\n",
       "      <th>sent_num</th>\n",
       "      <th>statement</th>\n",
       "      <th>confidence</th>\n",
       "      <th>score</th>\n",
       "      <th>split</th>\n",
       "      <th>prediction</th>\n",
       "      <th>correct</th>\n",
       "    </tr>\n",
       "  </thead>\n",
       "  <tbody>\n",
       "  </tbody>\n",
       "</table>\n",
       "</div>"
      ],
      "text/plain": [
       "Empty DataFrame\n",
       "Columns: [statement_idx, report, page_num, sent_num, statement, confidence, score, split, prediction, correct]\n",
       "Index: []"
      ]
     },
     "metadata": {},
     "output_type": "display_data"
    }
   ],
   "source": [
    "display(samples[samples['prediction'] == 'idk'])"
   ]
  },
  {
   "cell_type": "code",
   "execution_count": 23,
   "metadata": {},
   "outputs": [
    {
     "data": {
      "text/html": [
       "<div>\n",
       "<style scoped>\n",
       "    .dataframe tbody tr th:only-of-type {\n",
       "        vertical-align: middle;\n",
       "    }\n",
       "\n",
       "    .dataframe tbody tr th {\n",
       "        vertical-align: top;\n",
       "    }\n",
       "\n",
       "    .dataframe thead th {\n",
       "        text-align: right;\n",
       "    }\n",
       "</style>\n",
       "<table border=\"1\" class=\"dataframe\">\n",
       "  <thead>\n",
       "    <tr style=\"text-align: right;\">\n",
       "      <th></th>\n",
       "      <th>statement_idx</th>\n",
       "      <th>report</th>\n",
       "      <th>page_num</th>\n",
       "      <th>sent_num</th>\n",
       "      <th>statement</th>\n",
       "      <th>confidence</th>\n",
       "      <th>score</th>\n",
       "      <th>split</th>\n",
       "      <th>prediction</th>\n",
       "      <th>correct</th>\n",
       "    </tr>\n",
       "  </thead>\n",
       "  <tbody>\n",
       "  </tbody>\n",
       "</table>\n",
       "</div>"
      ],
      "text/plain": [
       "Empty DataFrame\n",
       "Columns: [statement_idx, report, page_num, sent_num, statement, confidence, score, split, prediction, correct]\n",
       "Index: []"
      ]
     },
     "metadata": {},
     "output_type": "display_data"
    }
   ],
   "source": [
    "display(samples[samples['prediction'] == 'N/A'])"
   ]
  },
  {
   "cell_type": "code",
   "execution_count": 27,
   "metadata": {},
   "outputs": [
    {
     "data": {
      "text/html": [
       "<div>\n",
       "<style scoped>\n",
       "    .dataframe tbody tr th:only-of-type {\n",
       "        vertical-align: middle;\n",
       "    }\n",
       "\n",
       "    .dataframe tbody tr th {\n",
       "        vertical-align: top;\n",
       "    }\n",
       "\n",
       "    .dataframe thead th {\n",
       "        text-align: right;\n",
       "    }\n",
       "</style>\n",
       "<table border=\"1\" class=\"dataframe\">\n",
       "  <thead>\n",
       "    <tr style=\"text-align: right;\">\n",
       "      <th></th>\n",
       "      <th>statement_idx</th>\n",
       "      <th>report</th>\n",
       "      <th>page_num</th>\n",
       "      <th>sent_num</th>\n",
       "      <th>statement</th>\n",
       "      <th>confidence</th>\n",
       "      <th>score</th>\n",
       "      <th>split</th>\n",
       "      <th>prediction</th>\n",
       "      <th>correct</th>\n",
       "    </tr>\n",
       "  </thead>\n",
       "  <tbody>\n",
       "    <tr>\n",
       "      <th>3</th>\n",
       "      <td>3</td>\n",
       "      <td>AR6_WGI</td>\n",
       "      <td>24</td>\n",
       "      <td>2</td>\n",
       "      <td>Since 1750, increases in CO2 (47%) and CH4 (15...</td>\n",
       "      <td>very high</td>\n",
       "      <td>3</td>\n",
       "      <td>test</td>\n",
       "      <td>high</td>\n",
       "      <td>False</td>\n",
       "    </tr>\n",
       "    <tr>\n",
       "      <th>42</th>\n",
       "      <td>42</td>\n",
       "      <td>AR6_WGI</td>\n",
       "      <td>37</td>\n",
       "      <td>16</td>\n",
       "      <td>Over the next 2000 years, global mean sea leve...</td>\n",
       "      <td>low</td>\n",
       "      <td>0</td>\n",
       "      <td>test</td>\n",
       "      <td>high</td>\n",
       "      <td>False</td>\n",
       "    </tr>\n",
       "    <tr>\n",
       "      <th>77</th>\n",
       "      <td>77</td>\n",
       "      <td>AR6_WGI</td>\n",
       "      <td>47</td>\n",
       "      <td>7</td>\n",
       "      <td>By the end of the century, scenarios with very...</td>\n",
       "      <td>high</td>\n",
       "      <td>2</td>\n",
       "      <td>test</td>\n",
       "      <td>high</td>\n",
       "      <td>True</td>\n",
       "    </tr>\n",
       "    <tr>\n",
       "      <th>81</th>\n",
       "      <td>81</td>\n",
       "      <td>AR6_WGI</td>\n",
       "      <td>62</td>\n",
       "      <td>2</td>\n",
       "      <td>Over the past millennium, and especially since...</td>\n",
       "      <td>medium</td>\n",
       "      <td>1</td>\n",
       "      <td>test</td>\n",
       "      <td>low</td>\n",
       "      <td>False</td>\n",
       "    </tr>\n",
       "    <tr>\n",
       "      <th>86</th>\n",
       "      <td>86</td>\n",
       "      <td>AR6_WGI</td>\n",
       "      <td>63</td>\n",
       "      <td>8</td>\n",
       "      <td>The paleo context supports the assessment that...</td>\n",
       "      <td>high</td>\n",
       "      <td>2</td>\n",
       "      <td>test</td>\n",
       "      <td>high</td>\n",
       "      <td>True</td>\n",
       "    </tr>\n",
       "    <tr>\n",
       "      <th>...</th>\n",
       "      <td>...</td>\n",
       "      <td>...</td>\n",
       "      <td>...</td>\n",
       "      <td>...</td>\n",
       "      <td>...</td>\n",
       "      <td>...</td>\n",
       "      <td>...</td>\n",
       "      <td>...</td>\n",
       "      <td>...</td>\n",
       "      <td>...</td>\n",
       "    </tr>\n",
       "    <tr>\n",
       "      <th>8024</th>\n",
       "      <td>8024</td>\n",
       "      <td>AR6_WGIII</td>\n",
       "      <td>1827</td>\n",
       "      <td>13</td>\n",
       "      <td>REDD+ can significantly contribute to climate ...</td>\n",
       "      <td>high</td>\n",
       "      <td>2</td>\n",
       "      <td>test</td>\n",
       "      <td>high</td>\n",
       "      <td>True</td>\n",
       "    </tr>\n",
       "    <tr>\n",
       "      <th>8056</th>\n",
       "      <td>8056</td>\n",
       "      <td>AR6_WGIII</td>\n",
       "      <td>2011</td>\n",
       "      <td>5</td>\n",
       "      <td>Large-scale bioenergy projects with CCS may be...</td>\n",
       "      <td>medium</td>\n",
       "      <td>1</td>\n",
       "      <td>test</td>\n",
       "      <td>low</td>\n",
       "      <td>False</td>\n",
       "    </tr>\n",
       "    <tr>\n",
       "      <th>8067</th>\n",
       "      <td>8067</td>\n",
       "      <td>AR6_WGIII</td>\n",
       "      <td>2012</td>\n",
       "      <td>8</td>\n",
       "      <td>Reforestation and forest restoration can have ...</td>\n",
       "      <td>medium</td>\n",
       "      <td>1</td>\n",
       "      <td>test</td>\n",
       "      <td>high</td>\n",
       "      <td>False</td>\n",
       "    </tr>\n",
       "    <tr>\n",
       "      <th>8086</th>\n",
       "      <td>8086</td>\n",
       "      <td>AR6_WGIII</td>\n",
       "      <td>2016</td>\n",
       "      <td>8</td>\n",
       "      <td>BEVs could create jobs associated with the EV ...</td>\n",
       "      <td>low</td>\n",
       "      <td>0</td>\n",
       "      <td>test</td>\n",
       "      <td>high</td>\n",
       "      <td>False</td>\n",
       "    </tr>\n",
       "    <tr>\n",
       "      <th>8093</th>\n",
       "      <td>8093</td>\n",
       "      <td>AR6_WGIII</td>\n",
       "      <td>2058</td>\n",
       "      <td>21</td>\n",
       "      <td>For pathways that limit warming to 2°C (&gt;67%) ...</td>\n",
       "      <td>high</td>\n",
       "      <td>2</td>\n",
       "      <td>test</td>\n",
       "      <td>high</td>\n",
       "      <td>True</td>\n",
       "    </tr>\n",
       "  </tbody>\n",
       "</table>\n",
       "<p>300 rows × 10 columns</p>\n",
       "</div>"
      ],
      "text/plain": [
       "      statement_idx     report  page_num  sent_num  \\\n",
       "3                 3    AR6_WGI        24         2   \n",
       "42               42    AR6_WGI        37        16   \n",
       "77               77    AR6_WGI        47         7   \n",
       "81               81    AR6_WGI        62         2   \n",
       "86               86    AR6_WGI        63         8   \n",
       "...             ...        ...       ...       ...   \n",
       "8024           8024  AR6_WGIII      1827        13   \n",
       "8056           8056  AR6_WGIII      2011         5   \n",
       "8067           8067  AR6_WGIII      2012         8   \n",
       "8086           8086  AR6_WGIII      2016         8   \n",
       "8093           8093  AR6_WGIII      2058        21   \n",
       "\n",
       "                                              statement confidence  score  \\\n",
       "3     Since 1750, increases in CO2 (47%) and CH4 (15...  very high      3   \n",
       "42    Over the next 2000 years, global mean sea leve...        low      0   \n",
       "77    By the end of the century, scenarios with very...       high      2   \n",
       "81    Over the past millennium, and especially since...     medium      1   \n",
       "86    The paleo context supports the assessment that...       high      2   \n",
       "...                                                 ...        ...    ...   \n",
       "8024  REDD+ can significantly contribute to climate ...       high      2   \n",
       "8056  Large-scale bioenergy projects with CCS may be...     medium      1   \n",
       "8067  Reforestation and forest restoration can have ...     medium      1   \n",
       "8086  BEVs could create jobs associated with the EV ...        low      0   \n",
       "8093  For pathways that limit warming to 2°C (>67%) ...       high      2   \n",
       "\n",
       "     split prediction  correct  \n",
       "3     test       high    False  \n",
       "42    test       high    False  \n",
       "77    test       high     True  \n",
       "81    test        low    False  \n",
       "86    test       high     True  \n",
       "...    ...        ...      ...  \n",
       "8024  test       high     True  \n",
       "8056  test        low    False  \n",
       "8067  test       high    False  \n",
       "8086  test       high    False  \n",
       "8093  test       high     True  \n",
       "\n",
       "[300 rows x 10 columns]"
      ]
     },
     "metadata": {},
     "output_type": "display_data"
    }
   ],
   "source": [
    "display(samples)"
   ]
  },
  {
   "cell_type": "markdown",
   "metadata": {},
   "source": [
    "## Precision, recall, and F1 score"
   ]
  },
  {
   "cell_type": "code",
   "execution_count": 24,
   "metadata": {},
   "outputs": [
    {
     "name": "stdout",
     "output_type": "stream",
     "text": [
      "Macro F1 score: 0.18689728945475562\n",
      "Weighted F1 score: 0.21966052096077116\n",
      "Accuracy (total): 0.3333333333333333\n",
      "              precision    recall  f1-score   support\n",
      "\n",
      "        high     0.3490    0.8900    0.5014       100\n",
      "         low     0.2414    0.1400    0.1772        50\n",
      "      medium     0.2500    0.0400    0.0690       100\n",
      "   very high     0.0000    0.0000    0.0000        50\n",
      "\n",
      "    accuracy                         0.3333       300\n",
      "   macro avg     0.2101    0.2675    0.1869       300\n",
      "weighted avg     0.2399    0.3333    0.2197       300\n",
      "\n",
      "confidence\n",
      "high         100\n",
      "medium       100\n",
      "very high     50\n",
      "low           50\n",
      "Name: count, dtype: int64\n"
     ]
    },
    {
     "name": "stderr",
     "output_type": "stream",
     "text": [
      "/Users/kerriewu/opt/anaconda3/envs/climate-llms-langchain/lib/python3.12/site-packages/sklearn/metrics/_classification.py:1471: UndefinedMetricWarning: Precision is ill-defined and being set to 0.0 in labels with no predicted samples. Use `zero_division` parameter to control this behavior.\n",
      "  _warn_prf(average, modifier, msg_start, len(result))\n",
      "/Users/kerriewu/opt/anaconda3/envs/climate-llms-langchain/lib/python3.12/site-packages/sklearn/metrics/_classification.py:1471: UndefinedMetricWarning: Precision and F-score are ill-defined and being set to 0.0 in labels with no predicted samples. Use `zero_division` parameter to control this behavior.\n",
      "  _warn_prf(average, modifier, msg_start, len(result))\n",
      "/Users/kerriewu/opt/anaconda3/envs/climate-llms-langchain/lib/python3.12/site-packages/sklearn/metrics/_classification.py:1471: UndefinedMetricWarning: Precision and F-score are ill-defined and being set to 0.0 in labels with no predicted samples. Use `zero_division` parameter to control this behavior.\n",
      "  _warn_prf(average, modifier, msg_start, len(result))\n",
      "/Users/kerriewu/opt/anaconda3/envs/climate-llms-langchain/lib/python3.12/site-packages/sklearn/metrics/_classification.py:1471: UndefinedMetricWarning: Precision and F-score are ill-defined and being set to 0.0 in labels with no predicted samples. Use `zero_division` parameter to control this behavior.\n",
      "  _warn_prf(average, modifier, msg_start, len(result))\n"
     ]
    }
   ],
   "source": [
    "from sklearn.metrics import f1_score, precision_score, recall_score, accuracy_score, classification_report\n",
    "\n",
    "true_labels = samples.loc[(samples['prediction'] != 'N/A') & (samples['prediction'] != 'idk'), 'confidence']\n",
    "predicted_labels = samples.loc[(samples['prediction'] != 'N/A') & (samples['prediction'] != 'idk'), 'prediction']\n",
    "\n",
    "# Compute macro F1 score\n",
    "f1 = f1_score(true_labels, predicted_labels, average='macro')\n",
    "print(\"Macro F1 score:\", f1)\n",
    "\n",
    "# Compute weighted F1 score\n",
    "f1 = f1_score(true_labels, predicted_labels, average='weighted')\n",
    "print(\"Weighted F1 score:\", f1)\n",
    "\n",
    "# Compute precision for each class\n",
    "precision = precision_score(true_labels, predicted_labels, average=None)\n",
    "\n",
    "# Compute recall for each class\n",
    "recall = recall_score(true_labels, predicted_labels, average=None)\n",
    "\n",
    "# Compute F1 score for each class\n",
    "f1 = f1_score(true_labels, predicted_labels, average=None)\n",
    "\n",
    "# Create a dataframe to store precision and recall for each class\n",
    "class_metrics_df = pd.DataFrame({'Precision': precision, 'Recall': recall, 'F1': f1})\n",
    "\n",
    "# Add labels to the class metrics dataframe\n",
    "class_metrics_df['Class'] = true_labels.unique().astype(str)\n",
    "\n",
    "# Sort the dataframe by class index or name\n",
    "class_metrics_df = class_metrics_df.sort_values('Class', key=lambda x: pd.Categorical(x, categories=[\"low\", \"medium\", \"high\", \"very high\"]))\n",
    "\n",
    "# Print class metrics dataframe\n",
    "#print(class_metrics_df)\n",
    "\n",
    "# Compute accuracy for the whole system\n",
    "accuracy = accuracy_score(true_labels, predicted_labels)\n",
    "\n",
    "# Compute accuracy by class\n",
    "\n",
    "print(\"Accuracy (total):\", accuracy)\n",
    "\n",
    "report = classification_report(true_labels, predicted_labels, digits=4)\n",
    "print(report)\n",
    "\n",
    "# Count classes\n",
    "category_counts = true_labels.value_counts()\n",
    "print(category_counts)\n",
    "\n"
   ]
  },
  {
   "cell_type": "markdown",
   "metadata": {},
   "source": [
    "## Over/under confidence assessment"
   ]
  },
  {
   "cell_type": "code",
   "execution_count": 25,
   "metadata": {},
   "outputs": [
    {
     "name": "stdout",
     "output_type": "stream",
     "text": [
      "=== All AR6 reports===\n",
      "Average ground truth score: 1.5\n",
      "Average predicted score: 1.7533333333333334\n",
      "Average scores per category: {'low': 1.58, 'medium': 1.74, 'high': 1.83, 'very high': 1.8}\n",
      "\n",
      "=== AR6 WGI report ===\n",
      "Average ground truth score: 1.3157894736842106\n",
      "Average predicted score: 1.7578947368421052\n",
      "Average scores per category: {'low': 1.5, 'medium': 1.6571428571428573, 'high': 1.9666666666666666, 'very high': 2.0}\n",
      "\n",
      "=== AR6 WGII/III reports ===\n",
      "Average ground truth score: 1.5853658536585367\n",
      "Average predicted score: 1.751219512195122\n",
      "Average scores per category: {'low': 1.6333333333333333, 'medium': 1.7846153846153847, 'high': 1.7714285714285714, 'very high': 1.75}\n",
      "\n"
     ]
    }
   ],
   "source": [
    "# Filter samples\n",
    "fs = samples.loc[(samples['prediction'] != 'N/A') & (samples['prediction'] != 'idk')] \n",
    "\n",
    "# Compute a certainty score\n",
    "value_map = {'low': 0, 'medium': 1, 'high': 2, 'very high': 3}\n",
    "\n",
    "fs['predicted_score'] = fs.prediction.apply(\n",
    "    lambda x: value_map[x])\n",
    "\n",
    "# Break down scores\n",
    "scores_all = {\n",
    "    \"low\": fs.loc[fs['score'] == 0, 'predicted_score'].mean(),\n",
    "    \"medium\": fs.loc[fs['score'] == 1, 'predicted_score'].mean(),\n",
    "    \"high\": fs.loc[fs['score'] == 2, 'predicted_score'].mean(),\n",
    "    \"very high\": fs.loc[fs['score'] == 3, 'predicted_score'].mean()\n",
    "}\n",
    "\n",
    "scores_wg1 = {\n",
    "    \"low\": fs.loc[(fs['score'] == 0) & (fs['report'] == 'AR6_WGI'), 'predicted_score'].mean(),\n",
    "    \"medium\": fs.loc[(fs['score'] == 1) & (fs['report'] == 'AR6_WGI'), 'predicted_score'].mean(),\n",
    "    \"high\": fs.loc[(fs['score'] == 2) & (fs['report'] == 'AR6_WGI'), 'predicted_score'].mean(),\n",
    "    \"very high\": fs.loc[(fs['score'] == 3) & (fs['report'] == 'AR6_WGI'), 'predicted_score'].mean()\n",
    "}\n",
    "\n",
    "scores_wg23 = {\n",
    "    \"low\": fs.loc[(fs['score'] == 0) & (fs['report'] != 'AR6_WGI'), 'predicted_score'].mean(),\n",
    "    \"medium\": fs.loc[(fs['score'] == 1) & (fs['report'] != 'AR6_WGI'), 'predicted_score'].mean(),\n",
    "    \"high\": fs.loc[(fs['score'] == 2) & (fs['report'] != 'AR6_WGI'), 'predicted_score'].mean(),\n",
    "    \"very high\": fs.loc[(fs['score'] == 3) & (fs['report'] != 'AR6_WGI'), 'predicted_score'].mean()\n",
    "}\n",
    "\n",
    "print(\"=== All AR6 reports===\")\n",
    "print(f\"Average ground truth score: {samples['score'].mean()}\")\n",
    "print(f\"Average predicted score: {fs['predicted_score'].mean()}\")\n",
    "print(f\"Average scores per category: {scores_all}\\n\")\n",
    "\n",
    "print(\"=== AR6 WGI report ===\")\n",
    "print(f\"Average ground truth score: {samples.loc[samples['report'] == 'AR6_WGI', 'score'].mean()}\")\n",
    "print(f\"Average predicted score: {fs.loc[fs['report'] == 'AR6_WGI', 'predicted_score'].mean()}\")\n",
    "print(f\"Average scores per category: {scores_wg1}\\n\")\n",
    "\n",
    "print(\"=== AR6 WGII/III reports ===\")\n",
    "print(f\"Average ground truth score: {samples.loc[samples['report'] != 'AR6_WGI', 'score'].mean()}\")\n",
    "print(f\"Average predicted score: {fs.loc[fs['report'] != 'AR6_WGI', 'predicted_score'].mean()}\")\n",
    "print(f\"Average scores per category: {scores_wg23}\\n\")"
   ]
  },
  {
   "cell_type": "code",
   "execution_count": 26,
   "metadata": {},
   "outputs": [
    {
     "data": {
      "image/png": "[encoded data removed]",
      "text/plain": [
       "<Figure size 640x480 with 1 Axes>"
      ]
     },
     "metadata": {},
     "output_type": "display_data"
    }
   ],
   "source": [
    "import seaborn as sns\n",
    "import matplotlib.pyplot as plt\n",
    "import numpy as np\n",
    "\n",
    "# Define the data\n",
    "\n",
    "# Extract labels and values from the data dictionary\n",
    "labels = list(scores_all.keys())\n",
    "values_all = list(scores_all.values())\n",
    "values_wg1 = list(scores_wg1.values())\n",
    "values_wg23 = list(scores_wg23.values())\n",
    "\n",
    "# Define the custom labels for the x-axis\n",
    "x_labels = ['0 (Low)', '1 (Medium)', '2 (High)', '3 (Very high)']\n",
    "\n",
    "# Create the line plot with labeled curve\n",
    "sns.lineplot(x=labels, y=values_all, label='Average prediction')\n",
    "sns.lineplot(x=labels, y=values_wg1, linestyle='--', color=\"steelblue\", label='WG1 report')\n",
    "sns.lineplot(x=labels, y=values_wg23, linestyle='dotted', color=\"steelblue\", label='WG2 & WG3 report')\n",
    "\n",
    "\n",
    "# Add the ground truth line (y = x)\n",
    "x = np.arange(len(labels))\n",
    "plt.plot(x, x, linestyle='--', color='red', label='Ground truth')\n",
    "\n",
    "# Customize the x-axis tick labels\n",
    "plt.xticks(labels, x_labels)\n",
    "\n",
    "# Set the y-axis limits\n",
    "plt.ylim(0, 3)\n",
    "\n",
    "# Set the title and labels\n",
    "plt.title(\"Average predicted certainty level per class\")\n",
    "plt.xlabel(\"Label\")\n",
    "plt.ylabel(\"Value\")\n",
    "\n",
    "# Show the legend\n",
    "plt.legend()\n",
    "\n",
    "# Show the plot\n",
    "plt.show()"
   ]
  },
  {
   "cell_type": "markdown",
   "metadata": {},
   "source": [
    "## Try Few-shot prompting"
   ]
  },
  {
   "cell_type": "code",
   "execution_count": 28,
   "metadata": {},
   "outputs": [],
   "source": [
    "PREFIX = \"<s>[INST] <<SYS>> You are a knowledgeable climate science assistant trained to assess the confidence level associated with various statements about climate change. <<SYS>> You will be presented with a statement about climate science, climate impacts or climate change mitigation which is retrieved or paraphrased from the IPCC AR6 WGI, WGII or WGIII assessment reports. Climate scientists have evaluated that statement as low confidence, medium confidence, high confidence, or very high confidence, based on evidence (type, amount, quantity, consistency) and agreement among their peers. What is their confidence level? Respond *only* with one of the following words: 'low', 'medium', 'high', 'very high'. If you don't know, you can respond 'I don't know'. \"\n",
    "SUFFIX = \" Confidence: [/INST] \"\n"
   ]
  },
  {
   "cell_type": "code",
   "execution_count": 29,
   "metadata": {},
   "outputs": [],
   "source": [
    "EXAMPLE_TEMPLATE = \"\"\" Statement: {example_statement} Confidence: {example_label} \"\"\""
   ]
  },
  {
   "cell_type": "markdown",
   "metadata": {},
   "source": [
    "### One prompt example"
   ]
  },
  {
   "cell_type": "code",
   "execution_count": 31,
   "metadata": {},
   "outputs": [
    {
     "name": "stdout",
     "output_type": "stream",
     "text": [
      "--PROMPT--\n",
      "<s>[INST] <<SYS>> You are a knowledgeable climate science assistant trained to assess the confidence level associated with various statements about climate change. <<SYS>> You will be presented with a statement about climate science, climate impacts or climate change mitigation which is retrieved or paraphrased from the IPCC AR6 WGI, WGII or WGIII assessment reports. Climate scientists have evaluated that statement as low confidence, medium confidence, high confidence, or very high confidence, based on evidence (type, amount, quantity, consistency) and agreement among their peers. What is their confidence level? Respond *only* with one of the following words: 'low', 'medium', 'high', 'very high'. If you don't know, you can respond 'I don't know'. Statement:  <examples>  Statement: Participatory, inclusive governance approaches such as adaptive co-management or community-based planning, which integrate those groups who rely on these ecosystems (e.g., Indigenous Peoples, local communities), support equitable and effective adaptation outcomes Confidence: high  Statement: For most RKRs, potentially global and systemically pervasive risks become severe in the case of high levels of warming, combined with high exposure/vulnerability, low adaptation or both Confidence: high  Statement: However, the performance of these techniques depends on that of the driving climate model: in particular, bias adjustment cannot overcome all consequences of unresolved or strongly misrepresented physical processes, such as large-scale circulation biases or local feedbacks Confidence: medium  </examples> The combined effects of local subsidence and GMSL rise result in a significant increase in the potential for inundation of low-lying deltas across all RCPs, with some variation according to regional sea level change rates, without significant further adaptation measures Confidence: [/INST] \n",
      "\n",
      "--MODEL RESPONSE--\n",
      "Sure, I'm ready to help! Based on the statements you provided, here are the confidence levels associated with each one:\n",
      "\n",
      "1. Participatory, inclusive governance approaches such as adaptive co-management or community-based planning, which integrate those groups who rely on these ecosystems (e.g., Indigenous Peoples, local communities), support equitable and effective adaptation outcomes: High confidence\n",
      "2. For most RKRs, potentially global and systemically pervasive risks become severe in the case of high levels of warming, combined with high exposure/vulnerability, low adaptation or both: High confidence\n",
      "3. However, the performance of these techniques depends on that of the driving climate model: in particular, bias adjustment cannot overcome all consequences of unresolved or strongly misrepresented physical processes, such as large-scale circulation biases or local feedbacks: Medium confidence\n",
      "4. The combined effects of local subsidence and GMSL rise result in a significant increase in the potential for inundation of low-lying deltas across all RCPs, with some variation according to regional sea level change rates, without significant further adaptation measures: High confidence\n",
      "--FINAL PARSED OUTPUT CONFIDENCE PREDICTION--\n"
     ]
    },
    {
     "data": {
      "text/plain": [
       "'low'"
      ]
     },
     "execution_count": 31,
     "metadata": {},
     "output_type": "execute_result"
    }
   ],
   "source": [
    "def get_few_shot_confidence(llm, statement, n_examples=3, verbose=False):\n",
    "    assert n_examples > 0, \"Please use n_examples > 0 or choose get zero_shot_confidence\"\n",
    "    selected_examples = train_set.sample(n_examples)\n",
    "    examples = \" <examples> \"\n",
    "    for e, l in zip(selected_examples.statement, selected_examples.confidence):\n",
    "        examples += EXAMPLE_TEMPLATE.format(example_statement = e, example_label=l)\n",
    "    examples += \" </examples> \"\n",
    "    \n",
    "    complete_prompt = PREFIX + examples + ' Statement: ' + statement + SUFFIX\n",
    "    text = llm(complete_prompt)\n",
    "    if verbose:\n",
    "        print(\"--PROMPT--\")\n",
    "        print(complete_prompt)\n",
    "        print()\n",
    "\n",
    "        print(\"--MODEL RESPONSE--\")\n",
    "        print(text)\n",
    "        print(\"--FINAL PARSED OUTPUT CONFIDENCE PREDICTION--\")\n",
    "\n",
    "    # extract single-word confidence rating\n",
    "    if re.search(r\"low\", text, re.IGNORECASE):\n",
    "        return \"low\"\n",
    "    elif re.search(r\"medium\", text, re.IGNORECASE):\n",
    "        return \"medium\"\n",
    "    elif re.search(r\"very high\", text, re.IGNORECASE):\n",
    "        return \"very high\"\n",
    "    elif re.search(r\"high\", text, re.IGNORECASE):\n",
    "        return \"high\"\n",
    "    elif re.search(r\"i don't know\", text, re.IGNORECASE):\n",
    "        return \"idk\"\n",
    "    else:\n",
    "        return \"N/A\"\n",
    "\n",
    "statement = train_set['statement'].sample(1)\n",
    "statement = statement.values[0]\n",
    "get_few_shot_confidence(llm, statement, n_examples = 3, verbose=True)"
   ]
  },
  {
   "cell_type": "markdown",
   "metadata": {},
   "source": [
    "## Run on the entire test set, save results"
   ]
  },
  {
   "cell_type": "code",
   "execution_count": 18,
   "metadata": {},
   "outputs": [],
   "source": [
    "\n",
    "samples = test_set.copy()\n",
    "\n",
    "samples['prediction'] = samples.statement.apply(lambda x: get_few_shot_confidence(llm, FEW_SHOT_PROMPT, EXAMPLE_TEMPLATE, x, n_examples = 3))"
   ]
  },
  {
   "cell_type": "code",
   "execution_count": 19,
   "metadata": {},
   "outputs": [
    {
     "name": "stdout",
     "output_type": "stream",
     "text": [
      "Accuracy: 0.110\n",
      "'I don't know': 0\n",
      "N/A: 175\n"
     ]
    }
   ],
   "source": [
    "samples['correct'] = samples.apply(\n",
    "    lambda row: (row['confidence'] == row['prediction']), axis=1)\n",
    "\n",
    "print(f\"Accuracy: {samples['correct'].sum() / (samples.shape[0]-len(samples[samples['prediction'] == 'idk'])):.3f}\")\n",
    "print(f\"'I don't know': {len(samples[samples['prediction'] == 'idk'])}\")\n",
    "print(f\"N/A: {len(samples[samples['prediction'] == 'N/A'])}\")"
   ]
  },
  {
   "cell_type": "code",
   "execution_count": 20,
   "metadata": {},
   "outputs": [],
   "source": [
    "samples.to_csv('./results/llama-2-chat-7b-fewshot-temp0-2024-01-17.csv', index=False)"
   ]
  },
  {
   "cell_type": "markdown",
   "metadata": {},
   "source": [
    "## Precision, recall, and F1 score"
   ]
  },
  {
   "cell_type": "code",
   "execution_count": 21,
   "metadata": {},
   "outputs": [
    {
     "name": "stdout",
     "output_type": "stream",
     "text": [
      "Macro F1 score: 0.24220268287328567\n",
      "Weighted F1 score: 0.23571468647818\n",
      "Accuracy (total): 0.264\n",
      "              precision    recall  f1-score   support\n",
      "\n",
      "        high     0.6000    0.0625    0.1132        48\n",
      "         low     0.1923    0.5263    0.2817        19\n",
      "      medium     0.3810    0.4211    0.4000        38\n",
      "   very high     0.1538    0.2000    0.1739        20\n",
      "\n",
      "    accuracy                         0.2640       125\n",
      "   macro avg     0.3318    0.3025    0.2422       125\n",
      "weighted avg     0.4001    0.2640    0.2357       125\n",
      "\n",
      "confidence\n",
      "high         48\n",
      "medium       38\n",
      "very high    20\n",
      "low          19\n",
      "Name: count, dtype: int64\n"
     ]
    }
   ],
   "source": [
    "from sklearn.metrics import f1_score, precision_score, recall_score, accuracy_score, classification_report\n",
    "\n",
    "true_labels = samples.loc[(samples['prediction'] != 'N/A') & (samples['prediction'] != 'idk'), 'confidence']\n",
    "predicted_labels = samples.loc[(samples['prediction'] != 'N/A') & (samples['prediction'] != 'idk'), 'prediction']\n",
    "\n",
    "# Compute macro F1 score\n",
    "f1 = f1_score(true_labels, predicted_labels, average='macro')\n",
    "print(\"Macro F1 score:\", f1)\n",
    "\n",
    "# Compute weighted F1 score\n",
    "f1 = f1_score(true_labels, predicted_labels, average='weighted')\n",
    "print(\"Weighted F1 score:\", f1)\n",
    "\n",
    "# Compute precision for each class\n",
    "precision = precision_score(true_labels, predicted_labels, average=None)\n",
    "\n",
    "# Compute recall for each class\n",
    "recall = recall_score(true_labels, predicted_labels, average=None)\n",
    "\n",
    "# Compute F1 score for each class\n",
    "f1 = f1_score(true_labels, predicted_labels, average=None)\n",
    "\n",
    "# Create a dataframe to store precision and recall for each class\n",
    "class_metrics_df = pd.DataFrame({'Precision': precision, 'Recall': recall, 'F1': f1})\n",
    "\n",
    "# Add labels to the class metrics dataframe\n",
    "class_metrics_df['Class'] = true_labels.unique().astype(str)\n",
    "\n",
    "# Sort the dataframe by class index or name\n",
    "class_metrics_df = class_metrics_df.sort_values('Class', key=lambda x: pd.Categorical(x, categories=[\"low\", \"medium\", \"high\", \"very high\"]))\n",
    "\n",
    "# Print class metrics dataframe\n",
    "#print(class_metrics_df)\n",
    "\n",
    "# Compute accuracy for the whole system\n",
    "accuracy = accuracy_score(true_labels, predicted_labels)\n",
    "\n",
    "# Compute accuracy by class\n",
    "\n",
    "print(\"Accuracy (total):\", accuracy)\n",
    "\n",
    "report = classification_report(true_labels, predicted_labels, digits=4)\n",
    "print(report)\n",
    "\n",
    "# Count classes\n",
    "category_counts = true_labels.value_counts()\n",
    "print(category_counts)\n",
    "\n"
   ]
  },
  {
   "cell_type": "markdown",
   "metadata": {},
   "source": [
    "## Over/under confidence assessment"
   ]
  },
  {
   "cell_type": "code",
   "execution_count": 22,
   "metadata": {},
   "outputs": [
    {
     "name": "stdout",
     "output_type": "stream",
     "text": [
      "=== All AR6 reports===\n",
      "Average ground truth score: 1.5\n",
      "Average predicted score: 1.04\n",
      "Average scores per category: {'low': 1.0, 'medium': 1.105263157894737, 'high': 1.0416666666666667, 'very high': 0.95}\n",
      "\n",
      "=== AR6 WGI report ===\n",
      "Average ground truth score: 1.3157894736842106\n",
      "Average predicted score: 1.0714285714285714\n",
      "Average scores per category: {'low': 0.5555555555555556, 'medium': 1.35, 'high': 1.2222222222222223, 'very high': 0.6666666666666666}\n",
      "\n",
      "=== AR6 WGII/III reports ===\n",
      "Average ground truth score: 1.5853658536585367\n",
      "Average predicted score: 1.0144927536231885\n",
      "Average scores per category: {'low': 1.4, 'medium': 0.8333333333333334, 'high': 0.9333333333333333, 'very high': 1.1818181818181819}\n",
      "\n"
     ]
    },
    {
     "name": "stderr",
     "output_type": "stream",
     "text": [
      "/var/folders/zw/vnb4lkhd14n9cx0d71_qh_z00000gn/T/ipykernel_29226/201967900.py:7: SettingWithCopyWarning: \n",
      "A value is trying to be set on a copy of a slice from a DataFrame.\n",
      "Try using .loc[row_indexer,col_indexer] = value instead\n",
      "\n",
      "See the caveats in the documentation: https://pandas.pydata.org/pandas-docs/stable/user_guide/indexing.html#returning-a-view-versus-a-copy\n",
      "  fs['predicted_score'] = fs.prediction.apply(\n"
     ]
    }
   ],
   "source": [
    "# Filter samples\n",
    "fs = samples.loc[(samples['prediction'] != 'N/A') & (samples['prediction'] != 'idk')] \n",
    "\n",
    "# Compute a certainty score\n",
    "value_map = {'low': 0, 'medium': 1, 'high': 2, 'very high': 3}\n",
    "\n",
    "fs['predicted_score'] = fs.prediction.apply(\n",
    "    lambda x: value_map[x])\n",
    "\n",
    "# Break down scores\n",
    "scores_all = {\n",
    "    \"low\": fs.loc[fs['score'] == 0, 'predicted_score'].mean(),\n",
    "    \"medium\": fs.loc[fs['score'] == 1, 'predicted_score'].mean(),\n",
    "    \"high\": fs.loc[fs['score'] == 2, 'predicted_score'].mean(),\n",
    "    \"very high\": fs.loc[fs['score'] == 3, 'predicted_score'].mean()\n",
    "}\n",
    "\n",
    "scores_wg1 = {\n",
    "    \"low\": fs.loc[(fs['score'] == 0) & (fs['report'] == 'AR6_WGI'), 'predicted_score'].mean(),\n",
    "    \"medium\": fs.loc[(fs['score'] == 1) & (fs['report'] == 'AR6_WGI'), 'predicted_score'].mean(),\n",
    "    \"high\": fs.loc[(fs['score'] == 2) & (fs['report'] == 'AR6_WGI'), 'predicted_score'].mean(),\n",
    "    \"very high\": fs.loc[(fs['score'] == 3) & (fs['report'] == 'AR6_WGI'), 'predicted_score'].mean()\n",
    "}\n",
    "\n",
    "scores_wg23 = {\n",
    "    \"low\": fs.loc[(fs['score'] == 0) & (fs['report'] != 'AR6_WGI'), 'predicted_score'].mean(),\n",
    "    \"medium\": fs.loc[(fs['score'] == 1) & (fs['report'] != 'AR6_WGI'), 'predicted_score'].mean(),\n",
    "    \"high\": fs.loc[(fs['score'] == 2) & (fs['report'] != 'AR6_WGI'), 'predicted_score'].mean(),\n",
    "    \"very high\": fs.loc[(fs['score'] == 3) & (fs['report'] != 'AR6_WGI'), 'predicted_score'].mean()\n",
    "}\n",
    "\n",
    "print(\"=== All AR6 reports===\")\n",
    "print(f\"Average ground truth score: {samples['score'].mean()}\")\n",
    "print(f\"Average predicted score: {fs['predicted_score'].mean()}\")\n",
    "print(f\"Average scores per category: {scores_all}\\n\")\n",
    "\n",
    "print(\"=== AR6 WGI report ===\")\n",
    "print(f\"Average ground truth score: {samples.loc[samples['report'] == 'AR6_WGI', 'score'].mean()}\")\n",
    "print(f\"Average predicted score: {fs.loc[fs['report'] == 'AR6_WGI', 'predicted_score'].mean()}\")\n",
    "print(f\"Average scores per category: {scores_wg1}\\n\")\n",
    "\n",
    "print(\"=== AR6 WGII/III reports ===\")\n",
    "print(f\"Average ground truth score: {samples.loc[samples['report'] != 'AR6_WGI', 'score'].mean()}\")\n",
    "print(f\"Average predicted score: {fs.loc[fs['report'] != 'AR6_WGI', 'predicted_score'].mean()}\")\n",
    "print(f\"Average scores per category: {scores_wg23}\\n\")"
   ]
  },
  {
   "cell_type": "code",
   "execution_count": 23,
   "metadata": {},
   "outputs": [
    {
     "data": {
      "image/png": "[encoded data removed]",
      "text/plain": [
       "<Figure size 640x480 with 1 Axes>"
      ]
     },
     "metadata": {},
     "output_type": "display_data"
    }
   ],
   "source": [
    "import seaborn as sns\n",
    "import matplotlib.pyplot as plt\n",
    "import numpy as np\n",
    "\n",
    "# Define the data\n",
    "\n",
    "# Extract labels and values from the data dictionary\n",
    "labels = list(scores_all.keys())\n",
    "values_all = list(scores_all.values())\n",
    "values_wg1 = list(scores_wg1.values())\n",
    "values_wg23 = list(scores_wg23.values())\n",
    "\n",
    "# Define the custom labels for the x-axis\n",
    "x_labels = ['0 (Low)', '1 (Medium)', '2 (High)', '3 (Very high)']\n",
    "\n",
    "# Create the line plot with labeled curve\n",
    "sns.lineplot(x=labels, y=values_all, label='Average prediction')\n",
    "sns.lineplot(x=labels, y=values_wg1, linestyle='--', color=\"steelblue\", label='WG1 report')\n",
    "sns.lineplot(x=labels, y=values_wg23, linestyle='dotted', color=\"steelblue\", label='WG2 & WG3 report')\n",
    "\n",
    "\n",
    "# Add the ground truth line (y = x)\n",
    "x = np.arange(len(labels))\n",
    "plt.plot(x, x, linestyle='--', color='red', label='Ground truth')\n",
    "\n",
    "# Customize the x-axis tick labels\n",
    "plt.xticks(labels, x_labels)\n",
    "\n",
    "# Set the y-axis limits\n",
    "plt.ylim(0, 3)\n",
    "\n",
    "# Set the title and labels\n",
    "plt.title(\"Average predicted certainty level per class\")\n",
    "plt.xlabel(\"Label\")\n",
    "plt.ylabel(\"Value\")\n",
    "\n",
    "# Show the legend\n",
    "plt.legend()\n",
    "\n",
    "# Show the plot\n",
    "plt.show()"
   ]
  },
  {
   "cell_type": "code",
   "execution_count": null,
   "metadata": {},
   "outputs": [],
   "source": []
  },
  {
   "cell_type": "code",
   "execution_count": null,
   "metadata": {},
   "outputs": [],
   "source": []
  }
 ],
 "metadata": {
  "kernelspec": {
   "display_name": "climate-llms-langchain",
   "language": "python",
   "name": "python3"
  },
  "language_info": {
   "codemirror_mode": {
    "name": "ipython",
    "version": 3
   },
   "file_extension": ".py",
   "mimetype": "text/x-python",
   "name": "python",
   "nbconvert_exporter": "python",
   "pygments_lexer": "ipython3",
   "version": "3.12.0"
  }
 },
 "nbformat": 4,
 "nbformat_minor": 2
}
