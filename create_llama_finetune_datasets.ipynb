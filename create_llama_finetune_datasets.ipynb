{
 "cells": [
  {
   "cell_type": "markdown",
   "metadata": {},
   "source": [
    "# Finetune Llama 2 with Together AI\n",
    "\n",
    "See https://docs.together.ai/docs/fine-tuning-python#prepare-your-data and https://colab.research.google.com/drive/11DwtftycpDSgp3Z1vnV-Cy68zvkGZL4K?usp=sharing for reference."
   ]
  },
  {
   "cell_type": "code",
   "execution_count": 1,
   "metadata": {},
   "outputs": [
    {
     "name": "stdout",
     "output_type": "stream",
     "text": [
      "Collecting datasets\n",
      "  Downloading datasets-2.16.1-py3-none-any.whl.metadata (20 kB)\n",
      "Collecting filelock (from datasets)\n",
      "  Downloading filelock-3.13.1-py3-none-any.whl.metadata (2.8 kB)\n",
      "Requirement already satisfied: numpy>=1.17 in /Users/kerriewu/opt/anaconda3/envs/climate-llms-langchain/lib/python3.12/site-packages (from datasets) (1.26.2)\n",
      "Collecting pyarrow>=8.0.0 (from datasets)\n",
      "  Downloading pyarrow-14.0.2-cp312-cp312-macosx_10_14_x86_64.whl.metadata (3.0 kB)\n",
      "Collecting pyarrow-hotfix (from datasets)\n",
      "  Downloading pyarrow_hotfix-0.6-py3-none-any.whl.metadata (3.6 kB)\n",
      "Collecting dill<0.3.8,>=0.3.0 (from datasets)\n",
      "  Downloading dill-0.3.7-py3-none-any.whl.metadata (9.9 kB)\n",
      "Requirement already satisfied: pandas in /Users/kerriewu/opt/anaconda3/envs/climate-llms-langchain/lib/python3.12/site-packages (from datasets) (2.1.4)\n",
      "Requirement already satisfied: requests>=2.19.0 in /Users/kerriewu/opt/anaconda3/envs/climate-llms-langchain/lib/python3.12/site-packages (from datasets) (2.31.0)\n",
      "Collecting tqdm>=4.62.1 (from datasets)\n",
      "  Downloading tqdm-4.66.1-py3-none-any.whl.metadata (57 kB)\n",
      "\u001b[2K     \u001b[90m━━━━━━━━━━━━━━━━━━━━━━━━━━━━━━━━━━━━━━━━\u001b[0m \u001b[32m57.6/57.6 kB\u001b[0m \u001b[31m1.6 MB/s\u001b[0m eta \u001b[36m0:00:00\u001b[0m\n",
      "\u001b[?25hCollecting xxhash (from datasets)\n",
      "  Downloading xxhash-3.4.1-cp312-cp312-macosx_10_9_x86_64.whl.metadata (12 kB)\n",
      "Collecting multiprocess (from datasets)\n",
      "  Downloading multiprocess-0.70.15-py311-none-any.whl.metadata (7.2 kB)\n",
      "Collecting fsspec<=2023.10.0,>=2023.1.0 (from fsspec[http]<=2023.10.0,>=2023.1.0->datasets)\n",
      "  Downloading fsspec-2023.10.0-py3-none-any.whl.metadata (6.8 kB)\n",
      "Requirement already satisfied: aiohttp in /Users/kerriewu/opt/anaconda3/envs/climate-llms-langchain/lib/python3.12/site-packages (from datasets) (3.9.1)\n",
      "Collecting huggingface-hub>=0.19.4 (from datasets)\n",
      "  Downloading huggingface_hub-0.20.2-py3-none-any.whl.metadata (12 kB)\n",
      "Requirement already satisfied: packaging in /Users/kerriewu/opt/anaconda3/envs/climate-llms-langchain/lib/python3.12/site-packages (from datasets) (23.2)\n",
      "Requirement already satisfied: pyyaml>=5.1 in /Users/kerriewu/opt/anaconda3/envs/climate-llms-langchain/lib/python3.12/site-packages (from datasets) (6.0.1)\n",
      "Requirement already satisfied: attrs>=17.3.0 in /Users/kerriewu/opt/anaconda3/envs/climate-llms-langchain/lib/python3.12/site-packages (from aiohttp->datasets) (23.1.0)\n",
      "Requirement already satisfied: multidict<7.0,>=4.5 in /Users/kerriewu/opt/anaconda3/envs/climate-llms-langchain/lib/python3.12/site-packages (from aiohttp->datasets) (6.0.4)\n",
      "Requirement already satisfied: yarl<2.0,>=1.0 in /Users/kerriewu/opt/anaconda3/envs/climate-llms-langchain/lib/python3.12/site-packages (from aiohttp->datasets) (1.9.3)\n",
      "Requirement already satisfied: frozenlist>=1.1.1 in /Users/kerriewu/opt/anaconda3/envs/climate-llms-langchain/lib/python3.12/site-packages (from aiohttp->datasets) (1.4.1)\n",
      "Requirement already satisfied: aiosignal>=1.1.2 in /Users/kerriewu/opt/anaconda3/envs/climate-llms-langchain/lib/python3.12/site-packages (from aiohttp->datasets) (1.3.1)\n",
      "Requirement already satisfied: typing-extensions>=3.7.4.3 in /Users/kerriewu/opt/anaconda3/envs/climate-llms-langchain/lib/python3.12/site-packages (from huggingface-hub>=0.19.4->datasets) (4.9.0)\n",
      "Requirement already satisfied: charset-normalizer<4,>=2 in /Users/kerriewu/opt/anaconda3/envs/climate-llms-langchain/lib/python3.12/site-packages (from requests>=2.19.0->datasets) (3.3.2)\n",
      "Requirement already satisfied: idna<4,>=2.5 in /Users/kerriewu/opt/anaconda3/envs/climate-llms-langchain/lib/python3.12/site-packages (from requests>=2.19.0->datasets) (3.6)\n",
      "Requirement already satisfied: urllib3<3,>=1.21.1 in /Users/kerriewu/opt/anaconda3/envs/climate-llms-langchain/lib/python3.12/site-packages (from requests>=2.19.0->datasets) (2.1.0)\n",
      "Requirement already satisfied: certifi>=2017.4.17 in /Users/kerriewu/opt/anaconda3/envs/climate-llms-langchain/lib/python3.12/site-packages (from requests>=2.19.0->datasets) (2023.11.17)\n",
      "Requirement already satisfied: python-dateutil>=2.8.2 in /Users/kerriewu/opt/anaconda3/envs/climate-llms-langchain/lib/python3.12/site-packages (from pandas->datasets) (2.8.2)\n",
      "Requirement already satisfied: pytz>=2020.1 in /Users/kerriewu/opt/anaconda3/envs/climate-llms-langchain/lib/python3.12/site-packages (from pandas->datasets) (2023.3.post1)\n",
      "Requirement already satisfied: tzdata>=2022.1 in /Users/kerriewu/opt/anaconda3/envs/climate-llms-langchain/lib/python3.12/site-packages (from pandas->datasets) (2023.3)\n",
      "Requirement already satisfied: six>=1.5 in /Users/kerriewu/opt/anaconda3/envs/climate-llms-langchain/lib/python3.12/site-packages (from python-dateutil>=2.8.2->pandas->datasets) (1.16.0)\n",
      "Downloading datasets-2.16.1-py3-none-any.whl (507 kB)\n",
      "\u001b[2K   \u001b[90m━━━━━━━━━━━━━━━━━━━━━━━━━━━━━━━━━━━━━━━━\u001b[0m \u001b[32m507.1/507.1 kB\u001b[0m \u001b[31m7.6 MB/s\u001b[0m eta \u001b[36m0:00:00\u001b[0m:00:01\u001b[0m\n",
      "\u001b[?25hDownloading dill-0.3.7-py3-none-any.whl (115 kB)\n",
      "\u001b[2K   \u001b[90m━━━━━━━━━━━━━━━━━━━━━━━━━━━━━━━━━━━━━━━━\u001b[0m \u001b[32m115.3/115.3 kB\u001b[0m \u001b[31m3.5 MB/s\u001b[0m eta \u001b[36m0:00:00\u001b[0m\n",
      "\u001b[?25hDownloading fsspec-2023.10.0-py3-none-any.whl (166 kB)\n",
      "\u001b[2K   \u001b[90m━━━━━━━━━━━━━━━━━━━━━━━━━━━━━━━━━━━━━━━━\u001b[0m \u001b[32m166.4/166.4 kB\u001b[0m \u001b[31m5.5 MB/s\u001b[0m eta \u001b[36m0:00:00\u001b[0m\n",
      "\u001b[?25hDownloading huggingface_hub-0.20.2-py3-none-any.whl (330 kB)\n",
      "\u001b[2K   \u001b[90m━━━━━━━━━━━━━━━━━━━━━━━━━━━━━━━━━━━━━━━━\u001b[0m \u001b[32m330.3/330.3 kB\u001b[0m \u001b[31m10.6 MB/s\u001b[0m eta \u001b[36m0:00:00\u001b[0m\n",
      "\u001b[?25hDownloading pyarrow-14.0.2-cp312-cp312-macosx_10_14_x86_64.whl (26.8 MB)\n",
      "\u001b[2K   \u001b[90m━━━━━━━━━━━━━━━━━━━━━━━━━━━━━━━━━━━━━━━━\u001b[0m \u001b[32m26.8/26.8 MB\u001b[0m \u001b[31m35.8 MB/s\u001b[0m eta \u001b[36m0:00:00\u001b[0m00:01\u001b[0m00:01\u001b[0m\n",
      "\u001b[?25hDownloading tqdm-4.66.1-py3-none-any.whl (78 kB)\n",
      "\u001b[2K   \u001b[90m━━━━━━━━━━━━━━━━━━━━━━━━━━━━━━━━━━━━━━━━\u001b[0m \u001b[32m78.3/78.3 kB\u001b[0m \u001b[31m2.6 MB/s\u001b[0m eta \u001b[36m0:00:00\u001b[0m\n",
      "\u001b[?25hDownloading filelock-3.13.1-py3-none-any.whl (11 kB)\n",
      "Downloading multiprocess-0.70.15-py311-none-any.whl (135 kB)\n",
      "\u001b[2K   \u001b[90m━━━━━━━━━━━━━━━━━━━━━━━━━━━━━━━━━━━━━━━━\u001b[0m \u001b[32m135.4/135.4 kB\u001b[0m \u001b[31m4.8 MB/s\u001b[0m eta \u001b[36m0:00:00\u001b[0m\n",
      "\u001b[?25hDownloading pyarrow_hotfix-0.6-py3-none-any.whl (7.9 kB)\n",
      "Downloading xxhash-3.4.1-cp312-cp312-macosx_10_9_x86_64.whl (31 kB)\n",
      "Installing collected packages: xxhash, tqdm, pyarrow-hotfix, pyarrow, fsspec, filelock, dill, multiprocess, huggingface-hub, datasets\n",
      "Successfully installed datasets-2.16.1 dill-0.3.7 filelock-3.13.1 fsspec-2023.10.0 huggingface-hub-0.20.2 multiprocess-0.70.15 pyarrow-14.0.2 pyarrow-hotfix-0.6 tqdm-4.66.1 xxhash-3.4.1\n",
      "Collecting together\n",
      "  Downloading together-0.2.10-py3-none-any.whl.metadata (26 kB)\n",
      "Requirement already satisfied: pydantic<3.0.0,>=2.5.0 in /Users/kerriewu/opt/anaconda3/envs/climate-llms-langchain/lib/python3.12/site-packages (from together) (2.5.2)\n",
      "Requirement already satisfied: requests<3.0.0,>=2.31.0 in /Users/kerriewu/opt/anaconda3/envs/climate-llms-langchain/lib/python3.12/site-packages (from together) (2.31.0)\n",
      "Collecting sseclient-py<2.0.0,>=1.7.2 (from together)\n",
      "  Downloading sseclient_py-1.8.0-py2.py3-none-any.whl.metadata (2.0 kB)\n",
      "Collecting tabulate<0.10.0,>=0.9.0 (from together)\n",
      "  Downloading tabulate-0.9.0-py3-none-any.whl (35 kB)\n",
      "Requirement already satisfied: tqdm<5.0.0,>=4.66.1 in /Users/kerriewu/opt/anaconda3/envs/climate-llms-langchain/lib/python3.12/site-packages (from together) (4.66.1)\n",
      "Collecting typer<0.10.0,>=0.9.0 (from together)\n",
      "  Downloading typer-0.9.0-py3-none-any.whl (45 kB)\n",
      "\u001b[2K     \u001b[90m━━━━━━━━━━━━━━━━━━━━━━━━━━━━━━━━━━━━━━━━\u001b[0m \u001b[32m45.9/45.9 kB\u001b[0m \u001b[31m1.3 MB/s\u001b[0m eta \u001b[36m0:00:00\u001b[0m\n",
      "\u001b[?25hRequirement already satisfied: annotated-types>=0.4.0 in /Users/kerriewu/opt/anaconda3/envs/climate-llms-langchain/lib/python3.12/site-packages (from pydantic<3.0.0,>=2.5.0->together) (0.6.0)\n",
      "Requirement already satisfied: pydantic-core==2.14.5 in /Users/kerriewu/opt/anaconda3/envs/climate-llms-langchain/lib/python3.12/site-packages (from pydantic<3.0.0,>=2.5.0->together) (2.14.5)\n",
      "Requirement already satisfied: typing-extensions>=4.6.1 in /Users/kerriewu/opt/anaconda3/envs/climate-llms-langchain/lib/python3.12/site-packages (from pydantic<3.0.0,>=2.5.0->together) (4.9.0)\n",
      "Requirement already satisfied: charset-normalizer<4,>=2 in /Users/kerriewu/opt/anaconda3/envs/climate-llms-langchain/lib/python3.12/site-packages (from requests<3.0.0,>=2.31.0->together) (3.3.2)\n",
      "Requirement already satisfied: idna<4,>=2.5 in /Users/kerriewu/opt/anaconda3/envs/climate-llms-langchain/lib/python3.12/site-packages (from requests<3.0.0,>=2.31.0->together) (3.6)\n",
      "Requirement already satisfied: urllib3<3,>=1.21.1 in /Users/kerriewu/opt/anaconda3/envs/climate-llms-langchain/lib/python3.12/site-packages (from requests<3.0.0,>=2.31.0->together) (2.1.0)\n",
      "Requirement already satisfied: certifi>=2017.4.17 in /Users/kerriewu/opt/anaconda3/envs/climate-llms-langchain/lib/python3.12/site-packages (from requests<3.0.0,>=2.31.0->together) (2023.11.17)\n",
      "Collecting click<9.0.0,>=7.1.1 (from typer<0.10.0,>=0.9.0->together)\n",
      "  Downloading click-8.1.7-py3-none-any.whl.metadata (3.0 kB)\n",
      "Downloading together-0.2.10-py3-none-any.whl (43 kB)\n",
      "\u001b[2K   \u001b[90m━━━━━━━━━━━━━━━━━━━━━━━━━━━━━━━━━━━━━━━━\u001b[0m \u001b[32m43.0/43.0 kB\u001b[0m \u001b[31m1.2 MB/s\u001b[0m eta \u001b[36m0:00:00\u001b[0m\n",
      "\u001b[?25hDownloading sseclient_py-1.8.0-py2.py3-none-any.whl (8.8 kB)\n",
      "Downloading click-8.1.7-py3-none-any.whl (97 kB)\n",
      "\u001b[2K   \u001b[90m━━━━━━━━━━━━━━━━━━━━━━━━━━━━━━━━━━━━━━━━\u001b[0m \u001b[32m97.9/97.9 kB\u001b[0m \u001b[31m2.8 MB/s\u001b[0m eta \u001b[36m0:00:00\u001b[0m\n",
      "\u001b[?25hInstalling collected packages: sseclient-py, tabulate, click, typer, together\n",
      "Successfully installed click-8.1.7 sseclient-py-1.8.0 tabulate-0.9.0 together-0.2.10 typer-0.9.0\n"
     ]
    }
   ],
   "source": [
    "!pip install datasets\n",
    "!pip install --upgrade together"
   ]
  },
  {
   "cell_type": "code",
   "execution_count": 3,
   "metadata": {},
   "outputs": [
    {
     "name": "stderr",
     "output_type": "stream",
     "text": [
      "/Users/kerriewu/opt/anaconda3/envs/climate-llms-langchain/lib/python3.12/site-packages/tqdm/auto.py:21: TqdmWarning: IProgress not found. Please update jupyter and ipywidgets. See https://ipywidgets.readthedocs.io/en/stable/user_install.html\n",
      "  from .autonotebook import tqdm as notebook_tqdm\n"
     ]
    },
    {
     "data": {
      "text/plain": [
       "True"
      ]
     },
     "execution_count": 3,
     "metadata": {},
     "output_type": "execute_result"
    }
   ],
   "source": [
    "from datasets import load_dataset\n",
    "import together\n",
    "import pandas as pd \n",
    "import re\n",
    "import os\n",
    "\n",
    "from dotenv import load_dotenv      # Put TOGETHER_API_KEY and WANDB_API_KEY in .env file \n",
    "load_dotenv()\n"
   ]
  },
  {
   "cell_type": "code",
   "execution_count": 20,
   "metadata": {},
   "outputs": [],
   "source": [
    "base_model_name = \"togethercomputer/llama-2-7b-chat\""
   ]
  },
  {
   "cell_type": "markdown",
   "metadata": {},
   "source": [
    "## Load test set and train set, save into standard format. \n",
    "\n",
    "See the reference links above for details.\n",
    "\n",
    "Format: \n",
    "```\n",
    "{'text': \"<s>[INST] <<SYS>> You are a knowledgeable climate science assistant trained to assess the confidence level associated with various statements about climate change. <</SYS>> You will be presented with a statement about climate science, climate impacts or climate change mitigation which is retrieved or paraphrased from the IPCC AR6 WGI, WGII or WGIII assessment reports. Climate scientists have evaluated that statement as low confidence, medium confidence, high confidence, or very high confidence, based on evidence (type, amount, quantity, consistency) and agreement among their peers. What is their confidence level? Respond *only* with one of the following words: 'low', 'medium', 'high', 'very high'. If you don't know, you can respond 'I don't know'. Statement: Since 2011 (measurements reported in AR5), concentrations have continued to increase in the atmosphere, reaching annual averages of 410 parts per million (ppm) for carbon dioxide (CO 2), 1866 parts per billion (ppb) for methane (CH 4), and 332 ppb for nitrous oxide (N 2O) in 2019.6 Land and ocean have taken up a near-constant proportion (globally about 56% per year) of CO 2 emissions from human activities over the past six decades, with regional differences Confidence: [/INST] high </s>\"}\n",
    "```"
   ]
  },
  {
   "cell_type": "code",
   "execution_count": 4,
   "metadata": {},
   "outputs": [
    {
     "data": {
      "text/html": [
       "<div>\n",
       "<style scoped>\n",
       "    .dataframe tbody tr th:only-of-type {\n",
       "        vertical-align: middle;\n",
       "    }\n",
       "\n",
       "    .dataframe tbody tr th {\n",
       "        vertical-align: top;\n",
       "    }\n",
       "\n",
       "    .dataframe thead th {\n",
       "        text-align: right;\n",
       "    }\n",
       "</style>\n",
       "<table border=\"1\" class=\"dataframe\">\n",
       "  <thead>\n",
       "    <tr style=\"text-align: right;\">\n",
       "      <th></th>\n",
       "      <th>statement_idx</th>\n",
       "      <th>report</th>\n",
       "      <th>page_num</th>\n",
       "      <th>sent_num</th>\n",
       "      <th>statement</th>\n",
       "      <th>confidence</th>\n",
       "      <th>score</th>\n",
       "      <th>split</th>\n",
       "    </tr>\n",
       "  </thead>\n",
       "  <tbody>\n",
       "    <tr>\n",
       "      <th>3</th>\n",
       "      <td>3</td>\n",
       "      <td>AR6_WGI</td>\n",
       "      <td>24</td>\n",
       "      <td>2</td>\n",
       "      <td>Since 1750, increases in CO2 (47%) and CH4 (15...</td>\n",
       "      <td>very high</td>\n",
       "      <td>3</td>\n",
       "      <td>test</td>\n",
       "    </tr>\n",
       "    <tr>\n",
       "      <th>42</th>\n",
       "      <td>42</td>\n",
       "      <td>AR6_WGI</td>\n",
       "      <td>37</td>\n",
       "      <td>16</td>\n",
       "      <td>Over the next 2000 years, global mean sea leve...</td>\n",
       "      <td>low</td>\n",
       "      <td>0</td>\n",
       "      <td>test</td>\n",
       "    </tr>\n",
       "    <tr>\n",
       "      <th>77</th>\n",
       "      <td>77</td>\n",
       "      <td>AR6_WGI</td>\n",
       "      <td>47</td>\n",
       "      <td>7</td>\n",
       "      <td>By the end of the century, scenarios with very...</td>\n",
       "      <td>high</td>\n",
       "      <td>2</td>\n",
       "      <td>test</td>\n",
       "    </tr>\n",
       "    <tr>\n",
       "      <th>81</th>\n",
       "      <td>81</td>\n",
       "      <td>AR6_WGI</td>\n",
       "      <td>62</td>\n",
       "      <td>2</td>\n",
       "      <td>Over the past millennium, and especially since...</td>\n",
       "      <td>medium</td>\n",
       "      <td>1</td>\n",
       "      <td>test</td>\n",
       "    </tr>\n",
       "    <tr>\n",
       "      <th>86</th>\n",
       "      <td>86</td>\n",
       "      <td>AR6_WGI</td>\n",
       "      <td>63</td>\n",
       "      <td>8</td>\n",
       "      <td>The paleo context supports the assessment that...</td>\n",
       "      <td>high</td>\n",
       "      <td>2</td>\n",
       "      <td>test</td>\n",
       "    </tr>\n",
       "  </tbody>\n",
       "</table>\n",
       "</div>"
      ],
      "text/plain": [
       "    statement_idx   report  page_num  sent_num  \\\n",
       "3               3  AR6_WGI        24         2   \n",
       "42             42  AR6_WGI        37        16   \n",
       "77             77  AR6_WGI        47         7   \n",
       "81             81  AR6_WGI        62         2   \n",
       "86             86  AR6_WGI        63         8   \n",
       "\n",
       "                                            statement confidence  score split  \n",
       "3   Since 1750, increases in CO2 (47%) and CH4 (15...  very high      3  test  \n",
       "42  Over the next 2000 years, global mean sea leve...        low      0  test  \n",
       "77  By the end of the century, scenarios with very...       high      2  test  \n",
       "81  Over the past millennium, and especially since...     medium      1  test  \n",
       "86  The paleo context supports the assessment that...       high      2  test  "
      ]
     },
     "execution_count": 4,
     "metadata": {},
     "output_type": "execute_result"
    }
   ],
   "source": [
    "df = pd.read_csv('./data/ipcc_statements_dataset.tsv', sep='\\t', skiprows=0)\n",
    "\n",
    "train_set = df.loc[df['split'] == 'train']\n",
    "test_set = df.loc[df['split'] == 'test']\n",
    "\n",
    "test_set.head()"
   ]
  },
  {
   "cell_type": "code",
   "execution_count": 6,
   "metadata": {},
   "outputs": [
    {
     "name": "stdout",
     "output_type": "stream",
     "text": [
      "Since 2011 (measurements reported in AR5), concentrations have continued to increase in the atmosphere, reaching annual averages of 410 parts per million (ppm) for carbon dioxide (CO 2), 1866 parts per billion (ppb) for methane (CH 4), and 332 ppb for nitrous oxide (N 2O) in 2019.6 Land and ocean have taken up a near-constant proportion (globally about 56% per year) of CO 2 emissions from human activities over the past six decades, with regional differences\n",
      "high\n"
     ]
    }
   ],
   "source": [
    "# print a sample\n",
    "print(train_set.iloc[0]['statement'])\n",
    "print(train_set.iloc[0]['confidence'])\n"
   ]
  },
  {
   "cell_type": "code",
   "execution_count": 10,
   "metadata": {},
   "outputs": [
    {
     "name": "stderr",
     "output_type": "stream",
     "text": [
      "/var/folders/zw/vnb4lkhd14n9cx0d71_qh_z00000gn/T/ipykernel_11924/1383013760.py:7: SettingWithCopyWarning: \n",
      "A value is trying to be set on a copy of a slice from a DataFrame.\n",
      "Try using .loc[row_indexer,col_indexer] = value instead\n",
      "\n",
      "See the caveats in the documentation: https://pandas.pydata.org/pandas-docs/stable/user_guide/indexing.html#returning-a-view-versus-a-copy\n",
      "  train_set['formatted_jsonl'] = train_set.apply(lambda x: {'text': PREFIX + x['statement'] + SUFFIX + x['confidence'] + END}, axis=1)\n"
     ]
    }
   ],
   "source": [
    "train_set_lines = []\n",
    "\n",
    "PREFIX = \"<s>[INST] <<SYS>> You are a knowledgeable climate science assistant trained to assess the confidence level associated with various statements about climate change. <</SYS>> You will be presented with a statement about climate science, climate impacts or climate change mitigation which is retrieved or paraphrased from the IPCC AR6 WGI, WGII or WGIII assessment reports. Climate scientists have evaluated that statement as low confidence, medium confidence, high confidence, or very high confidence, based on evidence (type, amount, quantity, consistency) and agreement among their peers. What is their confidence level? Respond *only* with one of the following words: 'low', 'medium', 'high', 'very high'. If you don't know, you can respond 'I don't know'. Statement: \"\n",
    "SUFFIX = \" Confidence: [/INST] \"\n",
    "END = \" </s>\"\n",
    "\n",
    "train_set['formatted_jsonl'] = train_set.apply(lambda x: {'text': PREFIX + x['statement'] + SUFFIX + x['confidence'] + END}, axis=1)\n"
   ]
  },
  {
   "cell_type": "code",
   "execution_count": 14,
   "metadata": {},
   "outputs": [
    {
     "name": "stdout",
     "output_type": "stream",
     "text": [
      "[{'text': \"<s>[INST] <<SYS>> You are a knowledgeable climate science assistant trained to assess the confidence level associated with various statements about climate change. <<SYS>> You will be presented with a statement about climate science, climate impacts or climate change mitigation which is retrieved or paraphrased from the IPCC AR6 WGI, WGII or WGIII assessment reports. Climate scientists have evaluated that statement as low confidence, medium confidence, high confidence, or very high confidence, based on evidence (type, amount, quantity, consistency) and agreement among their peers. What is their confidence level? Respond *only* with one of the following words: 'low', 'medium', 'high', 'very high'. If you don't know, you can respond 'I don't know'. Statement: Ice cores show increases in aerosols across the Northern Hemisphere mid-latitudes since 1700 and reductions since the late 20th century Confidence: [/INST] high </s>\"}]\n"
     ]
    }
   ],
   "source": [
    "print(train_set['formatted_jsonl'].sample(1).values)    "
   ]
  },
  {
   "cell_type": "code",
   "execution_count": 15,
   "metadata": {},
   "outputs": [],
   "source": [
    "train_set['formatted_jsonl'].to_json('./data/climatex_train_set.jsonl', orient='records', lines=True)"
   ]
  },
  {
   "cell_type": "code",
   "execution_count": 16,
   "metadata": {},
   "outputs": [
    {
     "name": "stdout",
     "output_type": "stream",
     "text": [
      "{'is_check_passed': True, 'model_special_tokens': 'we are not yet checking end of sentence tokens for this model', 'file_present': 'File found', 'file_size': 'File size 0.007 GB', 'num_samples': 7794}\n"
     ]
    }
   ],
   "source": [
    "# check your data with your base model prompting type before uploading\n",
    "resp = together.Files.check(file='./data/climatex_train_set.jsonl')\n",
    "print(resp)"
   ]
  },
  {
   "cell_type": "code",
   "execution_count": 18,
   "metadata": {},
   "outputs": [
    {
     "name": "stdout",
     "output_type": "stream",
     "text": [
      "<s>[INST] <<SYS>> You are a knowledgeable climate science assistant trained to assess the confidence level associated with various statements about climate change. <<SYS>> You will be presented with a statement about climate science, climate impacts or climate change mitigation which is retrieved or paraphrased from the IPCC AR6 WGI, WGII or WGIII assessment reports. Climate scientists have evaluated that statement as low confidence, medium confidence, high confidence, or very high confidence, based on evidence (type, amount, quantity, consistency) and agreement among their peers. What is their confidence level? Respond *only* with one of the following words: 'low', 'medium', 'high', 'very high'. If you don't know, you can respond 'I don't know'. Statement: Learning and experimentation across governance boundaries and between agencies and local communities enable adaptation to be better aligned with changing climate risks and community Confidence: [/INST]\n"
     ]
    }
   ],
   "source": [
    "# Try it before finetuning: \n",
    "test_prompt = train_set['formatted_jsonl'].sample(1).values[0]['text'].split('[/INST]')[0]\n",
    "test_prompt += '[/INST]'\n",
    "print(test_prompt)"
   ]
  },
  {
   "cell_type": "code",
   "execution_count": 22,
   "metadata": {},
   "outputs": [
    {
     "name": "stdout",
     "output_type": "stream",
     "text": [
      "<s>[INST] <<SYS>> You are a knowledgeable climate science assistant trained to assess the confidence level associated with various statements about climate change. <<SYS>> You will be presented with a statement about climate science, climate impacts or climate change mitigation which is retrieved or paraphrased from the IPCC AR6 WGI, WGII or WGIII assessment reports. Climate scientists have evaluated that statement as low confidence, medium confidence, high confidence, or very high confidence, based on evidence (type, amount, quantity, consistency) and agreement among their peers. What is their confidence level? Respond *only* with one of the following words: 'low', 'medium', 'high', 'very high'. If you don't know, you can respond 'I don't know'. Statement: Learning and experimentation across governance boundaries and between agencies and local communities enable adaptation to be better aligned with changing climate risks and community Confidence: [/INST] ->  Based on the statement you provided, the confidence level associated with it is:\n",
      "\n",
      "* High confidence\n"
     ]
    }
   ],
   "source": [
    "output = together.Complete.create(\n",
    "  prompt = test_prompt,\n",
    "  model = base_model_name,\n",
    "  max_tokens = 256,\n",
    "  temperature = 0.0,\n",
    "#   top_k = 90,\n",
    "#   top_p = 0.8,\n",
    "#   repetition_penalty = 1.1,\n",
    "  stop = ['</s>', '[/INST]']\n",
    ")\n",
    "\n",
    "# print generated text\n",
    "print(output['prompt'][0]+\" -> \"+output['output']['choices'][0]['text'])"
   ]
  },
  {
   "cell_type": "code",
   "execution_count": 62,
   "metadata": {},
   "outputs": [
    {
     "name": "stderr",
     "output_type": "stream",
     "text": [
      "Uploading ./data/climatex_train_set.jsonl: 100%|██████████| 7.54M/7.54M [00:00<00:00, 8.24MB/s]"
     ]
    },
    {
     "name": "stdout",
     "output_type": "stream",
     "text": [
      "{'filename': 'climatex_train_set.jsonl', 'id': 'file-a3655a4e-8662-4c04-bcb2-8c55c8af3761', 'object': 'file', 'report_dict': {'is_check_passed': True, 'model_special_tokens': 'we are not yet checking end of sentence tokens for this model', 'file_present': 'File found', 'file_size': 'File size 0.007 GB', 'num_samples': 7794}}\n"
     ]
    },
    {
     "name": "stderr",
     "output_type": "stream",
     "text": [
      "\n"
     ]
    }
   ],
   "source": [
    "file_resp = together.Files.upload(file='./data/climatex_train_set.jsonl')\n",
    "file_id = file_resp['id']\n",
    "print(file_resp)"
   ]
  },
  {
   "cell_type": "markdown",
   "metadata": {},
   "source": [
    "### Make a short train set for troubleshooting training first"
   ]
  },
  {
   "cell_type": "code",
   "execution_count": 51,
   "metadata": {},
   "outputs": [
    {
     "data": {
      "text/html": [
       "<div>\n",
       "<style scoped>\n",
       "    .dataframe tbody tr th:only-of-type {\n",
       "        vertical-align: middle;\n",
       "    }\n",
       "\n",
       "    .dataframe tbody tr th {\n",
       "        vertical-align: top;\n",
       "    }\n",
       "\n",
       "    .dataframe thead th {\n",
       "        text-align: right;\n",
       "    }\n",
       "</style>\n",
       "<table border=\"1\" class=\"dataframe\">\n",
       "  <thead>\n",
       "    <tr style=\"text-align: right;\">\n",
       "      <th></th>\n",
       "      <th>statement_idx</th>\n",
       "      <th>report</th>\n",
       "      <th>page_num</th>\n",
       "      <th>sent_num</th>\n",
       "      <th>statement</th>\n",
       "      <th>confidence</th>\n",
       "      <th>score</th>\n",
       "      <th>split</th>\n",
       "      <th>formatted_jsonl</th>\n",
       "    </tr>\n",
       "  </thead>\n",
       "  <tbody>\n",
       "    <tr>\n",
       "      <th>0</th>\n",
       "      <td>0</td>\n",
       "      <td>AR6_WGI</td>\n",
       "      <td>20</td>\n",
       "      <td>22</td>\n",
       "      <td>Since 2011 (measurements reported in AR5), con...</td>\n",
       "      <td>high</td>\n",
       "      <td>2</td>\n",
       "      <td>train</td>\n",
       "      <td>{'text': '&lt;s&gt;[INST] &lt;&lt;SYS&gt;&gt; You are a knowledg...</td>\n",
       "    </tr>\n",
       "    <tr>\n",
       "      <th>1</th>\n",
       "      <td>1</td>\n",
       "      <td>AR6_WGI</td>\n",
       "      <td>21</td>\n",
       "      <td>8</td>\n",
       "      <td>Mid-latitude storm tracks have likely shifted ...</td>\n",
       "      <td>medium</td>\n",
       "      <td>1</td>\n",
       "      <td>train</td>\n",
       "      <td>{'text': '&lt;s&gt;[INST] &lt;&lt;SYS&gt;&gt; You are a knowledg...</td>\n",
       "    </tr>\n",
       "    <tr>\n",
       "      <th>2</th>\n",
       "      <td>2</td>\n",
       "      <td>AR6_WGI</td>\n",
       "      <td>21</td>\n",
       "      <td>18</td>\n",
       "      <td>The average rate of sea level rise was 1.3 [0....</td>\n",
       "      <td>high</td>\n",
       "      <td>2</td>\n",
       "      <td>train</td>\n",
       "      <td>{'text': '&lt;s&gt;[INST] &lt;&lt;SYS&gt;&gt; You are a knowledg...</td>\n",
       "    </tr>\n",
       "    <tr>\n",
       "      <th>4</th>\n",
       "      <td>4</td>\n",
       "      <td>AR6_WGI</td>\n",
       "      <td>24</td>\n",
       "      <td>4</td>\n",
       "      <td>Temperatures during the most recent decade (20...</td>\n",
       "      <td>medium</td>\n",
       "      <td>1</td>\n",
       "      <td>train</td>\n",
       "      <td>{'text': '&lt;s&gt;[INST] &lt;&lt;SYS&gt;&gt; You are a knowledg...</td>\n",
       "    </tr>\n",
       "    <tr>\n",
       "      <th>5</th>\n",
       "      <td>5</td>\n",
       "      <td>AR6_WGI</td>\n",
       "      <td>24</td>\n",
       "      <td>5</td>\n",
       "      <td>Prior to that, the next most recent warm perio...</td>\n",
       "      <td>medium</td>\n",
       "      <td>1</td>\n",
       "      <td>train</td>\n",
       "      <td>{'text': '&lt;s&gt;[INST] &lt;&lt;SYS&gt;&gt; You are a knowledg...</td>\n",
       "    </tr>\n",
       "    <tr>\n",
       "      <th>...</th>\n",
       "      <td>...</td>\n",
       "      <td>...</td>\n",
       "      <td>...</td>\n",
       "      <td>...</td>\n",
       "      <td>...</td>\n",
       "      <td>...</td>\n",
       "      <td>...</td>\n",
       "      <td>...</td>\n",
       "      <td>...</td>\n",
       "    </tr>\n",
       "    <tr>\n",
       "      <th>101</th>\n",
       "      <td>101</td>\n",
       "      <td>AR6_WGI</td>\n",
       "      <td>66</td>\n",
       "      <td>17</td>\n",
       "      <td>Hot extremes also continued to increase during...</td>\n",
       "      <td>high</td>\n",
       "      <td>2</td>\n",
       "      <td>train</td>\n",
       "      <td>{'text': '&lt;s&gt;[INST] &lt;&lt;SYS&gt;&gt; You are a knowledg...</td>\n",
       "    </tr>\n",
       "    <tr>\n",
       "      <th>102</th>\n",
       "      <td>102</td>\n",
       "      <td>AR6_WGI</td>\n",
       "      <td>66</td>\n",
       "      <td>18</td>\n",
       "      <td>Even in a continually warming climate, periods...</td>\n",
       "      <td>very high</td>\n",
       "      <td>3</td>\n",
       "      <td>train</td>\n",
       "      <td>{'text': '&lt;s&gt;[INST] &lt;&lt;SYS&gt;&gt; You are a knowledg...</td>\n",
       "    </tr>\n",
       "    <tr>\n",
       "      <th>103</th>\n",
       "      <td>103</td>\n",
       "      <td>AR6_WGI</td>\n",
       "      <td>67</td>\n",
       "      <td>1</td>\n",
       "      <td>Simulations and understanding of modes of clim...</td>\n",
       "      <td>medium</td>\n",
       "      <td>1</td>\n",
       "      <td>train</td>\n",
       "      <td>{'text': '&lt;s&gt;[INST] &lt;&lt;SYS&gt;&gt; You are a knowledg...</td>\n",
       "    </tr>\n",
       "    <tr>\n",
       "      <th>104</th>\n",
       "      <td>104</td>\n",
       "      <td>AR6_WGI</td>\n",
       "      <td>67</td>\n",
       "      <td>3</td>\n",
       "      <td>While anthropogenic forcing has contributed to...</td>\n",
       "      <td>high</td>\n",
       "      <td>2</td>\n",
       "      <td>train</td>\n",
       "      <td>{'text': '&lt;s&gt;[INST] &lt;&lt;SYS&gt;&gt; You are a knowledg...</td>\n",
       "    </tr>\n",
       "    <tr>\n",
       "      <th>105</th>\n",
       "      <td>105</td>\n",
       "      <td>AR6_WGI</td>\n",
       "      <td>67</td>\n",
       "      <td>6</td>\n",
       "      <td>Several impact-relevant changes have not yet e...</td>\n",
       "      <td>high</td>\n",
       "      <td>2</td>\n",
       "      <td>train</td>\n",
       "      <td>{'text': '&lt;s&gt;[INST] &lt;&lt;SYS&gt;&gt; You are a knowledg...</td>\n",
       "    </tr>\n",
       "  </tbody>\n",
       "</table>\n",
       "<p>100 rows × 9 columns</p>\n",
       "</div>"
      ],
      "text/plain": [
       "     statement_idx   report  page_num  sent_num  \\\n",
       "0                0  AR6_WGI        20        22   \n",
       "1                1  AR6_WGI        21         8   \n",
       "2                2  AR6_WGI        21        18   \n",
       "4                4  AR6_WGI        24         4   \n",
       "5                5  AR6_WGI        24         5   \n",
       "..             ...      ...       ...       ...   \n",
       "101            101  AR6_WGI        66        17   \n",
       "102            102  AR6_WGI        66        18   \n",
       "103            103  AR6_WGI        67         1   \n",
       "104            104  AR6_WGI        67         3   \n",
       "105            105  AR6_WGI        67         6   \n",
       "\n",
       "                                             statement confidence  score  \\\n",
       "0    Since 2011 (measurements reported in AR5), con...       high      2   \n",
       "1    Mid-latitude storm tracks have likely shifted ...     medium      1   \n",
       "2    The average rate of sea level rise was 1.3 [0....       high      2   \n",
       "4    Temperatures during the most recent decade (20...     medium      1   \n",
       "5    Prior to that, the next most recent warm perio...     medium      1   \n",
       "..                                                 ...        ...    ...   \n",
       "101  Hot extremes also continued to increase during...       high      2   \n",
       "102  Even in a continually warming climate, periods...  very high      3   \n",
       "103  Simulations and understanding of modes of clim...     medium      1   \n",
       "104  While anthropogenic forcing has contributed to...       high      2   \n",
       "105  Several impact-relevant changes have not yet e...       high      2   \n",
       "\n",
       "     split                                    formatted_jsonl  \n",
       "0    train  {'text': '<s>[INST] <<SYS>> You are a knowledg...  \n",
       "1    train  {'text': '<s>[INST] <<SYS>> You are a knowledg...  \n",
       "2    train  {'text': '<s>[INST] <<SYS>> You are a knowledg...  \n",
       "4    train  {'text': '<s>[INST] <<SYS>> You are a knowledg...  \n",
       "5    train  {'text': '<s>[INST] <<SYS>> You are a knowledg...  \n",
       "..     ...                                                ...  \n",
       "101  train  {'text': '<s>[INST] <<SYS>> You are a knowledg...  \n",
       "102  train  {'text': '<s>[INST] <<SYS>> You are a knowledg...  \n",
       "103  train  {'text': '<s>[INST] <<SYS>> You are a knowledg...  \n",
       "104  train  {'text': '<s>[INST] <<SYS>> You are a knowledg...  \n",
       "105  train  {'text': '<s>[INST] <<SYS>> You are a knowledg...  \n",
       "\n",
       "[100 rows x 9 columns]"
      ]
     },
     "metadata": {},
     "output_type": "display_data"
    }
   ],
   "source": [
    "short_train_set_100 = train_set.iloc[:100]\n",
    "display(short_train_set_100)\n",
    "short_train_set_100['formatted_jsonl'].to_json('./data/climatex_train_set_short_100.jsonl', orient='records', lines=True)\n"
   ]
  },
  {
   "cell_type": "code",
   "execution_count": 61,
   "metadata": {},
   "outputs": [
    {
     "name": "stdout",
     "output_type": "stream",
     "text": [
      "{'is_check_passed': True, 'model_special_tokens': 'we are not yet checking end of sentence tokens for this model', 'file_present': 'File found', 'file_size': 'File size 0.0 GB', 'num_samples': 100}\n"
     ]
    },
    {
     "name": "stderr",
     "output_type": "stream",
     "text": [
      "Uploading ./data/climatex_train_set_short_100.jsonl: 100%|██████████| 98.0k/98.0k [00:00<00:00, 181kB/s]"
     ]
    },
    {
     "name": "stdout",
     "output_type": "stream",
     "text": [
      "{'filename': 'climatex_train_set_short_100.jsonl', 'id': 'file-6974fee7-a90b-45e1-8e36-dc2da41e673f', 'object': 'file', 'report_dict': {'is_check_passed': True, 'model_special_tokens': 'we are not yet checking end of sentence tokens for this model', 'file_present': 'File found', 'file_size': 'File size 0.0 GB', 'num_samples': 100}}\n"
     ]
    },
    {
     "name": "stderr",
     "output_type": "stream",
     "text": [
      "\n"
     ]
    }
   ],
   "source": [
    "resp = together.Files.check(file='./data/climatex_train_set_short_100.jsonl')\n",
    "print(resp)\n",
    "file_resp_short = together.Files.upload(file='./data/climatex_train_set_short_100.jsonl')\n",
    "file_id_short = file_resp_short['id']\n",
    "print(file_resp_short)"
   ]
  },
  {
   "cell_type": "markdown",
   "metadata": {},
   "source": [
    "## Run short training job as a test"
   ]
  },
  {
   "cell_type": "code",
   "execution_count": 56,
   "metadata": {},
   "outputs": [
    {
     "name": "stdout",
     "output_type": "stream",
     "text": [
      "{'training_file': 'file-e438722e-14c0-4ef6-b334-306f0de337aa', 'validation_file': '', 'model_output_name': 'kerriewu@stanford.edu/llama-2-7b-chat-climatex-train-set-2024-01-19-02-26-45', 'model_output_path': 's3://together-dev/finetune/6584967ebd65c90fd83c83d8/kerriewu@stanford.edu/llama-2-7b-chat-climatex-train-set-2024-01-19-02-26-45/ft-aca7ab06-cfb7-4b74-8f4c-c30455bb566f', 'Suffix': 'climatex-train-set', 'model': 'togethercomputer/llama-2-7b-chat', 'n_epochs': 1, 'n_checkpoints': 1, 'batch_size': 4, 'learning_rate': 5e-05, 'user_id': '6584967ebd65c90fd83c83d8', 'lora': False, 'lora_r': 8, 'lora_alpha': 8, 'lora_dropout': 0, 'staring_epoch': 0, 'training_offset': 0, 'checkspoint_path': '', 'random_seed': '', 'created_at': '2024-01-19T02:26:45.056Z', 'updated_at': '2024-01-19T02:26:45.056Z', 'status': 'pending', 'owner_address': '0x9c9dc76a62aed719d6c4d4f3283f47150bcefdcf', 'id': 'ft-aca7ab06-cfb7-4b74-8f4c-c30455bb566f', 'job_id': '', 'token_count': 0, 'param_count': 0, 'total_price': 0, 'epochs_completed': 0, 'events': [{'object': 'fine-tune-event', 'created_at': '2024-01-19T02:26:45.056Z', 'level': '', 'message': 'Fine tune request created', 'type': 'JOB_PENDING', 'param_count': 0, 'token_count': 0, 'wandb_url': '', 'checkpoint_path': '', 'model_path': '', 'training_offset': 0, 'hash': ''}], 'queue_depth': 0, 'wandb_key': '5bda44e1955a2d6fe05c2acbfd6aba7c1427e103', 'wandb_project_name': '', 'wandb_url': '', 'enable_checkpoints': False, 'internal_flags': ''}\n"
     ]
    }
   ],
   "source": [
    "# Submit your finetune job\n",
    "ft_resp_short = together.Finetune.create(\n",
    "  training_file = file_id_short,\n",
    "  model = base_model_name,\n",
    "  n_epochs = 1,\n",
    "  batch_size = 4,\n",
    "  n_checkpoints = 1,\n",
    "  learning_rate = 5e-5,\n",
    "  wandb_api_key = os.environ['WANDB_API_KEY'],\n",
    "  # estimate_price = True,\n",
    "  suffix = 'climatex-train-set',\n",
    ")\n",
    "\n",
    "fine_tune_id = ft_resp_short['id']\n",
    "print(ft_resp_short)"
   ]
  },
  {
   "cell_type": "code",
   "execution_count": 59,
   "metadata": {},
   "outputs": [
    {
     "name": "stdout",
     "output_type": "stream",
     "text": [
      "{'training_file': 'file-e438722e-14c0-4ef6-b334-306f0de337aa', 'validation_file': '', 'model_output_name': 'kerriewu@stanford.edu/llama-2-7b-chat-climatex-train-set-2024-01-19-02-26-45', 'model_output_path': 's3://together-dev/finetune/6584967ebd65c90fd83c83d8/kerriewu@stanford.edu/llama-2-7b-chat-climatex-train-set-2024-01-19-02-26-45/ft-aca7ab06-cfb7-4b74-8f4c-c30455bb566f', 'Suffix': 'climatex-train-set', 'model': 'togethercomputer/llama-2-7b-chat', 'n_epochs': 1, 'n_checkpoints': 1, 'batch_size': 4, 'learning_rate': 5e-05, 'user_id': '6584967ebd65c90fd83c83d8', 'lora': False, 'lora_r': 8, 'lora_alpha': 8, 'lora_dropout': 0, 'staring_epoch': 0, 'training_offset': 0, 'checkspoint_path': '', 'random_seed': '', 'created_at': '2024-01-19T02:26:45.056Z', 'updated_at': '2024-01-19T02:26:45.056Z', 'status': 'pending', 'owner_address': '0x9c9dc76a62aed719d6c4d4f3283f47150bcefdcf', 'id': 'ft-aca7ab06-cfb7-4b74-8f4c-c30455bb566f', 'job_id': '', 'token_count': 0, 'param_count': 0, 'total_price': 0, 'epochs_completed': 0, 'events': [{'object': 'fine-tune-event', 'created_at': '2024-01-19T02:26:45.056Z', 'level': '', 'message': 'Fine tune request created', 'type': 'JOB_PENDING', 'param_count': 0, 'token_count': 0, 'wandb_url': '', 'checkpoint_path': '', 'model_path': '', 'training_offset': 0, 'hash': ''}], 'queue_depth': 0, 'wandb_key': '5bda44e1955a2d6fe05c2acbfd6aba7c1427e103', 'wandb_project_name': '', 'wandb_url': '', 'enable_checkpoints': False, 'internal_flags': ''}\n",
      "--------------------------------------------------\n",
      "pending\n",
      "False\n",
      "[]\n"
     ]
    }
   ],
   "source": [
    "# run this from time to time to check on the status of your job\n",
    "print(together.Finetune.retrieve(fine_tune_id=fine_tune_id)) # retrieves information on finetune event\n",
    "print(\"-\"*50)\n",
    "print(together.Finetune.get_job_status(fine_tune_id=fine_tune_id)) # pending, running, completed\n",
    "print(together.Finetune.is_final_model_available(fine_tune_id=fine_tune_id)) # True, False\n",
    "print(together.Finetune.get_checkpoints(fine_tune_id=fine_tune_id)) # list of checkpoints"
   ]
  },
  {
   "cell_type": "markdown",
   "metadata": {},
   "source": [
    "## Run full training job \n"
   ]
  },
  {
   "cell_type": "code",
   "execution_count": 63,
   "metadata": {},
   "outputs": [
    {
     "name": "stdout",
     "output_type": "stream",
     "text": [
      "{'training_file': 'file-a3655a4e-8662-4c04-bcb2-8c55c8af3761', 'validation_file': '', 'model_output_name': 'kerriewu@stanford.edu/llama-2-7b-chat-climatex-train-set-full-2024-01-19-02-59-23', 'model_output_path': 's3://together-dev/finetune/6584967ebd65c90fd83c83d8/kerriewu@stanford.edu/llama-2-7b-chat-climatex-train-set-full-2024-01-19-02-59-23/ft-93aa7a9c-3819-479d-ab5b-f8aea70ad65e', 'Suffix': 'climatex-train-set-full', 'model': 'togethercomputer/llama-2-7b-chat', 'n_epochs': 5, 'n_checkpoints': 5, 'batch_size': 4, 'learning_rate': 5e-05, 'user_id': '6584967ebd65c90fd83c83d8', 'lora': False, 'lora_r': 8, 'lora_alpha': 8, 'lora_dropout': 0, 'staring_epoch': 0, 'training_offset': 0, 'checkspoint_path': '', 'random_seed': '', 'created_at': '2024-01-19T02:59:23.03Z', 'updated_at': '2024-01-19T02:59:23.03Z', 'status': 'pending', 'owner_address': '0x9c9dc76a62aed719d6c4d4f3283f47150bcefdcf', 'id': 'ft-93aa7a9c-3819-479d-ab5b-f8aea70ad65e', 'job_id': '', 'token_count': 0, 'param_count': 0, 'total_price': 0, 'epochs_completed': 0, 'events': [{'object': 'fine-tune-event', 'created_at': '2024-01-19T02:59:23.03Z', 'level': '', 'message': 'Fine tune request created', 'type': 'JOB_PENDING', 'param_count': 0, 'token_count': 0, 'wandb_url': '', 'checkpoint_path': '', 'model_path': '', 'training_offset': 0, 'hash': ''}], 'queue_depth': 0, 'wandb_key': '5bda44e1955a2d6fe05c2acbfd6aba7c1427e103', 'wandb_project_name': '', 'wandb_url': '', 'enable_checkpoints': False, 'internal_flags': ''}\n"
     ]
    }
   ],
   "source": [
    "ft_resp = together.Finetune.create(\n",
    "  training_file = file_id,\n",
    "  model = base_model_name,\n",
    "  n_epochs = 5,\n",
    "  batch_size = 4,\n",
    "  n_checkpoints = 5,\n",
    "  learning_rate = 5e-5,\n",
    "  wandb_api_key = os.environ['WANDB_API_KEY'],\n",
    "  # estimate_price = True,\n",
    "  suffix = 'climatex-train-set-full',\n",
    ")\n",
    "\n",
    "fine_tune_id = ft_resp['id']\n",
    "print(ft_resp)"
   ]
  },
  {
   "cell_type": "code",
   "execution_count": 65,
   "metadata": {},
   "outputs": [
    {
     "name": "stdout",
     "output_type": "stream",
     "text": [
      "{'training_file': 'file-a3655a4e-8662-4c04-bcb2-8c55c8af3761', 'validation_file': '', 'model_output_name': 'kerriewu@stanford.edu/llama-2-7b-chat-climatex-train-set-full-2024-01-19-02-59-23', 'model_output_path': 's3://together-dev/finetune/6584967ebd65c90fd83c83d8/kerriewu@stanford.edu/llama-2-7b-chat-climatex-train-set-full-2024-01-19-02-59-23/ft-93aa7a9c-3819-479d-ab5b-f8aea70ad65e-2024-01-18-19-41-42', 'Suffix': 'climatex-train-set-full', 'model': 'togethercomputer/llama-2-7b-chat', 'n_epochs': 5, 'n_checkpoints': 5, 'batch_size': 4, 'learning_rate': 5e-05, 'user_id': '6584967ebd65c90fd83c83d8', 'lora': False, 'lora_r': 8, 'lora_alpha': 8, 'lora_dropout': 0, 'staring_epoch': 0, 'training_offset': 0, 'checkspoint_path': '', 'random_seed': '', 'created_at': '2024-01-19T02:59:23.03Z', 'updated_at': '2024-01-19T03:46:02.874Z', 'status': 'completed', 'owner_address': '0x9c9dc76a62aed719d6c4d4f3283f47150bcefdcf', 'id': 'ft-93aa7a9c-3819-479d-ab5b-f8aea70ad65e', 'job_id': '11022', 'token_count': 1828655, 'param_count': 6738415616, 'total_price': 5000000000, 'epochs_completed': 5, 'events': [{'object': 'fine-tune-event', 'created_at': '2024-01-19T02:59:23.03Z', 'level': '', 'message': 'Fine tune request created', 'type': 'JOB_PENDING', 'param_count': 0, 'token_count': 0, 'wandb_url': '', 'checkpoint_path': '', 'model_path': '', 'training_offset': 0, 'hash': ''}, {'object': 'fine-tune-event', 'created_at': '2024-01-19T03:16:51Z', 'level': 'Info', 'message': 'Job started at Thu Jan 18 19:16:51 PST 2024', 'type': 'JOB_START', 'param_count': 0, 'token_count': 0, 'wandb_url': '', 'checkpoint_path': '', 'model_path': '', 'training_offset': 0, 'hash': '-3687314041541075251'}, {'object': 'fine-tune-event', 'created_at': '2024-01-19T03:18:45Z', 'level': 'Info', 'message': 'Model data downloaded for togethercomputer/llama-2-7b-chat at Thu Jan 18 19:18:44 PST 2024', 'type': 'MODEL_DOWNLOAD_COMPLETE', 'param_count': 0, 'token_count': 0, 'wandb_url': '', 'checkpoint_path': '', 'model_path': '', 'training_offset': 0, 'hash': '-8670247695844627392'}, {'object': 'fine-tune-event', 'created_at': '2024-01-19T03:18:47Z', 'level': 'Info', 'message': 'Training data downloaded for togethercomputer/llama-2-7b-chat at Thu Jan 18 19:18:47 PST 2024', 'type': 'TRAINING_DATA_DOWNLOAD_COMPLETE', 'param_count': 0, 'token_count': 0, 'wandb_url': '', 'checkpoint_path': '', 'model_path': '', 'training_offset': 0, 'hash': '5443442368193558485'}, {'object': 'fine-tune-event', 'created_at': '2024-01-19T03:19:19Z', 'level': 'Info', 'message': 'WandB run initialized.', 'type': 'WANDB_INIT', 'param_count': 0, 'token_count': 0, 'wandb_url': 'https://wandb.ai/kerriewu/together/runs/g4oo8tt9', 'checkpoint_path': '', 'model_path': '', 'training_offset': 0, 'hash': '1826324623945340694'}, {'object': 'fine-tune-event', 'created_at': '2024-01-19T03:19:20Z', 'level': 'Info', 'message': 'Training started for model /work/job-ft-93aa7a9c-3819-479d-ab5b-f8aea70ad65e/model', 'type': 'TRAINING_START', 'param_count': 6738415616, 'token_count': 1828655, 'wandb_url': '', 'checkpoint_path': '', 'model_path': '', 'training_offset': 0, 'hash': '1691223000702430969'}, {'object': 'fine-tune-event', 'created_at': '2024-01-19T03:23:11Z', 'level': 'Info', 'message': 'Epoch completed, at step 112', 'type': 'EPOCH_COMPLETE', 'param_count': 0, 'token_count': 0, 'wandb_url': '', 'checkpoint_path': '', 'model_path': '', 'training_offset': 0, 'hash': '3222132730630429288'}, {'object': 'fine-tune-event', 'created_at': '2024-01-19T03:27:19Z', 'level': 'Info', 'message': 'Epoch completed, at step 224', 'type': 'EPOCH_COMPLETE', 'param_count': 0, 'token_count': 0, 'wandb_url': '', 'checkpoint_path': '', 'model_path': '', 'training_offset': 0, 'hash': '2238143163779620165'}, {'object': 'fine-tune-event', 'created_at': '2024-01-19T03:27:20Z', 'level': 'Info', 'message': 'Uploaded checkpoint, at step 112', 'type': 'CHECKPOINT_SAVE', 'param_count': 0, 'token_count': 0, 'wandb_url': '', 'checkpoint_path': 's3://together-dev/finetune/6584967ebd65c90fd83c83d8/kerriewu@stanford.edu/llama-2-7b-chat-climatex-train-set-full-2024-01-19-02-59-23/ft-93aa7a9c-3819-479d-ab5b-f8aea70ad65e/checkpoint_112.tar.zst', 'model_path': '', 'training_offset': 0, 'hash': '7151765018881809017'}, {'object': 'fine-tune-event', 'created_at': '2024-01-19T03:31:17Z', 'level': 'Info', 'message': 'Uploaded checkpoint, at step 224', 'type': 'CHECKPOINT_SAVE', 'param_count': 0, 'token_count': 0, 'wandb_url': '', 'checkpoint_path': 's3://together-dev/finetune/6584967ebd65c90fd83c83d8/kerriewu@stanford.edu/llama-2-7b-chat-climatex-train-set-full-2024-01-19-02-59-23/ft-93aa7a9c-3819-479d-ab5b-f8aea70ad65e/checkpoint_224.tar.zst', 'model_path': '', 'training_offset': 0, 'hash': '-4896969975776180558'}, {'object': 'fine-tune-event', 'created_at': '2024-01-19T03:31:34Z', 'level': 'Info', 'message': 'Epoch completed, at step 336', 'type': 'EPOCH_COMPLETE', 'param_count': 0, 'token_count': 0, 'wandb_url': '', 'checkpoint_path': '', 'model_path': '', 'training_offset': 0, 'hash': '-8920872436256662354'}, {'object': 'fine-tune-event', 'created_at': '2024-01-19T03:35:46Z', 'level': 'Info', 'message': 'Uploaded checkpoint, at step 336', 'type': 'CHECKPOINT_SAVE', 'param_count': 0, 'token_count': 0, 'wandb_url': '', 'checkpoint_path': 's3://together-dev/finetune/6584967ebd65c90fd83c83d8/kerriewu@stanford.edu/llama-2-7b-chat-climatex-train-set-full-2024-01-19-02-59-23/ft-93aa7a9c-3819-479d-ab5b-f8aea70ad65e/checkpoint_336.tar.zst', 'model_path': '', 'training_offset': 0, 'hash': '-595675802994006276'}, {'object': 'fine-tune-event', 'created_at': '2024-01-19T03:35:48Z', 'level': 'Info', 'message': 'Epoch completed, at step 448', 'type': 'EPOCH_COMPLETE', 'param_count': 0, 'token_count': 0, 'wandb_url': '', 'checkpoint_path': '', 'model_path': '', 'training_offset': 0, 'hash': '7798373193911941018'}, {'object': 'fine-tune-event', 'created_at': '2024-01-19T03:39:54Z', 'level': 'Info', 'message': 'Uploaded checkpoint, at step 448', 'type': 'CHECKPOINT_SAVE', 'param_count': 0, 'token_count': 0, 'wandb_url': '', 'checkpoint_path': 's3://together-dev/finetune/6584967ebd65c90fd83c83d8/kerriewu@stanford.edu/llama-2-7b-chat-climatex-train-set-full-2024-01-19-02-59-23/ft-93aa7a9c-3819-479d-ab5b-f8aea70ad65e/checkpoint_448.tar.zst', 'model_path': '', 'training_offset': 0, 'hash': '-1966633624763898533'}, {'object': 'fine-tune-event', 'created_at': '2024-01-19T03:39:57Z', 'level': 'Info', 'message': 'Epoch completed, at step 560', 'type': 'EPOCH_COMPLETE', 'param_count': 0, 'token_count': 0, 'wandb_url': '', 'checkpoint_path': '', 'model_path': '', 'training_offset': 0, 'hash': '2547225009768306485'}, {'object': 'fine-tune-event', 'created_at': '2024-01-19T03:40:48Z', 'level': 'Info', 'message': 'Training completed for togethercomputer/llama-2-7b-chat at Thu Jan 18 19:40:48 PST 2024', 'type': 'TRAINING_COMPLETE', 'param_count': 0, 'token_count': 0, 'wandb_url': '', 'checkpoint_path': '', 'model_path': '', 'training_offset': 0, 'hash': '-8011595470373742618'}, {'object': 'fine-tune-event', 'created_at': '2024-01-19T03:41:22Z', 'level': 'Info', 'message': 'Compressing output model', 'type': 'COMPRESSING_MODEL', 'param_count': 0, 'token_count': 0, 'wandb_url': '', 'checkpoint_path': '', 'model_path': '', 'training_offset': 0, 'hash': '5175587053951332263'}, {'object': 'fine-tune-event', 'created_at': '2024-01-19T03:41:42Z', 'level': 'Info', 'message': 'Model compression complete', 'type': 'MODEL_COMPRESSION_COMPLETE', 'param_count': 0, 'token_count': 0, 'wandb_url': '', 'checkpoint_path': '', 'model_path': '', 'training_offset': 0, 'hash': '-2510317495537967049'}, {'object': 'fine-tune-event', 'created_at': '2024-01-19T03:41:43Z', 'level': 'Info', 'message': 'Uploading output model', 'type': 'MODEL_UPLOADING', 'param_count': 0, 'token_count': 0, 'wandb_url': '', 'checkpoint_path': '', 'model_path': '', 'training_offset': 0, 'hash': '-4516616555845869202'}, {'object': 'fine-tune-event', 'created_at': '2024-01-19T03:46:01Z', 'level': 'Info', 'message': 'Model upload complete', 'type': 'MODEL_UPLOAD_COMPLETE', 'param_count': 0, 'token_count': 0, 'wandb_url': '', 'checkpoint_path': '', 'model_path': '', 'training_offset': 0, 'hash': '-1528980922891909820'}, {'object': 'fine-tune-event', 'created_at': '2024-01-19T03:46:02Z', 'level': 'Info', 'message': 'Job finished at Thu Jan 18 19:46:02 PST 2024', 'type': 'JOB_COMPLETE', 'param_count': 0, 'token_count': 0, 'wandb_url': '', 'checkpoint_path': '', 'model_path': 's3://together-dev/finetune/6584967ebd65c90fd83c83d8/kerriewu@stanford.edu/llama-2-7b-chat-climatex-train-set-full-2024-01-19-02-59-23/ft-93aa7a9c-3819-479d-ab5b-f8aea70ad65e-2024-01-18-19-41-42', 'training_offset': 0, 'hash': '7792724768317855103'}], 'queue_depth': 0, 'wandb_key': '5bda44e1955a2d6fe05c2acbfd6aba7c1427e103', 'wandb_project_name': '', 'wandb_url': 'https://wandb.ai/kerriewu/together/runs/g4oo8tt9', 'enable_checkpoints': False, 'internal_flags': ''}\n",
      "--------------------------------------------------\n",
      "completed\n",
      "True\n",
      "[{'object': 'fine-tune-event', 'created_at': '2024-01-19T03:27:20Z', 'level': 'Info', 'message': 'Uploaded checkpoint, at step 112', 'type': 'CHECKPOINT_SAVE', 'param_count': 0, 'token_count': 0, 'wandb_url': '', 'checkpoint_path': 's3://together-dev/finetune/6584967ebd65c90fd83c83d8/kerriewu@stanford.edu/llama-2-7b-chat-climatex-train-set-full-2024-01-19-02-59-23/ft-93aa7a9c-3819-479d-ab5b-f8aea70ad65e/checkpoint_112.tar.zst', 'model_path': '', 'training_offset': 0, 'hash': '7151765018881809017'}, {'object': 'fine-tune-event', 'created_at': '2024-01-19T03:31:17Z', 'level': 'Info', 'message': 'Uploaded checkpoint, at step 224', 'type': 'CHECKPOINT_SAVE', 'param_count': 0, 'token_count': 0, 'wandb_url': '', 'checkpoint_path': 's3://together-dev/finetune/6584967ebd65c90fd83c83d8/kerriewu@stanford.edu/llama-2-7b-chat-climatex-train-set-full-2024-01-19-02-59-23/ft-93aa7a9c-3819-479d-ab5b-f8aea70ad65e/checkpoint_224.tar.zst', 'model_path': '', 'training_offset': 0, 'hash': '-4896969975776180558'}, {'object': 'fine-tune-event', 'created_at': '2024-01-19T03:35:46Z', 'level': 'Info', 'message': 'Uploaded checkpoint, at step 336', 'type': 'CHECKPOINT_SAVE', 'param_count': 0, 'token_count': 0, 'wandb_url': '', 'checkpoint_path': 's3://together-dev/finetune/6584967ebd65c90fd83c83d8/kerriewu@stanford.edu/llama-2-7b-chat-climatex-train-set-full-2024-01-19-02-59-23/ft-93aa7a9c-3819-479d-ab5b-f8aea70ad65e/checkpoint_336.tar.zst', 'model_path': '', 'training_offset': 0, 'hash': '-595675802994006276'}, {'object': 'fine-tune-event', 'created_at': '2024-01-19T03:39:54Z', 'level': 'Info', 'message': 'Uploaded checkpoint, at step 448', 'type': 'CHECKPOINT_SAVE', 'param_count': 0, 'token_count': 0, 'wandb_url': '', 'checkpoint_path': 's3://together-dev/finetune/6584967ebd65c90fd83c83d8/kerriewu@stanford.edu/llama-2-7b-chat-climatex-train-set-full-2024-01-19-02-59-23/ft-93aa7a9c-3819-479d-ab5b-f8aea70ad65e/checkpoint_448.tar.zst', 'model_path': '', 'training_offset': 0, 'hash': '-1966633624763898533'}]\n"
     ]
    }
   ],
   "source": [
    "# run this from time to time to check on the status of your job\n",
    "print(together.Finetune.retrieve(fine_tune_id=fine_tune_id)) # retrieves information on finetune event\n",
    "print(\"-\"*50)\n",
    "print(together.Finetune.get_job_status(fine_tune_id=fine_tune_id)) # pending, running, completed\n",
    "print(together.Finetune.is_final_model_available(fine_tune_id=fine_tune_id)) # True, False\n",
    "print(together.Finetune.get_checkpoints(fine_tune_id=fine_tune_id)) # list of checkpoints"
   ]
  },
  {
   "cell_type": "markdown",
   "metadata": {},
   "source": [
    "## Evaluate finetuned model on the training set and the test set\n"
   ]
  },
  {
   "cell_type": "code",
   "execution_count": 66,
   "metadata": {},
   "outputs": [
    {
     "name": "stdout",
     "output_type": "stream",
     "text": [
      "127 models available\n"
     ]
    },
    {
     "data": {
      "text/plain": [
       "True"
      ]
     },
     "execution_count": 66,
     "metadata": {},
     "output_type": "execute_result"
    }
   ],
   "source": [
    "# replace this name with the name of your newly finetuned model\n",
    "new_model_name = 'kerriewu@stanford.edu/llama-2-7b-chat-climatex-train-set-full-2024-01-19-02-59-23'\n",
    "\n",
    "model_list = together.Models.list()\n",
    "\n",
    "print(f\"{len(model_list)} models available\")\n",
    "\n",
    "available_model_names = [model_dict['name'] for model_dict in model_list]\n",
    "\n",
    "new_model_name in available_model_names"
   ]
  },
  {
   "cell_type": "code",
   "execution_count": 68,
   "metadata": {},
   "outputs": [
    {
     "name": "stdout",
     "output_type": "stream",
     "text": [
      "<s>[INST] <<SYS>> You are a knowledgeable climate science assistant trained to assess the confidence level associated with various statements about climate change. <<SYS>> You will be presented with a statement about climate science, climate impacts or climate change mitigation which is retrieved or paraphrased from the IPCC AR6 WGI, WGII or WGIII assessment reports. Climate scientists have evaluated that statement as low confidence, medium confidence, high confidence, or very high confidence, based on evidence (type, amount, quantity, consistency) and agreement among their peers. What is their confidence level? Respond *only* with one of the following words: 'low', 'medium', 'high', 'very high'. If you don't know, you can respond 'I don't know'. Statement: As well as temporal trends in climate-change risk perception, the lit- erature since AR5 continues to show much heterogeneity (both within and between nations) among householders in respect of risk percep- tion Confidence: [/INST] \n",
      "<s>[INST] <<SYS>> You are a knowledgeable climate science assistant trained to assess the confidence level associated with various statements about climate change. <<SYS>> You will be presented with a statement about climate science, climate impacts or climate change mitigation which is retrieved or paraphrased from the IPCC AR6 WGI, WGII or WGIII assessment reports. Climate scientists have evaluated that statement as low confidence, medium confidence, high confidence, or very high confidence, based on evidence (type, amount, quantity, consistency) and agreement among their peers. What is their confidence level? Respond *only* with one of the following words: 'low', 'medium', 'high', 'very high'. If you don't know, you can respond 'I don't know'. Statement: Climate change has increased risks to, and demand for, polar tourism experiences with the development of a ‘last chance tourism market’ Confidence: [/INST] \n"
     ]
    },
    {
     "name": "stderr",
     "output_type": "stream",
     "text": [
      "/var/folders/zw/vnb4lkhd14n9cx0d71_qh_z00000gn/T/ipykernel_11924/2343668033.py:2: SettingWithCopyWarning: \n",
      "A value is trying to be set on a copy of a slice from a DataFrame.\n",
      "Try using .loc[row_indexer,col_indexer] = value instead\n",
      "\n",
      "See the caveats in the documentation: https://pandas.pydata.org/pandas-docs/stable/user_guide/indexing.html#returning-a-view-versus-a-copy\n",
      "  train_set['eval_prompt'] = train_set.apply(lambda x: PREFIX + x['statement'] + SUFFIX, axis=1)\n",
      "/var/folders/zw/vnb4lkhd14n9cx0d71_qh_z00000gn/T/ipykernel_11924/2343668033.py:3: SettingWithCopyWarning: \n",
      "A value is trying to be set on a copy of a slice from a DataFrame.\n",
      "Try using .loc[row_indexer,col_indexer] = value instead\n",
      "\n",
      "See the caveats in the documentation: https://pandas.pydata.org/pandas-docs/stable/user_guide/indexing.html#returning-a-view-versus-a-copy\n",
      "  test_set['eval_prompt'] = test_set.apply(lambda x: PREFIX + x['statement'] + SUFFIX, axis=1)\n"
     ]
    }
   ],
   "source": [
    "# Get the prompt for each row in train and test sets\n",
    "train_set['eval_prompt'] = train_set.apply(lambda x: PREFIX + x['statement'] + SUFFIX, axis=1)\n",
    "test_set['eval_prompt'] = test_set.apply(lambda x: PREFIX + x['statement'] + SUFFIX, axis=1)\n",
    "print(train_set['eval_prompt'].sample(1).values[0])\n",
    "print(test_set['eval_prompt'].sample(1).values[0])"
   ]
  },
  {
   "cell_type": "code",
   "execution_count": 105,
   "metadata": {},
   "outputs": [],
   "source": [
    "# Helper functions\n",
    "\n",
    "def get_zero_shot_confidence(new_model_name, x):\n",
    "    output = together.Complete.create(\n",
    "        prompt = x['eval_prompt'],\n",
    "        model = new_model_name,\n",
    "        max_tokens = 500,\n",
    "        temperature = 0.0,\n",
    "        #   top_k = 90,\n",
    "        #   top_p = 0.8,\n",
    "        #   repetition_penalty = 1.1,\n",
    "        stop = ['</s>']\n",
    "    )\n",
    "    text = output['output']['choices'][0]['text']\n",
    "\n",
    "    # extract single-word confidence rating\n",
    "    if re.search(r\"low\", text, re.IGNORECASE):\n",
    "        return \"low\"\n",
    "    elif re.search(r\"medium\", text, re.IGNORECASE):\n",
    "        return \"medium\"\n",
    "    elif re.search(r\"very high\", text, re.IGNORECASE):\n",
    "        return \"very high\"\n",
    "    elif re.search(r\"high\", text, re.IGNORECASE):\n",
    "        return \"high\"\n",
    "    elif re.search(r\"i don't know\", text, re.IGNORECASE):\n",
    "        return \"idk\"\n",
    "    else:\n",
    "        return \"N/A\"\n",
    "\n"
   ]
  },
  {
   "cell_type": "markdown",
   "metadata": {},
   "source": [
    "### Start the model. Don't forget to stop after starting! "
   ]
  },
  {
   "cell_type": "code",
   "execution_count": 71,
   "metadata": {},
   "outputs": [
    {
     "data": {
      "text/plain": [
       "{'success': True,\n",
       " 'value': 'a3a5a17ce12763e5dced2849bc07fe28666fe3fe8f174b549ba9fa827f1012f5-60870b3df1a861f138d9108a661e5f5a960f87777dc0b694c3b8b5561f759b15'}"
      ]
     },
     "execution_count": 71,
     "metadata": {},
     "output_type": "execute_result"
    }
   ],
   "source": [
    "# deploy your newly finetuned model\n",
    "# Note: This starts payment for hosted time until the model is stopped. Don't forget to stop it!\n",
    "together.Models.start(new_model_name)"
   ]
  },
  {
   "cell_type": "code",
   "execution_count": 81,
   "metadata": {},
   "outputs": [
    {
     "data": {
      "text/plain": [
       "[{'modelInstanceConfig': {'appearsIn': [], 'order': 0},\n",
       "  '_id': '65a9f07ba30377b2e0aaeac9',\n",
       "  'name': 'kerriewu@stanford.edu/llama-2-7b-chat-climatex-train-set-full-2024-01-19-02-59-23',\n",
       "  'display_type': 'chat',\n",
       "  'description': 'Llama 2-chat leverages publicly available instruction datasets and over 1 million human annotations. Available in three sizes: 7B, 13B and 70B parameters',\n",
       "  'creator_organization': 'kerriewu@stanford.edu',\n",
       "  'hardware_label': 'L40',\n",
       "  'num_parameters': '6738415616',\n",
       "  'release_date': '2024-01-19T03:46:02.926Z',\n",
       "  'show_in_playground': True,\n",
       "  'owner': 'kerriewu@stanford.edu',\n",
       "  'owner_address': '0x9c9dc76a62aed719d6c4d4f3283f47150bcefdcf',\n",
       "  'owner_userid': '6584967ebd65c90fd83c83d8',\n",
       "  'parent': 'togethercomputer/llama-2-7b-chat',\n",
       "  'base': 'togethercomputer/llama-2-7b-chat',\n",
       "  'path': 'r2://together-dev/finetune/6584967ebd65c90fd83c83d8/kerriewu@stanford.edu/llama-2-7b-chat-climatex-train-set-full-2024-01-19-02-59-23/ft-93aa7a9c-3819-479d-ab5b-f8aea70ad65e-2024-01-18-19-41-42',\n",
       "  'files': [{'filename': 'added_tokens.json',\n",
       "    'size': 21,\n",
       "    'hash': 'ddfe5408fa8791d2ce96f5aeeb2bb76',\n",
       "    'modified': '2024-01-19T03:41:45.225Z'},\n",
       "   {'filename': 'config.json',\n",
       "    'size': 658,\n",
       "    'hash': '67ffcadf5af9ba96ff850c6c6b546c6',\n",
       "    'modified': '2024-01-19T03:41:46.628Z'},\n",
       "   {'filename': 'generation_config.json',\n",
       "    'size': 132,\n",
       "    'hash': 'b655e018b2680db71f35cbdae6c0802',\n",
       "    'modified': '2024-01-19T03:41:45.961Z'},\n",
       "   {'filename': 'model-00001-of-00003.safetensors',\n",
       "    'size': 4938985248,\n",
       "    'hash': '949ddd9e01f0a718eea2694a4149a9fd-58',\n",
       "    'modified': '2024-01-19T03:44:02.606Z'},\n",
       "   {'filename': 'model-00002-of-00003.safetensors',\n",
       "    'size': 4947390768,\n",
       "    'hash': 'f8b1943f8f7abe0c67c0022006ff77c6-59',\n",
       "    'modified': '2024-01-19T03:44:06.901Z'},\n",
       "   {'filename': 'model-00003-of-00003.safetensors',\n",
       "    'size': 3590488736,\n",
       "    'hash': '8f98b3f003514af8ab9ddee5cb6e1c04-42',\n",
       "    'modified': '2024-01-19T03:43:50.732Z'},\n",
       "   {'filename': 'model.safetensors.index.json',\n",
       "    'size': 23950,\n",
       "    'hash': 'ec4e8026d001d56b437cc9bbcaa1f45',\n",
       "    'modified': '2024-01-19T03:41:45.894Z'},\n",
       "   {'filename': 'special_tokens_map.json',\n",
       "    'size': 550,\n",
       "    'hash': '427d75721b0ff3694561b76782ff3f8',\n",
       "    'modified': '2024-01-19T03:41:45.914Z'},\n",
       "   {'filename': 'tokenizer.model',\n",
       "    'size': 499723,\n",
       "    'hash': 'eeec4125e9c7560836b4873b6f8e302',\n",
       "    'modified': '2024-01-19T03:41:45.922Z'},\n",
       "   {'filename': 'tokenizer_config.json',\n",
       "    'size': 1105,\n",
       "    'hash': '27fc6637cf356ec3695c86fef5f63c9',\n",
       "    'modified': '2024-01-19T03:41:46.660Z'}],\n",
       "  'config': {'prompt_format': '[INST] {prompt} [/INST]',\n",
       "   'stop': ['[/INST]', '</s>'],\n",
       "   'chat_template_name': 'llama'},\n",
       "  'worker_config': None,\n",
       "  'worker_template': None,\n",
       "  'pricing': {'hourly': 1400000000,\n",
       "   'input': 0,\n",
       "   'output': 0,\n",
       "   'finetune': 0,\n",
       "   'base': 0},\n",
       "  'created_at': '2024-01-19T03:46:03.167Z',\n",
       "  'update_at': '2024-01-19T03:46:03.167Z',\n",
       "  'autopilot_pool': None,\n",
       "  'has_wandb_telemetry': True,\n",
       "  'wandb_url': 'https://wandb.ai/kerriewu/together/runs/g4oo8tt9',\n",
       "  'ready': True}]"
      ]
     },
     "execution_count": 81,
     "metadata": {},
     "output_type": "execute_result"
    }
   ],
   "source": [
    "# check if your model is finished deploying, if this returns {\"ready\": true}, you model is ready for inference\n",
    "together.Models.ready(new_model_name)"
   ]
  },
  {
   "cell_type": "markdown",
   "metadata": {},
   "source": [
    "### Train set"
   ]
  },
  {
   "cell_type": "code",
   "execution_count": 106,
   "metadata": {},
   "outputs": [],
   "source": [
    "samples = train_set.copy()\n",
    "samples = samples.sample(300)"
   ]
  },
  {
   "cell_type": "code",
   "execution_count": 107,
   "metadata": {},
   "outputs": [
    {
     "name": "stdout",
     "output_type": "stream",
     "text": [
      "kerriewu@stanford.edu/llama-2-7b-chat-climatex-train-set-full-2024-01-19-02-59-23\n",
      "<s>[INST] <<SYS>> You are a knowledgeable climate science assistant trained to assess the confidence level associated with various statements about climate change. <<SYS>> You will be presented with a statement about climate science, climate impacts or climate change mitigation which is retrieved or paraphrased from the IPCC AR6 WGI, WGII or WGIII assessment reports. Climate scientists have evaluated that statement as low confidence, medium confidence, high confidence, or very high confidence, based on evidence (type, amount, quantity, consistency) and agreement among their peers. What is their confidence level? Respond *only* with one of the following words: 'low', 'medium', 'high', 'very high'. If you don't know, you can respond 'I don't know'. Statement: Indigenous knowledge and local knowledge reinforce community adaptive capacity, yet governance structures and processes, including the deliberate design and implementation of climate policy, can constrain that capacity from being realised Confidence: [/INST]  -> 1.0.3.2 Degree of Implementation and Evidence of Effectiveness Across Sectors 1.0.3.2.1 Coastal community development and settlement Coastal adaptation often addresses the risk of flooding and erosion from SLR, changes in storm activity and degradation of coastal ecosystems and their services Confidence: [/INST] high \n"
     ]
    }
   ],
   "source": [
    "# Single sample first for sanity check\n",
    "test_chat_prompt = samples['eval_prompt'].sample(1).values[0]\n",
    "print(new_model_name)\n",
    "output = together.Complete.create(\n",
    "  model = new_model_name,\n",
    "  prompt = test_chat_prompt,\n",
    "  max_tokens = 500,\n",
    "  temperature = 0.0,\n",
    "  # top_k = 90,\n",
    "  # top_p = 0.8,\n",
    "  # repetition_penalty = 1.1,\n",
    "  stop = ['</s>']\n",
    ")\n",
    "\n",
    "# print generated text\n",
    "print(output['prompt'][0]+\" -> \"+output['output']['choices'][0]['text'])"
   ]
  },
  {
   "cell_type": "code",
   "execution_count": 108,
   "metadata": {},
   "outputs": [],
   "source": [
    "samples['prediction'] = samples.apply(lambda x: get_zero_shot_confidence(new_model_name, x), axis=1)"
   ]
  },
  {
   "cell_type": "code",
   "execution_count": 109,
   "metadata": {},
   "outputs": [
    {
     "name": "stdout",
     "output_type": "stream",
     "text": [
      "Accuracy: 0.530\n",
      "'I don't know': 0\n",
      "N/A: 86\n"
     ]
    }
   ],
   "source": [
    "samples['correct'] = samples.apply(\n",
    "    lambda row: (row['confidence'] == row['prediction']), axis=1)\n",
    "\n",
    "print(f\"Accuracy: {samples['correct'].sum() / (samples.shape[0]-len(samples[samples['prediction'] == 'idk'])):.3f}\")\n",
    "print(f\"'I don't know': {len(samples[samples['prediction'] == 'idk'])}\")\n",
    "print(f\"N/A: {len(samples[samples['prediction'] == 'N/A'])}\")"
   ]
  },
  {
   "cell_type": "code",
   "execution_count": 110,
   "metadata": {},
   "outputs": [],
   "source": [
    "samples.to_csv('./results/llama-2-chat-7b-finetuned-5-epochs-full-train-set-zeroshot-train-set-eval-temp0-2024-01-19.csv', index=False)"
   ]
  },
  {
   "cell_type": "code",
   "execution_count": 111,
   "metadata": {},
   "outputs": [
    {
     "data": {
      "text/html": [
       "<div>\n",
       "<style scoped>\n",
       "    .dataframe tbody tr th:only-of-type {\n",
       "        vertical-align: middle;\n",
       "    }\n",
       "\n",
       "    .dataframe tbody tr th {\n",
       "        vertical-align: top;\n",
       "    }\n",
       "\n",
       "    .dataframe thead th {\n",
       "        text-align: right;\n",
       "    }\n",
       "</style>\n",
       "<table border=\"1\" class=\"dataframe\">\n",
       "  <thead>\n",
       "    <tr style=\"text-align: right;\">\n",
       "      <th></th>\n",
       "      <th>statement_idx</th>\n",
       "      <th>report</th>\n",
       "      <th>page_num</th>\n",
       "      <th>sent_num</th>\n",
       "      <th>statement</th>\n",
       "      <th>confidence</th>\n",
       "      <th>score</th>\n",
       "      <th>split</th>\n",
       "      <th>formatted_jsonl</th>\n",
       "      <th>eval_prompt</th>\n",
       "      <th>prediction</th>\n",
       "      <th>correct</th>\n",
       "    </tr>\n",
       "  </thead>\n",
       "  <tbody>\n",
       "  </tbody>\n",
       "</table>\n",
       "</div>"
      ],
      "text/plain": [
       "Empty DataFrame\n",
       "Columns: [statement_idx, report, page_num, sent_num, statement, confidence, score, split, formatted_jsonl, eval_prompt, prediction, correct]\n",
       "Index: []"
      ]
     },
     "metadata": {},
     "output_type": "display_data"
    }
   ],
   "source": [
    "display(samples[samples['prediction'] == 'idk'])"
   ]
  },
  {
   "cell_type": "code",
   "execution_count": 112,
   "metadata": {},
   "outputs": [
    {
     "data": {
      "text/html": [
       "<div>\n",
       "<style scoped>\n",
       "    .dataframe tbody tr th:only-of-type {\n",
       "        vertical-align: middle;\n",
       "    }\n",
       "\n",
       "    .dataframe tbody tr th {\n",
       "        vertical-align: top;\n",
       "    }\n",
       "\n",
       "    .dataframe thead th {\n",
       "        text-align: right;\n",
       "    }\n",
       "</style>\n",
       "<table border=\"1\" class=\"dataframe\">\n",
       "  <thead>\n",
       "    <tr style=\"text-align: right;\">\n",
       "      <th></th>\n",
       "      <th>statement_idx</th>\n",
       "      <th>report</th>\n",
       "      <th>page_num</th>\n",
       "      <th>sent_num</th>\n",
       "      <th>statement</th>\n",
       "      <th>confidence</th>\n",
       "      <th>score</th>\n",
       "      <th>split</th>\n",
       "      <th>formatted_jsonl</th>\n",
       "      <th>eval_prompt</th>\n",
       "      <th>prediction</th>\n",
       "      <th>correct</th>\n",
       "    </tr>\n",
       "  </thead>\n",
       "  <tbody>\n",
       "    <tr>\n",
       "      <th>4234</th>\n",
       "      <td>4234</td>\n",
       "      <td>AR6_WGII</td>\n",
       "      <td>660</td>\n",
       "      <td>8</td>\n",
       "      <td>Reduction in the effectiveness of future adapt...</td>\n",
       "      <td>high</td>\n",
       "      <td>2</td>\n",
       "      <td>train</td>\n",
       "      <td>{'text': '&lt;s&gt;[INST] &lt;&lt;SYS&gt;&gt; You are a knowledg...</td>\n",
       "      <td>&lt;s&gt;[INST] &lt;&lt;SYS&gt;&gt; You are a knowledgeable clim...</td>\n",
       "      <td>N/A</td>\n",
       "      <td>False</td>\n",
       "    </tr>\n",
       "    <tr>\n",
       "      <th>921</th>\n",
       "      <td>921</td>\n",
       "      <td>AR6_WGI</td>\n",
       "      <td>692</td>\n",
       "      <td>6</td>\n",
       "      <td>The Human Perturbation of the Carbon and Bioge...</td>\n",
       "      <td>high</td>\n",
       "      <td>2</td>\n",
       "      <td>train</td>\n",
       "      <td>{'text': '&lt;s&gt;[INST] &lt;&lt;SYS&gt;&gt; You are a knowledg...</td>\n",
       "      <td>&lt;s&gt;[INST] &lt;&lt;SYS&gt;&gt; You are a knowledgeable clim...</td>\n",
       "      <td>N/A</td>\n",
       "      <td>False</td>\n",
       "    </tr>\n",
       "    <tr>\n",
       "      <th>5423</th>\n",
       "      <td>5423</td>\n",
       "      <td>AR6_WGII</td>\n",
       "      <td>1724</td>\n",
       "      <td>8</td>\n",
       "      <td>From 1946 to 2017, the number of fires and are...</td>\n",
       "      <td>high</td>\n",
       "      <td>2</td>\n",
       "      <td>train</td>\n",
       "      <td>{'text': '&lt;s&gt;[INST] &lt;&lt;SYS&gt;&gt; You are a knowledg...</td>\n",
       "      <td>&lt;s&gt;[INST] &lt;&lt;SYS&gt;&gt; You are a knowledgeable clim...</td>\n",
       "      <td>N/A</td>\n",
       "      <td>False</td>\n",
       "    </tr>\n",
       "    <tr>\n",
       "      <th>3095</th>\n",
       "      <td>3095</td>\n",
       "      <td>AR6_WGII</td>\n",
       "      <td>109</td>\n",
       "      <td>21</td>\n",
       "      <td>Considering socioeconomic developments and cli...</td>\n",
       "      <td>medium</td>\n",
       "      <td>1</td>\n",
       "      <td>train</td>\n",
       "      <td>{'text': '&lt;s&gt;[INST] &lt;&lt;SYS&gt;&gt; You are a knowledg...</td>\n",
       "      <td>&lt;s&gt;[INST] &lt;&lt;SYS&gt;&gt; You are a knowledgeable clim...</td>\n",
       "      <td>N/A</td>\n",
       "      <td>False</td>\n",
       "    </tr>\n",
       "    <tr>\n",
       "      <th>35</th>\n",
       "      <td>35</td>\n",
       "      <td>AR6_WGI</td>\n",
       "      <td>36</td>\n",
       "      <td>4</td>\n",
       "      <td>It is very unlikely that the combined global l...</td>\n",
       "      <td>very high</td>\n",
       "      <td>3</td>\n",
       "      <td>train</td>\n",
       "      <td>{'text': '&lt;s&gt;[INST] &lt;&lt;SYS&gt;&gt; You are a knowledg...</td>\n",
       "      <td>&lt;s&gt;[INST] &lt;&lt;SYS&gt;&gt; You are a knowledgeable clim...</td>\n",
       "      <td>N/A</td>\n",
       "      <td>False</td>\n",
       "    </tr>\n",
       "    <tr>\n",
       "      <th>...</th>\n",
       "      <td>...</td>\n",
       "      <td>...</td>\n",
       "      <td>...</td>\n",
       "      <td>...</td>\n",
       "      <td>...</td>\n",
       "      <td>...</td>\n",
       "      <td>...</td>\n",
       "      <td>...</td>\n",
       "      <td>...</td>\n",
       "      <td>...</td>\n",
       "      <td>...</td>\n",
       "      <td>...</td>\n",
       "    </tr>\n",
       "    <tr>\n",
       "      <th>3814</th>\n",
       "      <td>3814</td>\n",
       "      <td>AR6_WGII</td>\n",
       "      <td>449</td>\n",
       "      <td>5</td>\n",
       "      <td>Warming climates, even with low ocean- warming...</td>\n",
       "      <td>high</td>\n",
       "      <td>2</td>\n",
       "      <td>train</td>\n",
       "      <td>{'text': '&lt;s&gt;[INST] &lt;&lt;SYS&gt;&gt; You are a knowledg...</td>\n",
       "      <td>&lt;s&gt;[INST] &lt;&lt;SYS&gt;&gt; You are a knowledgeable clim...</td>\n",
       "      <td>N/A</td>\n",
       "      <td>False</td>\n",
       "    </tr>\n",
       "    <tr>\n",
       "      <th>1151</th>\n",
       "      <td>1151</td>\n",
       "      <td>AR6_WGI</td>\n",
       "      <td>942</td>\n",
       "      <td>29</td>\n",
       "      <td>This new understanding, along with updated est...</td>\n",
       "      <td>high</td>\n",
       "      <td>2</td>\n",
       "      <td>train</td>\n",
       "      <td>{'text': '&lt;s&gt;[INST] &lt;&lt;SYS&gt;&gt; You are a knowledg...</td>\n",
       "      <td>&lt;s&gt;[INST] &lt;&lt;SYS&gt;&gt; You are a knowledgeable clim...</td>\n",
       "      <td>N/A</td>\n",
       "      <td>False</td>\n",
       "    </tr>\n",
       "    <tr>\n",
       "      <th>2826</th>\n",
       "      <td>2826</td>\n",
       "      <td>AR6_WGII</td>\n",
       "      <td>75</td>\n",
       "      <td>9</td>\n",
       "      <td>Dengue vector ranges will increase in North Am...</td>\n",
       "      <td>high</td>\n",
       "      <td>2</td>\n",
       "      <td>train</td>\n",
       "      <td>{'text': '&lt;s&gt;[INST] &lt;&lt;SYS&gt;&gt; You are a knowledg...</td>\n",
       "      <td>&lt;s&gt;[INST] &lt;&lt;SYS&gt;&gt; You are a knowledgeable clim...</td>\n",
       "      <td>N/A</td>\n",
       "      <td>False</td>\n",
       "    </tr>\n",
       "    <tr>\n",
       "      <th>5778</th>\n",
       "      <td>5778</td>\n",
       "      <td>AR6_WGII</td>\n",
       "      <td>1860</td>\n",
       "      <td>8</td>\n",
       "      <td>The development of adaptation strategies for s...</td>\n",
       "      <td>high</td>\n",
       "      <td>2</td>\n",
       "      <td>train</td>\n",
       "      <td>{'text': '&lt;s&gt;[INST] &lt;&lt;SYS&gt;&gt; You are a knowledg...</td>\n",
       "      <td>&lt;s&gt;[INST] &lt;&lt;SYS&gt;&gt; You are a knowledgeable clim...</td>\n",
       "      <td>N/A</td>\n",
       "      <td>False</td>\n",
       "    </tr>\n",
       "    <tr>\n",
       "      <th>6131</th>\n",
       "      <td>6131</td>\n",
       "      <td>AR6_WGII</td>\n",
       "      <td>2061</td>\n",
       "      <td>5</td>\n",
       "      <td>Stronger evidence confirms that education and ...</td>\n",
       "      <td>high</td>\n",
       "      <td>2</td>\n",
       "      <td>train</td>\n",
       "      <td>{'text': '&lt;s&gt;[INST] &lt;&lt;SYS&gt;&gt; You are a knowledg...</td>\n",
       "      <td>&lt;s&gt;[INST] &lt;&lt;SYS&gt;&gt; You are a knowledgeable clim...</td>\n",
       "      <td>N/A</td>\n",
       "      <td>False</td>\n",
       "    </tr>\n",
       "  </tbody>\n",
       "</table>\n",
       "<p>86 rows × 12 columns</p>\n",
       "</div>"
      ],
      "text/plain": [
       "      statement_idx    report  page_num  sent_num  \\\n",
       "4234           4234  AR6_WGII       660         8   \n",
       "921             921   AR6_WGI       692         6   \n",
       "5423           5423  AR6_WGII      1724         8   \n",
       "3095           3095  AR6_WGII       109        21   \n",
       "35               35   AR6_WGI        36         4   \n",
       "...             ...       ...       ...       ...   \n",
       "3814           3814  AR6_WGII       449         5   \n",
       "1151           1151   AR6_WGI       942        29   \n",
       "2826           2826  AR6_WGII        75         9   \n",
       "5778           5778  AR6_WGII      1860         8   \n",
       "6131           6131  AR6_WGII      2061         5   \n",
       "\n",
       "                                              statement confidence  score  \\\n",
       "4234  Reduction in the effectiveness of future adapt...       high      2   \n",
       "921   The Human Perturbation of the Carbon and Bioge...       high      2   \n",
       "5423  From 1946 to 2017, the number of fires and are...       high      2   \n",
       "3095  Considering socioeconomic developments and cli...     medium      1   \n",
       "35    It is very unlikely that the combined global l...  very high      3   \n",
       "...                                                 ...        ...    ...   \n",
       "3814  Warming climates, even with low ocean- warming...       high      2   \n",
       "1151  This new understanding, along with updated est...       high      2   \n",
       "2826  Dengue vector ranges will increase in North Am...       high      2   \n",
       "5778  The development of adaptation strategies for s...       high      2   \n",
       "6131  Stronger evidence confirms that education and ...       high      2   \n",
       "\n",
       "      split                                    formatted_jsonl  \\\n",
       "4234  train  {'text': '<s>[INST] <<SYS>> You are a knowledg...   \n",
       "921   train  {'text': '<s>[INST] <<SYS>> You are a knowledg...   \n",
       "5423  train  {'text': '<s>[INST] <<SYS>> You are a knowledg...   \n",
       "3095  train  {'text': '<s>[INST] <<SYS>> You are a knowledg...   \n",
       "35    train  {'text': '<s>[INST] <<SYS>> You are a knowledg...   \n",
       "...     ...                                                ...   \n",
       "3814  train  {'text': '<s>[INST] <<SYS>> You are a knowledg...   \n",
       "1151  train  {'text': '<s>[INST] <<SYS>> You are a knowledg...   \n",
       "2826  train  {'text': '<s>[INST] <<SYS>> You are a knowledg...   \n",
       "5778  train  {'text': '<s>[INST] <<SYS>> You are a knowledg...   \n",
       "6131  train  {'text': '<s>[INST] <<SYS>> You are a knowledg...   \n",
       "\n",
       "                                            eval_prompt prediction  correct  \n",
       "4234  <s>[INST] <<SYS>> You are a knowledgeable clim...        N/A    False  \n",
       "921   <s>[INST] <<SYS>> You are a knowledgeable clim...        N/A    False  \n",
       "5423  <s>[INST] <<SYS>> You are a knowledgeable clim...        N/A    False  \n",
       "3095  <s>[INST] <<SYS>> You are a knowledgeable clim...        N/A    False  \n",
       "35    <s>[INST] <<SYS>> You are a knowledgeable clim...        N/A    False  \n",
       "...                                                 ...        ...      ...  \n",
       "3814  <s>[INST] <<SYS>> You are a knowledgeable clim...        N/A    False  \n",
       "1151  <s>[INST] <<SYS>> You are a knowledgeable clim...        N/A    False  \n",
       "2826  <s>[INST] <<SYS>> You are a knowledgeable clim...        N/A    False  \n",
       "5778  <s>[INST] <<SYS>> You are a knowledgeable clim...        N/A    False  \n",
       "6131  <s>[INST] <<SYS>> You are a knowledgeable clim...        N/A    False  \n",
       "\n",
       "[86 rows x 12 columns]"
      ]
     },
     "metadata": {},
     "output_type": "display_data"
    }
   ],
   "source": [
    "display(samples[samples['prediction'] == 'N/A'])"
   ]
  },
  {
   "cell_type": "code",
   "execution_count": 113,
   "metadata": {},
   "outputs": [
    {
     "data": {
      "text/html": [
       "<div>\n",
       "<style scoped>\n",
       "    .dataframe tbody tr th:only-of-type {\n",
       "        vertical-align: middle;\n",
       "    }\n",
       "\n",
       "    .dataframe tbody tr th {\n",
       "        vertical-align: top;\n",
       "    }\n",
       "\n",
       "    .dataframe thead th {\n",
       "        text-align: right;\n",
       "    }\n",
       "</style>\n",
       "<table border=\"1\" class=\"dataframe\">\n",
       "  <thead>\n",
       "    <tr style=\"text-align: right;\">\n",
       "      <th></th>\n",
       "      <th>statement_idx</th>\n",
       "      <th>report</th>\n",
       "      <th>page_num</th>\n",
       "      <th>sent_num</th>\n",
       "      <th>statement</th>\n",
       "      <th>confidence</th>\n",
       "      <th>score</th>\n",
       "      <th>split</th>\n",
       "      <th>formatted_jsonl</th>\n",
       "      <th>eval_prompt</th>\n",
       "      <th>prediction</th>\n",
       "      <th>correct</th>\n",
       "    </tr>\n",
       "  </thead>\n",
       "  <tbody>\n",
       "    <tr>\n",
       "      <th>6647</th>\n",
       "      <td>6647</td>\n",
       "      <td>AR6_WGII</td>\n",
       "      <td>2391</td>\n",
       "      <td>2</td>\n",
       "      <td>Deforestation generally reduces rainfall and e...</td>\n",
       "      <td>high</td>\n",
       "      <td>2</td>\n",
       "      <td>train</td>\n",
       "      <td>{'text': '&lt;s&gt;[INST] &lt;&lt;SYS&gt;&gt; You are a knowledg...</td>\n",
       "      <td>&lt;s&gt;[INST] &lt;&lt;SYS&gt;&gt; You are a knowledgeable clim...</td>\n",
       "      <td>low</td>\n",
       "      <td>False</td>\n",
       "    </tr>\n",
       "    <tr>\n",
       "      <th>4234</th>\n",
       "      <td>4234</td>\n",
       "      <td>AR6_WGII</td>\n",
       "      <td>660</td>\n",
       "      <td>8</td>\n",
       "      <td>Reduction in the effectiveness of future adapt...</td>\n",
       "      <td>high</td>\n",
       "      <td>2</td>\n",
       "      <td>train</td>\n",
       "      <td>{'text': '&lt;s&gt;[INST] &lt;&lt;SYS&gt;&gt; You are a knowledg...</td>\n",
       "      <td>&lt;s&gt;[INST] &lt;&lt;SYS&gt;&gt; You are a knowledgeable clim...</td>\n",
       "      <td>N/A</td>\n",
       "      <td>False</td>\n",
       "    </tr>\n",
       "    <tr>\n",
       "      <th>186</th>\n",
       "      <td>186</td>\n",
       "      <td>AR6_WGI</td>\n",
       "      <td>92</td>\n",
       "      <td>30</td>\n",
       "      <td>However, these decreases may be underestimated...</td>\n",
       "      <td>low</td>\n",
       "      <td>0</td>\n",
       "      <td>train</td>\n",
       "      <td>{'text': '&lt;s&gt;[INST] &lt;&lt;SYS&gt;&gt; You are a knowledg...</td>\n",
       "      <td>&lt;s&gt;[INST] &lt;&lt;SYS&gt;&gt; You are a knowledgeable clim...</td>\n",
       "      <td>low</td>\n",
       "      <td>True</td>\n",
       "    </tr>\n",
       "    <tr>\n",
       "      <th>921</th>\n",
       "      <td>921</td>\n",
       "      <td>AR6_WGI</td>\n",
       "      <td>692</td>\n",
       "      <td>6</td>\n",
       "      <td>The Human Perturbation of the Carbon and Bioge...</td>\n",
       "      <td>high</td>\n",
       "      <td>2</td>\n",
       "      <td>train</td>\n",
       "      <td>{'text': '&lt;s&gt;[INST] &lt;&lt;SYS&gt;&gt; You are a knowledg...</td>\n",
       "      <td>&lt;s&gt;[INST] &lt;&lt;SYS&gt;&gt; You are a knowledgeable clim...</td>\n",
       "      <td>N/A</td>\n",
       "      <td>False</td>\n",
       "    </tr>\n",
       "    <tr>\n",
       "      <th>5500</th>\n",
       "      <td>5500</td>\n",
       "      <td>AR6_WGII</td>\n",
       "      <td>1744</td>\n",
       "      <td>8</td>\n",
       "      <td>The combination of (seasonally) reduced water ...</td>\n",
       "      <td>high</td>\n",
       "      <td>2</td>\n",
       "      <td>train</td>\n",
       "      <td>{'text': '&lt;s&gt;[INST] &lt;&lt;SYS&gt;&gt; You are a knowledg...</td>\n",
       "      <td>&lt;s&gt;[INST] &lt;&lt;SYS&gt;&gt; You are a knowledgeable clim...</td>\n",
       "      <td>high</td>\n",
       "      <td>True</td>\n",
       "    </tr>\n",
       "    <tr>\n",
       "      <th>...</th>\n",
       "      <td>...</td>\n",
       "      <td>...</td>\n",
       "      <td>...</td>\n",
       "      <td>...</td>\n",
       "      <td>...</td>\n",
       "      <td>...</td>\n",
       "      <td>...</td>\n",
       "      <td>...</td>\n",
       "      <td>...</td>\n",
       "      <td>...</td>\n",
       "      <td>...</td>\n",
       "      <td>...</td>\n",
       "    </tr>\n",
       "    <tr>\n",
       "      <th>7317</th>\n",
       "      <td>7317</td>\n",
       "      <td>AR6_WGIII</td>\n",
       "      <td>55</td>\n",
       "      <td>14</td>\n",
       "      <td>A multitude of actors, networks, and movements...</td>\n",
       "      <td>high</td>\n",
       "      <td>2</td>\n",
       "      <td>train</td>\n",
       "      <td>{'text': '&lt;s&gt;[INST] &lt;&lt;SYS&gt;&gt; You are a knowledg...</td>\n",
       "      <td>&lt;s&gt;[INST] &lt;&lt;SYS&gt;&gt; You are a knowledgeable clim...</td>\n",
       "      <td>high</td>\n",
       "      <td>True</td>\n",
       "    </tr>\n",
       "    <tr>\n",
       "      <th>2826</th>\n",
       "      <td>2826</td>\n",
       "      <td>AR6_WGII</td>\n",
       "      <td>75</td>\n",
       "      <td>9</td>\n",
       "      <td>Dengue vector ranges will increase in North Am...</td>\n",
       "      <td>high</td>\n",
       "      <td>2</td>\n",
       "      <td>train</td>\n",
       "      <td>{'text': '&lt;s&gt;[INST] &lt;&lt;SYS&gt;&gt; You are a knowledg...</td>\n",
       "      <td>&lt;s&gt;[INST] &lt;&lt;SYS&gt;&gt; You are a knowledgeable clim...</td>\n",
       "      <td>N/A</td>\n",
       "      <td>False</td>\n",
       "    </tr>\n",
       "    <tr>\n",
       "      <th>5778</th>\n",
       "      <td>5778</td>\n",
       "      <td>AR6_WGII</td>\n",
       "      <td>1860</td>\n",
       "      <td>8</td>\n",
       "      <td>The development of adaptation strategies for s...</td>\n",
       "      <td>high</td>\n",
       "      <td>2</td>\n",
       "      <td>train</td>\n",
       "      <td>{'text': '&lt;s&gt;[INST] &lt;&lt;SYS&gt;&gt; You are a knowledg...</td>\n",
       "      <td>&lt;s&gt;[INST] &lt;&lt;SYS&gt;&gt; You are a knowledgeable clim...</td>\n",
       "      <td>N/A</td>\n",
       "      <td>False</td>\n",
       "    </tr>\n",
       "    <tr>\n",
       "      <th>6131</th>\n",
       "      <td>6131</td>\n",
       "      <td>AR6_WGII</td>\n",
       "      <td>2061</td>\n",
       "      <td>5</td>\n",
       "      <td>Stronger evidence confirms that education and ...</td>\n",
       "      <td>high</td>\n",
       "      <td>2</td>\n",
       "      <td>train</td>\n",
       "      <td>{'text': '&lt;s&gt;[INST] &lt;&lt;SYS&gt;&gt; You are a knowledg...</td>\n",
       "      <td>&lt;s&gt;[INST] &lt;&lt;SYS&gt;&gt; You are a knowledgeable clim...</td>\n",
       "      <td>N/A</td>\n",
       "      <td>False</td>\n",
       "    </tr>\n",
       "    <tr>\n",
       "      <th>595</th>\n",
       "      <td>595</td>\n",
       "      <td>AR6_WGI</td>\n",
       "      <td>316</td>\n",
       "      <td>21</td>\n",
       "      <td>Although ice core records present low-pass fil...</td>\n",
       "      <td>very high</td>\n",
       "      <td>3</td>\n",
       "      <td>train</td>\n",
       "      <td>{'text': '&lt;s&gt;[INST] &lt;&lt;SYS&gt;&gt; You are a knowledg...</td>\n",
       "      <td>&lt;s&gt;[INST] &lt;&lt;SYS&gt;&gt; You are a knowledgeable clim...</td>\n",
       "      <td>low</td>\n",
       "      <td>False</td>\n",
       "    </tr>\n",
       "  </tbody>\n",
       "</table>\n",
       "<p>300 rows × 12 columns</p>\n",
       "</div>"
      ],
      "text/plain": [
       "      statement_idx     report  page_num  sent_num  \\\n",
       "6647           6647   AR6_WGII      2391         2   \n",
       "4234           4234   AR6_WGII       660         8   \n",
       "186             186    AR6_WGI        92        30   \n",
       "921             921    AR6_WGI       692         6   \n",
       "5500           5500   AR6_WGII      1744         8   \n",
       "...             ...        ...       ...       ...   \n",
       "7317           7317  AR6_WGIII        55        14   \n",
       "2826           2826   AR6_WGII        75         9   \n",
       "5778           5778   AR6_WGII      1860         8   \n",
       "6131           6131   AR6_WGII      2061         5   \n",
       "595             595    AR6_WGI       316        21   \n",
       "\n",
       "                                              statement confidence  score  \\\n",
       "6647  Deforestation generally reduces rainfall and e...       high      2   \n",
       "4234  Reduction in the effectiveness of future adapt...       high      2   \n",
       "186   However, these decreases may be underestimated...        low      0   \n",
       "921   The Human Perturbation of the Carbon and Bioge...       high      2   \n",
       "5500  The combination of (seasonally) reduced water ...       high      2   \n",
       "...                                                 ...        ...    ...   \n",
       "7317  A multitude of actors, networks, and movements...       high      2   \n",
       "2826  Dengue vector ranges will increase in North Am...       high      2   \n",
       "5778  The development of adaptation strategies for s...       high      2   \n",
       "6131  Stronger evidence confirms that education and ...       high      2   \n",
       "595   Although ice core records present low-pass fil...  very high      3   \n",
       "\n",
       "      split                                    formatted_jsonl  \\\n",
       "6647  train  {'text': '<s>[INST] <<SYS>> You are a knowledg...   \n",
       "4234  train  {'text': '<s>[INST] <<SYS>> You are a knowledg...   \n",
       "186   train  {'text': '<s>[INST] <<SYS>> You are a knowledg...   \n",
       "921   train  {'text': '<s>[INST] <<SYS>> You are a knowledg...   \n",
       "5500  train  {'text': '<s>[INST] <<SYS>> You are a knowledg...   \n",
       "...     ...                                                ...   \n",
       "7317  train  {'text': '<s>[INST] <<SYS>> You are a knowledg...   \n",
       "2826  train  {'text': '<s>[INST] <<SYS>> You are a knowledg...   \n",
       "5778  train  {'text': '<s>[INST] <<SYS>> You are a knowledg...   \n",
       "6131  train  {'text': '<s>[INST] <<SYS>> You are a knowledg...   \n",
       "595   train  {'text': '<s>[INST] <<SYS>> You are a knowledg...   \n",
       "\n",
       "                                            eval_prompt prediction  correct  \n",
       "6647  <s>[INST] <<SYS>> You are a knowledgeable clim...        low    False  \n",
       "4234  <s>[INST] <<SYS>> You are a knowledgeable clim...        N/A    False  \n",
       "186   <s>[INST] <<SYS>> You are a knowledgeable clim...        low     True  \n",
       "921   <s>[INST] <<SYS>> You are a knowledgeable clim...        N/A    False  \n",
       "5500  <s>[INST] <<SYS>> You are a knowledgeable clim...       high     True  \n",
       "...                                                 ...        ...      ...  \n",
       "7317  <s>[INST] <<SYS>> You are a knowledgeable clim...       high     True  \n",
       "2826  <s>[INST] <<SYS>> You are a knowledgeable clim...        N/A    False  \n",
       "5778  <s>[INST] <<SYS>> You are a knowledgeable clim...        N/A    False  \n",
       "6131  <s>[INST] <<SYS>> You are a knowledgeable clim...        N/A    False  \n",
       "595   <s>[INST] <<SYS>> You are a knowledgeable clim...        low    False  \n",
       "\n",
       "[300 rows x 12 columns]"
      ]
     },
     "metadata": {},
     "output_type": "display_data"
    }
   ],
   "source": [
    "display(samples)"
   ]
  },
  {
   "cell_type": "markdown",
   "metadata": {},
   "source": [
    "### Test set"
   ]
  },
  {
   "cell_type": "code",
   "execution_count": 114,
   "metadata": {},
   "outputs": [],
   "source": [
    "samples = test_set.copy()"
   ]
  },
  {
   "cell_type": "code",
   "execution_count": 117,
   "metadata": {},
   "outputs": [
    {
     "name": "stdout",
     "output_type": "stream",
     "text": [
      "<s>[INST] <<SYS>> You are a knowledgeable climate science assistant trained to assess the confidence level associated with various statements about climate change. <<SYS>> You will be presented with a statement about climate science, climate impacts or climate change mitigation which is retrieved or paraphrased from the IPCC AR6 WGI, WGII or WGIII assessment reports. Climate scientists have evaluated that statement as low confidence, medium confidence, high confidence, or very high confidence, based on evidence (type, amount, quantity, consistency) and agreement among their peers. What is their confidence level? Respond *only* with one of the following words: 'low', 'medium', 'high', 'very high'. If you don't know, you can respond 'I don't know'. Statement: Common indicators of development reflect the significant diversity that exists across different global regions with respect to their development context Confidence: [/INST]  -> 1.1°C Global warming is expected to exacerbate many of the social, economic and health inequalities faced by Aboriginal and Torres Strait Islander Peoples in Australia and Māori in New Zealand Confidence: [/INST] high \n"
     ]
    }
   ],
   "source": [
    "# Single sample first for sanity check\n",
    "test_chat_prompt = samples['eval_prompt'].sample(1).values[0]\n",
    "\n",
    "output = together.Complete.create(\n",
    "  prompt = test_chat_prompt,\n",
    "  model = new_model_name,\n",
    "  max_tokens = 500,\n",
    "  temperature = 0.0,\n",
    "#   top_k = 90,\n",
    "#   top_p = 0.8,\n",
    "#   repetition_penalty = 1.1,\n",
    "  stop = ['</s>']\n",
    ")\n",
    "\n",
    "# print generated text\n",
    "print(output['prompt'][0]+\" -> \"+output['output']['choices'][0]['text'])"
   ]
  },
  {
   "cell_type": "code",
   "execution_count": 118,
   "metadata": {},
   "outputs": [],
   "source": [
    "samples['prediction'] = samples.apply(lambda x: get_zero_shot_confidence(new_model_name, x), axis=1)"
   ]
  },
  {
   "cell_type": "code",
   "execution_count": 119,
   "metadata": {},
   "outputs": [
    {
     "name": "stdout",
     "output_type": "stream",
     "text": [
      "Accuracy: 0.307\n",
      "'I don't know': 0\n",
      "N/A: 94\n"
     ]
    }
   ],
   "source": [
    "samples['correct'] = samples.apply(\n",
    "    lambda row: (row['confidence'] == row['prediction']), axis=1)\n",
    "\n",
    "print(f\"Accuracy: {samples['correct'].sum() / (samples.shape[0]-len(samples[samples['prediction'] == 'idk'])):.3f}\")\n",
    "print(f\"'I don't know': {len(samples[samples['prediction'] == 'idk'])}\")\n",
    "print(f\"N/A: {len(samples[samples['prediction'] == 'N/A'])}\")"
   ]
  },
  {
   "cell_type": "code",
   "execution_count": 120,
   "metadata": {},
   "outputs": [],
   "source": [
    "samples.to_csv('./results/llama-2-chat-7b-finetuned-5-epochs-full-train-set-zeroshot-test-set-eval-temp0-2024-01-19.csv', index=False)"
   ]
  },
  {
   "cell_type": "markdown",
   "metadata": {},
   "source": [
    "### Stop the model! "
   ]
  },
  {
   "cell_type": "code",
   "execution_count": 121,
   "metadata": {},
   "outputs": [
    {
     "data": {
      "text/plain": [
       "{'success': True}"
      ]
     },
     "execution_count": 121,
     "metadata": {},
     "output_type": "execute_result"
    }
   ],
   "source": [
    "# stop your model and you will no longer be paying for it\n",
    "together.Models.stop(new_model_name)"
   ]
  },
  {
   "cell_type": "code",
   "execution_count": null,
   "metadata": {},
   "outputs": [],
   "source": []
  }
 ],
 "metadata": {
  "kernelspec": {
   "display_name": "climate-llms-langchain",
   "language": "python",
   "name": "python3"
  },
  "language_info": {
   "codemirror_mode": {
    "name": "ipython",
    "version": 3
   },
   "file_extension": ".py",
   "mimetype": "text/x-python",
   "name": "python",
   "nbconvert_exporter": "python",
   "pygments_lexer": "ipython3",
   "version": "3.12.0"
  }
 },
 "nbformat": 4,
 "nbformat_minor": 2
}
