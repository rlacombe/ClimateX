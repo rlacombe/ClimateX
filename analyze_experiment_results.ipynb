{
 "cells": [
  {
   "cell_type": "code",
   "execution_count": 1,
   "metadata": {},
   "outputs": [],
   "source": [
    "import pandas as pd\n",
    "import numpy as np\n",
    "from dotenv import load_dotenv # pip install python-dotenv\n",
    "load_dotenv()   # Set API KEY values from .env file\n",
    "\n",
    "from utils.analysis import *\n"
   ]
  },
  {
   "cell_type": "markdown",
   "metadata": {},
   "source": [
    "# GPT-3.5 zero shot"
   ]
  },
  {
   "cell_type": "code",
   "execution_count": 2,
   "metadata": {},
   "outputs": [
    {
     "name": "stdout",
     "output_type": "stream",
     "text": [
      "accuracies [0.38666666666666666, 0.39666666666666667, 0.39666666666666667, 0.4, 0.4033333333333333]\n",
      "biases: [0.22666666666666657, 0.2333333333333334, 0.2333333333333334, 0.22999999999999998, 0.20666666666666678]\n",
      "=== All AR6 reports===\n",
      "Average ground truth score: 1.5\n",
      "Average predicted score: 1.7266666666666666\n",
      "Average scores per category: {'low': 1.4, 'medium': 1.7, 'high': 1.85, 'very high': 1.86}\n",
      "\n",
      "The slope of the regression line is: 0.1527272727272728\n",
      "=== All AR6 reports===\n",
      "Average ground truth score: 1.5\n",
      "Average predicted score: 1.7333333333333334\n",
      "Average scores per category: {'low': 1.44, 'medium': 1.68, 'high': 1.86, 'very high': 1.88}\n",
      "\n",
      "The slope of the regression line is: 0.15272727272727266\n",
      "=== All AR6 reports===\n",
      "Average ground truth score: 1.5\n",
      "Average predicted score: 1.7333333333333334\n",
      "Average scores per category: {'low': 1.42, 'medium': 1.7, 'high': 1.87, 'very high': 1.84}\n",
      "\n",
      "The slope of the regression line is: 0.1454545454545454\n",
      "=== All AR6 reports===\n",
      "Average ground truth score: 1.5\n",
      "Average predicted score: 1.73\n",
      "Average scores per category: {'low': 1.42, 'medium': 1.69, 'high': 1.87, 'very high': 1.84}\n",
      "\n",
      "The slope of the regression line is: 0.14727272727272744\n",
      "=== All AR6 reports===\n",
      "Average ground truth score: 1.5\n",
      "Average predicted score: 1.7066666666666668\n",
      "Average scores per category: {'low': 1.34, 'medium': 1.68, 'high': 1.85, 'very high': 1.84}\n",
      "\n",
      "The slope of the regression line is: 0.16727272727272724\n",
      "slopes [0.1527272727272728, 0.15272727272727266, 0.1454545454545454, 0.14727272727272744, 0.16727272727272724]\n",
      "\n",
      "---------------------------------------------------\n",
      "Metric, 95% confidence interval:\n",
      "Accuracy: 0.39666666666666667 +/- 0.01093235768004526\n",
      "Slope: 0.1530909090909091 +/- 0.015018095531339126\n",
      "Bias: 0.22600000000000003 +/- 0.019556395941538414\n",
      "\n"
     ]
    }
   ],
   "source": [
    "filename = \"results/cleaned_dataset/gpt_3.5_turbo_sc_manually_adjusted_prompt_03062024.csv\"\n",
    "results_df = pd.read_csv(filename)\n",
    "accuracy = [get_overall_accuracy(results_df, f\"model_confidence_classification_{i}\") for i in range(1, 6)]\n",
    "bias = [get_overall_bias(results_df, f\"model_confidence_classification_{i}\") for i in range(1, 6)]\n",
    "print(\"accuracies\", accuracy)\n",
    "print(\"biases:\", bias)\n",
    "slope = [get_slope(results_df, f\"model_confidence_classification_{i}\") for i in range(1, 6)]\n",
    "print(\"slopes\", slope)\n",
    "\n",
    "mean_accuracy = np.mean(accuracy)\n",
    "mean_slope = np.mean(slope)\n",
    "mean_bias = np.mean(bias)\n",
    "\n",
    "std_accuracy = np.std(accuracy)\n",
    "std_slope = np.std(slope)\n",
    "std_bias = np.std(bias)\n",
    "\n",
    "print(f\"\"\"\n",
    "---------------------------------------------------\n",
    "Metric, 95% confidence interval:\n",
    "Accuracy: {mean_accuracy} +/- {1.96*std_accuracy}\n",
    "Slope: {mean_slope} +/- {1.96*std_slope}\n",
    "Bias: {mean_bias} +/- {1.96*std_bias}\n",
    "\"\"\"\n",
    ")"
   ]
  },
  {
   "cell_type": "markdown",
   "metadata": {},
   "source": [
    "# GPT-4o zero shot"
   ]
  },
  {
   "cell_type": "code",
   "execution_count": 4,
   "metadata": {},
   "outputs": [
    {
     "name": "stdout",
     "output_type": "stream",
     "text": [
      "accuracies [0.43666666666666665, 0.43666666666666665, 0.45666666666666667, 0.42333333333333334, 0.44666666666666666]\n",
      "biases: [0.28, 0.28, 0.2933333333333332, 0.27333333333333343, 0.2866666666666666]\n",
      "=== All AR6 reports===\n",
      "Average ground truth score: 1.5\n",
      "Average predicted score: 1.78\n",
      "Average scores per category: {'low': 1.18, 'medium': 1.6, 'high': 2.07, 'very high': 2.16}\n",
      "\n",
      "The slope of the regression line is: 0.3527272727272727\n",
      "=== All AR6 reports===\n",
      "Average ground truth score: 1.5\n",
      "Average predicted score: 1.78\n",
      "Average scores per category: {'low': 1.2, 'medium': 1.6, 'high': 2.06, 'very high': 2.16}\n",
      "\n",
      "The slope of the regression line is: 0.3454545454545455\n",
      "=== All AR6 reports===\n",
      "Average ground truth score: 1.5\n",
      "Average predicted score: 1.7933333333333332\n",
      "Average scores per category: {'low': 1.18, 'medium': 1.6, 'high': 2.09, 'very high': 2.2}\n",
      "\n",
      "The slope of the regression line is: 0.3672727272727275\n",
      "=== All AR6 reports===\n",
      "Average ground truth score: 1.5\n",
      "Average predicted score: 1.7733333333333334\n",
      "Average scores per category: {'low': 1.16, 'medium': 1.6, 'high': 2.08, 'very high': 2.12}\n",
      "\n",
      "The slope of the regression line is: 0.34909090909090884\n",
      "=== All AR6 reports===\n",
      "Average ground truth score: 1.5\n",
      "Average predicted score: 1.7866666666666666\n",
      "Average scores per category: {'low': 1.2, 'medium': 1.63, 'high': 2.06, 'very high': 2.14}\n",
      "\n",
      "The slope of the regression line is: 0.3345454545454547\n",
      "slopes [0.3527272727272727, 0.3454545454545455, 0.3672727272727275, 0.34909090909090884, 0.3345454545454547]\n",
      "\n",
      "---------------------------------------------------\n",
      "Metric, 95% confidence interval:\n",
      "Accuracy: 0.44000000000000006 +/- 0.021864715360090506\n",
      "Slope: 0.34981818181818186 +/- 0.020852602271361837\n",
      "Bias: 0.2826666666666667 +/- 0.013325437662189007\n",
      "\n"
     ]
    }
   ],
   "source": [
    "filename = \"results/cleaned_dataset/gpt_4o_sc_manually_adjusted_prompt_03062024.csv\"\n",
    "results_df = pd.read_csv(filename)\n",
    "accuracy = [get_overall_accuracy(results_df, f\"model_confidence_classification_{i}\") for i in range(1, 6)]\n",
    "bias = [get_overall_bias(results_df, f\"model_confidence_classification_{i}\") for i in range(1, 6)]\n",
    "print(\"accuracies\", accuracy)\n",
    "print(\"biases:\", bias)\n",
    "slope = [get_slope(results_df, f\"model_confidence_classification_{i}\") for i in range(1, 6)]\n",
    "print(\"slopes\", slope)\n",
    "\n",
    "mean_accuracy = np.mean(accuracy)\n",
    "mean_slope = np.mean(slope)\n",
    "mean_bias = np.mean(bias)\n",
    "\n",
    "std_accuracy = np.std(accuracy)\n",
    "std_slope = np.std(slope)\n",
    "std_bias = np.std(bias)\n",
    "\n",
    "print(f\"\"\"\n",
    "---------------------------------------------------\n",
    "Metric, 95% confidence interval:\n",
    "Accuracy: {mean_accuracy} +/- {1.96*std_accuracy}\n",
    "Slope: {mean_slope} +/- {1.96*std_slope}\n",
    "Bias: {mean_bias} +/- {1.96*std_bias}\n",
    "\"\"\"\n",
    ")"
   ]
  },
  {
   "cell_type": "code",
   "execution_count": null,
   "metadata": {},
   "outputs": [],
   "source": []
  }
 ],
 "metadata": {
  "kernelspec": {
   "display_name": "climate-llms",
   "language": "python",
   "name": "python3"
  },
  "language_info": {
   "codemirror_mode": {
    "name": "ipython",
    "version": 3
   },
   "file_extension": ".py",
   "mimetype": "text/x-python",
   "name": "python",
   "nbconvert_exporter": "python",
   "pygments_lexer": "ipython3",
   "version": "3.12.3"
  }
 },
 "nbformat": 4,
 "nbformat_minor": 2
}
