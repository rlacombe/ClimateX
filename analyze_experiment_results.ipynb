{
 "cells": [
  {
   "cell_type": "code",
   "execution_count": 1,
   "metadata": {},
   "outputs": [],
   "source": [
    "import pandas as pd\n",
    "import numpy as np\n",
    "from dotenv import load_dotenv # pip install python-dotenv\n",
    "load_dotenv()   # Set API KEY values from .env file\n",
    "\n",
    "from utils.analysis import *\n"
   ]
  },
  {
   "cell_type": "code",
   "execution_count": 2,
   "metadata": {},
   "outputs": [],
   "source": [
    "model_classification_col_names = [f\"model_confidence_classification_{i}\" for i in range(1, 6)]"
   ]
  },
  {
   "cell_type": "markdown",
   "metadata": {},
   "source": [
    "# GPT-3.5 zero shot"
   ]
  },
  {
   "cell_type": "code",
   "execution_count": 3,
   "metadata": {},
   "outputs": [
    {
     "name": "stdout",
     "output_type": "stream",
     "text": [
      "accuracies [0.38666666666666666, 0.39666666666666667, 0.39666666666666667, 0.4, 0.4033333333333333]\n",
      "biases: [0.22666666666666657, 0.2333333333333334, 0.2333333333333334, 0.22999999999999998, 0.20666666666666678]\n",
      "slopes [0.1527272727272728, 0.15272727272727266, 0.1454545454545454, 0.14727272727272744, 0.16727272727272724]\n",
      "\n",
      "---------------------------------------------------\n",
      "Metric, 95% confidence interval:\n",
      "Accuracy: 0.397 +/- 0.011\n",
      "Slope: 0.153 +/- 0.015\n",
      "Bias: 0.226 +/- 0.020\n",
      "\n"
     ]
    }
   ],
   "source": [
    "filename = \"results/cleaned_dataset/gpt_3.5_turbo_sc_manually_adjusted_prompt_03062024.csv\"\n",
    "results_df = pd.read_csv(filename)\n",
    "print_accuracy_slope_bias_metrics(results_df, model_classification_col_names, plot=False, verbose=False)"
   ]
  },
  {
   "cell_type": "markdown",
   "metadata": {},
   "source": [
    "# GPT-4o zero shot"
   ]
  },
  {
   "cell_type": "code",
   "execution_count": 4,
   "metadata": {},
   "outputs": [
    {
     "name": "stdout",
     "output_type": "stream",
     "text": [
      "accuracies [0.43666666666666665, 0.43666666666666665, 0.45666666666666667, 0.42333333333333334, 0.44666666666666666]\n",
      "biases: [0.28, 0.28, 0.2933333333333332, 0.27333333333333343, 0.2866666666666666]\n",
      "slopes [0.3527272727272727, 0.3454545454545455, 0.3672727272727275, 0.34909090909090884, 0.3345454545454547]\n",
      "\n",
      "---------------------------------------------------\n",
      "Metric, 95% confidence interval:\n",
      "Accuracy: 0.440 +/- 0.022\n",
      "Slope: 0.350 +/- 0.021\n",
      "Bias: 0.283 +/- 0.013\n",
      "\n"
     ]
    }
   ],
   "source": [
    "filename = \"results/cleaned_dataset/gpt_4o_sc_manually_adjusted_prompt_03062024.csv\"\n",
    "results_df = pd.read_csv(filename)\n",
    "print_accuracy_slope_bias_metrics(results_df, model_classification_col_names, plot=False, verbose=False)"
   ]
  },
  {
   "cell_type": "code",
   "execution_count": null,
   "metadata": {},
   "outputs": [],
   "source": []
  }
 ],
 "metadata": {
  "kernelspec": {
   "display_name": "climate-llms",
   "language": "python",
   "name": "python3"
  },
  "language_info": {
   "codemirror_mode": {
    "name": "ipython",
    "version": 3
   },
   "file_extension": ".py",
   "mimetype": "text/x-python",
   "name": "python",
   "nbconvert_exporter": "python",
   "pygments_lexer": "ipython3",
   "version": "3.12.3"
  }
 },
 "nbformat": 4,
 "nbformat_minor": 2
}
