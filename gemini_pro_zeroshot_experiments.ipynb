{
  "nbformat": 4,
  "nbformat_minor": 0,
  "metadata": {
    "colab": {
      "provenance": []
    },
    "kernelspec": {
      "name": "python3",
      "display_name": "Python 3"
    },
    "language_info": {
      "name": "python"
    }
  },
  "cells": [
    {
      "cell_type": "markdown",
      "source": [
        "# Zero-shot evaluation of Gemini Pro\n"
      ],
      "metadata": {
        "id": "ZWhWniBGu3_Y"
      }
    },
    {
      "cell_type": "code",
      "source": [
        "#@title Configure Gemini API key\n",
        "\n",
        "from google.colab import userdata\n",
        "\n",
        "#Access your Gemini API key\n",
        "\n",
        "!pip install -q -U google-generativeai\n",
        "import google.generativeai as genai\n",
        "from google.colab import userdata\n",
        "\n",
        "try:\n",
        "  GOOGLE_API_KEY=userdata.get('gemini_api_secret_name')\n",
        "  genai.configure(api_key=GOOGLE_API_KEY)\n",
        "except userdata.SecretNotFoundError as e:\n",
        "   print(f'''Secret not found\n",
        "\n",
        "This expects you to create a secret named {gemini_api_secret_name} in Colab\n",
        "\n",
        "Visit https://makersuite.google.com/app/apikey to create an API key\n",
        "\n",
        "Store that in the secrets section on the left side of the notebook (key icon)\n",
        "\n",
        "Name the secret {gemini_api_secret_name}''')\n",
        "   raise e\n",
        "except userdata.NotebookAccessError as e:\n",
        "  print(f'''You need to grant this notebook access to the {gemini_api_secret_name} secret in order for the notebook to access Gemini on your behalf.''')\n",
        "  raise e\n",
        "except Exception as e:\n",
        "  # unknown error\n",
        "  print(f\"There was an unknown error. Ensure you have a secret {gemini_api_secret_name} stored in Colab and it's a valid key from https://makersuite.google.com/app/apikey\")\n",
        "  raise e\n",
        "\n",
        "model = genai.GenerativeModel('gemini-pro')"
      ],
      "metadata": {
        "id": "yFv1abRcv2P2"
      },
      "execution_count": null,
      "outputs": []
    },
    {
      "cell_type": "markdown",
      "source": [
        "## Load dataset"
      ],
      "metadata": {
        "id": "WLtYOzPfndJj"
      }
    },
    {
      "cell_type": "code",
      "source": [
        "import pandas as pd\n",
        "\n",
        "df = pd.read_csv('ipcc_statements_dataset.tsv', sep='\\t')\n",
        "df.columns = ['statement_idx', 'report', 'page_num', 'sent_num', 'statement', 'confidence', 'score', 'split']\n",
        "\n",
        "df['prediction'] = \"\"\n",
        "\n",
        "train_set = df.loc[df['split'] == 'train']\n",
        "test_set = df.loc[df['split'] == 'test']"
      ],
      "metadata": {
        "id": "s9-xUjpqndgl"
      },
      "execution_count": null,
      "outputs": []
    },
    {
      "cell_type": "code",
      "source": [
        "#@title Use Gemini Pro to relabel the dataset\n",
        "\n",
        "for i in range(len(test_set)):\n",
        "    row = test_set.iloc[i]\n",
        "\n",
        "    prompt = \"You are a knowledgeable climate science assistant trained to assess the confidence level associated with various statements about climate change.\\n\\nYou will be presented with a statement about climate science, climate impacts or cli mate change mitigation which is retrieved or paraphrased from the IPCC AR6 WGI, WGII or WGIII assessment reports. Climate scientists have evaluated that statement as low confidence, medium confidence, high confidence, or very high confidence, based on evidence (type, amount, quantity, consistency) and agreement among their peers. What is their confidence level?\\n\\nRespond *only* with one of the following words: ’low’, ’medium’, ’high’, ’very high’. If you don’t know, you can respond ’I don’t know’.\\n—\\nFollow the following format.\\nStatement: ${a short statement about climate.}\\nConfidence: ${must be *only*: ’low’, ’medium’, ’high’, ’very high’}\\n—\\nStatement: %s\\nConfidence: \" % (row[4])\n",
        "\n",
        "    completion = response.text.lower()\n",
        "    if (completion == \"i don't know\"): completion = \"idk\"\n",
        "\n",
        "    test_set.loc[i, 'prediction'] = completion\n",
        "    print(f\"{i}. {completion}\")\n"
      ],
      "metadata": {
        "id": "KuvZs9W1USEq"
      },
      "execution_count": null,
      "outputs": []
    },
    {
      "cell_type": "code",
      "source": [
        "test_set.head(10)"
      ],
      "metadata": {
        "id": "tPza9pX6wNli"
      },
      "execution_count": null,
      "outputs": []
    },
    {
      "cell_type": "code",
      "source": [
        "test_set['prediction'] = test_set['prediction'].str.lower()"
      ],
      "metadata": {
        "id": "GAyeGKuY3DIv"
      },
      "execution_count": null,
      "outputs": []
    },
    {
      "cell_type": "code",
      "source": [
        "samples = test_set\n",
        "\n",
        "samples['correct'] = samples.apply(\n",
        "    lambda row: (row['confidence'] == row['prediction']), axis=1)\n",
        "\n",
        "print(f\"Accuracy: {samples['correct'].sum() / (samples.shape[0]-len(samples[samples['prediction'] == 'idk'])):.3f}\")\n",
        "print(f\"'I don't know': {len(samples[samples['prediction'] == 'idk'])}\")\n",
        "print(f\"N/A: {len(samples[samples['prediction'] == 'N/A'])}\")"
      ],
      "metadata": {
        "id": "-jc_4i12Ys3C"
      },
      "execution_count": null,
      "outputs": []
    },
    {
      "cell_type": "code",
      "source": [
        "samples.to_csv('gemini-pro-zeroshot-2023-12-15.csv', index=False)"
      ],
      "metadata": {
        "id": "zM7YFG3XxL6O"
      },
      "execution_count": null,
      "outputs": []
    },
    {
      "cell_type": "markdown",
      "source": [
        "# Analyze predictions"
      ],
      "metadata": {
        "id": "l6aFwlm5xE4j"
      }
    },
    {
      "cell_type": "code",
      "source": [
        "from sklearn.metrics import f1_score, precision_score, recall_score, accuracy_score, classification_report\n",
        "\n",
        "true_labels = samples.loc[(samples['prediction'] != 'N/A') & (samples['prediction'] != 'idk'), 'confidence']\n",
        "predicted_labels = samples.loc[(samples['prediction'] != 'N/A') & (samples['prediction'] != 'idk'), 'prediction']\n",
        "\n",
        "# Compute macro F1 score\n",
        "f1 = f1_score(true_labels, predicted_labels, average='macro')\n",
        "print(\"Macro F1 score:\", f1)\n",
        "\n",
        "# Compute weighted F1 score\n",
        "f1 = f1_score(true_labels, predicted_labels, average='weighted')\n",
        "print(\"Weighted F1 score:\", f1)\n",
        "\n",
        "# Compute precision for each class\n",
        "precision = precision_score(true_labels, predicted_labels, average=None)\n",
        "\n",
        "# Compute recall for each class\n",
        "recall = recall_score(true_labels, predicted_labels, average=None)\n",
        "\n",
        "# Compute F1 score for each class\n",
        "f1 = f1_score(true_labels, predicted_labels, average=None)\n",
        "\n",
        "# Create a dataframe to store precision and recall for each class\n",
        "class_metrics_df = pd.DataFrame({'Precision': precision, 'Recall': recall, 'F1': f1})\n",
        "\n",
        "# Add labels to the class metrics dataframe\n",
        "class_metrics_df['Class'] = true_labels.unique().astype(str)\n",
        "\n",
        "# Sort the dataframe by class index or name\n",
        "class_metrics_df = class_metrics_df.sort_values('Class', key=lambda x: pd.Categorical(x, categories=[\"low\", \"medium\", \"high\", \"very high\"]))\n",
        "\n",
        "# Print class metrics dataframe\n",
        "#print(class_metrics_df)\n",
        "\n",
        "# Compute accuracy for the whole system\n",
        "accuracy = accuracy_score(true_labels, predicted_labels)\n",
        "\n",
        "# Compute accuracy by class\n",
        "\n",
        "print(\"Accuracy (total):\", accuracy)\n",
        "\n",
        "report = classification_report(true_labels, predicted_labels, digits=4)\n",
        "print(report)\n",
        "\n",
        "# Count classes\n",
        "category_counts = true_labels.value_counts()\n",
        "print(category_counts)\n",
        "\n"
      ],
      "metadata": {
        "colab": {
          "base_uri": "https://localhost:8080/"
        },
        "id": "FGCxs2xExERr",
        "outputId": "8a988a7f-9e2d-4adb-eb79-892053ffa74d"
      },
      "execution_count": null,
      "outputs": [
        {
          "output_type": "stream",
          "name": "stdout",
          "text": [
            "Macro F1 score: 0.3386822689888727\n",
            "Weighted F1 score: 0.3943114013868731\n",
            "Accuracy (total): 0.44\n",
            "              precision    recall  f1-score   support\n",
            "\n",
            "        high     0.4182    0.6900    0.5208       100\n",
            "         low     1.0000    0.0400    0.0769        50\n",
            "      medium     0.4722    0.5100    0.4904       100\n",
            "   very high     0.4000    0.2000    0.2667        50\n",
            "\n",
            "    accuracy                         0.4400       300\n",
            "   macro avg     0.5726    0.3600    0.3387       300\n",
            "weighted avg     0.5301    0.4400    0.3943       300\n",
            "\n",
            "high         100\n",
            "medium       100\n",
            "very high     50\n",
            "low           50\n",
            "Name: confidence, dtype: int64\n"
          ]
        }
      ]
    },
    {
      "cell_type": "code",
      "source": [
        "# Filter samples\n",
        "fs = samples.loc[(samples['prediction'] != 'N/A') & (samples['prediction'] != 'idk')]\n",
        "\n",
        "# Compute a certainty score\n",
        "value_map = {'low': 0, 'medium': 1, 'high': 2, 'very high': 3}\n",
        "\n",
        "fs['score'] = fs.confidence.apply(\n",
        "    lambda x: value_map[x])\n",
        "\n",
        "fs['predicted_score'] = fs.prediction.apply(\n",
        "    lambda x: value_map[x])\n",
        "\n",
        "# Break down scores\n",
        "scores_all = {\n",
        "    \"low\": fs.loc[fs['score'] == 0, 'predicted_score'].mean(),\n",
        "    \"medium\": fs.loc[fs['score'] == 1, 'predicted_score'].mean(),\n",
        "    \"high\": fs.loc[fs['score'] == 2, 'predicted_score'].mean(),\n",
        "    \"very high\": fs.loc[fs['score'] == 3, 'predicted_score'].mean()\n",
        "}\n",
        "\n",
        "scores_wg1 = {\n",
        "    \"low\": fs.loc[(fs['score'] == 0) & (fs['report'] == 'AR6_WGI'), 'predicted_score'].mean(),\n",
        "    \"medium\": fs.loc[(fs['score'] == 1) & (fs['report'] == 'AR6_WGI'), 'predicted_score'].mean(),\n",
        "    \"high\": fs.loc[(fs['score'] == 2) & (fs['report'] == 'AR6_WGI'), 'predicted_score'].mean(),\n",
        "    \"very high\": fs.loc[(fs['score'] == 3) & (fs['report'] == 'AR6_WGI'), 'predicted_score'].mean()\n",
        "}\n",
        "\n",
        "scores_wg23 = {\n",
        "    \"low\": fs.loc[(fs['score'] == 0) & (fs['report'] != 'AR6_WGI'), 'predicted_score'].mean(),\n",
        "    \"medium\": fs.loc[(fs['score'] == 1) & (fs['report'] != 'AR6_WGI'), 'predicted_score'].mean(),\n",
        "    \"high\": fs.loc[(fs['score'] == 2) & (fs['report'] != 'AR6_WGI'), 'predicted_score'].mean(),\n",
        "    \"very high\": fs.loc[(fs['score'] == 3) & (fs['report'] != 'AR6_WGI'), 'predicted_score'].mean()\n",
        "}\n",
        "\n",
        "print(\"=== All AR6 reports===\")\n",
        "print(f\"Average ground truth score: {samples['score'].mean()}\")\n",
        "print(f\"Average predicted score: {fs['predicted_score'].mean()}\")\n",
        "print(f\"Average scores per category: {scores_all}\\n\")\n",
        "\n",
        "print(\"=== AR6 WGI report ===\")\n",
        "print(f\"Average ground truth score: {samples.loc[samples['report'] == 'AR6_WGI', 'score'].mean()}\")\n",
        "print(f\"Average predicted score: {fs.loc[fs['report'] == 'AR6_WGI', 'predicted_score'].mean()}\")\n",
        "print(f\"Average scores per category: {scores_wg1}\\n\")\n",
        "\n",
        "print(\"=== AR6 WGII/III reports ===\")\n",
        "print(f\"Average ground truth score: {samples.loc[samples['report'] != 'AR6_WGI', 'score'].mean()}\")\n",
        "print(f\"Average predicted score: {fs.loc[fs['report'] != 'AR6_WGI', 'predicted_score'].mean()}\")\n",
        "print(f\"Average scores per category: {scores_wg23}\\n\")"
      ],
      "metadata": {
        "colab": {
          "base_uri": "https://localhost:8080/"
        },
        "id": "YxwVmIwwxcnc",
        "outputId": "7473674a-0dde-4a8f-828c-f355f2bf40dd"
      },
      "execution_count": null,
      "outputs": [
        {
          "output_type": "stream",
          "name": "stdout",
          "text": [
            "=== All AR6 reports===\n",
            "Average ground truth score: 1.0070700371073701e+297\n",
            "Average predicted score: 1.71\n",
            "Average scores per category: {'low': 1.3, 'medium': 1.52, 'high': 1.91, 'very high': 2.1}\n",
            "\n",
            "=== AR6 WGI report ===\n",
            "Average ground truth score: 3.1802211698127475e+92\n",
            "Average predicted score: 1.7894736842105263\n",
            "Average scores per category: {'low': 1.35, 'medium': 1.6571428571428573, 'high': 2.0, 'very high': 2.5}\n",
            "\n",
            "=== AR6 WGII/III reports ===\n",
            "Average ground truth score: 1.6162542113224938e+202\n",
            "Average predicted score: 1.673170731707317\n",
            "Average scores per category: {'low': 1.2666666666666666, 'medium': 1.4461538461538461, 'high': 1.8714285714285714, 'very high': 2.0}\n",
            "\n"
          ]
        }
      ]
    },
    {
      "cell_type": "code",
      "source": [
        "import seaborn as sns\n",
        "import matplotlib.pyplot as plt\n",
        "import numpy as np\n",
        "\n",
        "# Define the data\n",
        "\n",
        "# Extract labels and values from the data dictionary\n",
        "labels = list(scores_all.keys())\n",
        "values_all = list(scores_all.values())\n",
        "values_wg1 = list(scores_wg1.values())\n",
        "values_wg23 = list(scores_wg23.values())\n",
        "\n",
        "# Define the custom labels for the x-axis\n",
        "x_labels = ['0 (Low)', '1 (Medium)', '2 (High)', '3 (Very high)']\n",
        "\n",
        "# Create the line plot with labeled curve\n",
        "sns.lineplot(x=labels, y=values_all, label='Average prediction')\n",
        "sns.lineplot(x=labels, y=values_wg1, linestyle='--', color=\"steelblue\", label='WG1 report')\n",
        "sns.lineplot(x=labels, y=values_wg23, linestyle='dotted', color=\"steelblue\", label='WG2 & WG3 report')\n",
        "\n",
        "\n",
        "# Add the ground truth line (y = x)\n",
        "x = np.arange(len(labels))\n",
        "plt.plot(x, x, linestyle='--', color='red', label='Ground truth')\n",
        "\n",
        "# Customize the x-axis tick labels\n",
        "plt.xticks(labels, x_labels)\n",
        "\n",
        "# Set the y-axis limits\n",
        "plt.ylim(0, 3)\n",
        "\n",
        "# Set the title and labels\n",
        "plt.title(\"Average predicted certainty level per class\")\n",
        "plt.xlabel(\"Label\")\n",
        "plt.ylabel(\"Value\")\n",
        "\n",
        "# Show the legend\n",
        "plt.legend()\n",
        "\n",
        "# Show the plot\n",
        "plt.show()"
      ],
      "metadata": {
        "colab": {
          "base_uri": "https://localhost:8080/",
          "height": 472
        },
        "id": "tIIs91xrxdwT",
        "outputId": "3af0645c-d818-46ee-d7f6-6aafd3e708b0"
      },
      "execution_count": null,
      "outputs": [
        {
          "output_type": "display_data",
          "data": {
            "text/plain": [
              "<Figure size 640x480 with 1 Axes>"
            ],
            "image/png": "[encoded data removed]"
          },
          "metadata": {}
        }
      ]
    }
  ]
}