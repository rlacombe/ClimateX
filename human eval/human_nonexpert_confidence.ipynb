{
  "nbformat": 4,
  "nbformat_minor": 0,
  "metadata": {
    "colab": {
      "provenance": []
    },
    "kernelspec": {
      "name": "python3",
      "display_name": "Python 3"
    },
    "language_info": {
      "name": "python"
    }
  },
  "cells": [
    {
      "cell_type": "markdown",
      "source": [
        "Imports"
      ],
      "metadata": {
        "id": "H_IG674ADBQg"
      }
    },
    {
      "cell_type": "code",
      "execution_count": 18,
      "metadata": {
        "id": "t11qMeLBCO6m"
      },
      "outputs": [],
      "source": [
        "import pandas as pd\n",
        "import os\n",
        "import seaborn as sns\n",
        "import matplotlib.pyplot as plt\n",
        "import numpy as np\n",
        "\n"
      ]
    },
    {
      "cell_type": "markdown",
      "source": [
        "Load non-expert human evaluation file."
      ],
      "metadata": {
        "id": "l8zYVp1SDPiP"
      }
    },
    {
      "cell_type": "code",
      "source": [
        "df = pd.read_csv('human_eval_testset.tsv', sep='\\t', skiprows=0)\n",
        "\n",
        "df.tail"
      ],
      "metadata": {
        "colab": {
          "base_uri": "https://localhost:8080/"
        },
        "id": "k2K1tC4tC0xw",
        "outputId": "0ce33a6b-983f-4ca7-99fa-295825f4d0d1"
      },
      "execution_count": 26,
      "outputs": [
        {
          "output_type": "execute_result",
          "data": {
            "text/plain": [
              "<bound method NDFrame.tail of                                              statement prediction confidence  \\\n",
              "0    Since 1750, increases in CO2 (47%) and CH4 (15...        low  very high   \n",
              "1    Over the next 2000 years, global mean sea leve...     medium        low   \n",
              "2    By the end of the century, scenarios with very...     medium       high   \n",
              "3    Over the past millennium, and especially since...     medium     medium   \n",
              "4    The paleo context supports the assessment that...       high       high   \n",
              "..                                                 ...        ...        ...   \n",
              "295  REDD+ can significantly contribute to climate ...     medium       high   \n",
              "296  Large-scale bioenergy projects with CCS may be...     medium     medium   \n",
              "297  Reforestation and forest restoration can have ...       high     medium   \n",
              "298  BEVs could create jobs associated with the EV ...     medium        low   \n",
              "299  For pathways that limit warming to 2°C (>67%) ...        idk       high   \n",
              "\n",
              "     correct  score  predicted_score  \n",
              "0          0      3                0  \n",
              "1          0      0                1  \n",
              "2          0      2                1  \n",
              "3          1      1                1  \n",
              "4          1      2                2  \n",
              "..       ...    ...              ...  \n",
              "295        0      2                1  \n",
              "296        1      1                1  \n",
              "297        0      1                2  \n",
              "298        0      0                1  \n",
              "299        0      2                0  \n",
              "\n",
              "[300 rows x 6 columns]>"
            ]
          },
          "metadata": {},
          "execution_count": 26
        }
      ]
    },
    {
      "cell_type": "code",
      "source": [
        "samples = df\n",
        "\n",
        "samples['correct'] = samples.apply(\n",
        "    lambda row: (row['confidence'] == row['prediction']), axis=1)\n",
        "\n",
        "print(f\"Accuracy: {samples['correct'].sum() / (samples.shape[0]-len(samples[samples['prediction'] == 'idk'])):.3f}\")\n",
        "print(f\"'I don't know': {len(samples[samples['prediction'] == 'idk'])}\")\n",
        "print(f\"N/A: {len(samples[samples['prediction'] == 'N/A'])}\")"
      ],
      "metadata": {
        "colab": {
          "base_uri": "https://localhost:8080/"
        },
        "id": "2F0TmakpD_bm",
        "outputId": "eec904d7-e4ed-4170-e6d2-3b9f25375148"
      },
      "execution_count": 27,
      "outputs": [
        {
          "output_type": "stream",
          "name": "stdout",
          "text": [
            "Accuracy: 0.366\n",
            "'I don't know': 2\n",
            "N/A: 0\n"
          ]
        }
      ]
    },
    {
      "cell_type": "code",
      "source": [
        "# Filter samples\n",
        "fs = samples.loc[(samples['prediction'] != 'nan') & (samples['prediction'] != 'idk')]\n",
        "\n",
        "fs.tail\n",
        "\n",
        "# # Compute a certainty score\n",
        "# value_map = {'low': 0, 'medium': 1, 'high': 2, 'very high': 3}\n",
        "\n",
        "# fs['score'] = fs.confidence.apply(\n",
        "#     lambda x: value_map[x])\n",
        "\n",
        "# fs['predicted_score'] = fs.prediction.apply(\n",
        "#     lambda x: value_map[x])\n",
        "\n",
        "# Break down scores\n",
        "scores_all = {\n",
        "    \"low\": fs.loc[fs['score'] == 0, 'predicted_score'].mean(),\n",
        "    \"medium\": fs.loc[fs['score'] == 1, 'predicted_score'].mean(),\n",
        "    \"high\": fs.loc[fs['score'] == 2, 'predicted_score'].mean(),\n",
        "    \"very high\": fs.loc[fs['score'] == 3, 'predicted_score'].mean()\n",
        "}\n",
        "\n",
        "print(scores_all)"
      ],
      "metadata": {
        "colab": {
          "base_uri": "https://localhost:8080/"
        },
        "id": "61y3HgdDFU8R",
        "outputId": "de3cb43e-3641-42c8-d796-86a25d8b5df6"
      },
      "execution_count": 35,
      "outputs": [
        {
          "output_type": "stream",
          "name": "stdout",
          "text": [
            "{'low': 1.46, 'medium': 1.505050505050505, 'high': 1.8888888888888888, 'very high': 1.88}\n"
          ]
        }
      ]
    },
    {
      "cell_type": "code",
      "source": [
        "# Define the data\n",
        "\n",
        "\n",
        "\n",
        "\n",
        "# Extract labels and values from the data dictionary\n",
        "\n",
        "labels = list(scores_all.keys())\n",
        "values_all = list(scores_all.values())\n",
        "# values_wg1 = list(scores_wg1.values())\n",
        "# values_wg23 = list(scores_wg23.values())\n",
        "\n",
        "# Define the custom labels for the x-axis\n",
        "x_labels = ['0 (Low)', '1 (Medium)', '2 (High)', '3 (Very high)']\n",
        "\n",
        "plt.figure(figsize=(5, 4))\n",
        "\n",
        "# Create the line plot with labeled curve\n",
        "sns.lineplot(x=labels, y=values_all, label='All reports')\n",
        "# sns.lineplot(x=labels, y=values_wg1, linestyle='--', color=\"steelblue\", label='WG1 report')\n",
        "# sns.lineplot(x=labels, y=values_wg23, linestyle='dotted', color=\"steelblue\", label='WG2 & WG3 report')\n",
        "\n",
        "\n",
        "# Add the ground truth line (y = x)\n",
        "x = np.arange(len(labels))\n",
        "plt.plot(x, x, linestyle='--', color='red', label='Ground truth')\n",
        "\n",
        "# Customize the x-axis tick labels\n",
        "plt.xticks(labels, x_labels)\n",
        "\n",
        "# Set the y-axis limits\n",
        "plt.ylim(0, 3)\n",
        "\n",
        "# Set the title and labels\n",
        "plt.title(\"Average predicted confidence level\")\n",
        "plt.xlabel(\"Ground truth\")\n",
        "plt.ylabel(\"Prediction\")\n",
        "\n",
        "\n",
        "# Show the legend\n",
        "plt.legend()\n",
        "\n",
        "# Show the plot\n",
        "plt.savefig(\"human-non-expert.png\", dpi=500)\n",
        "plt.show()"
      ],
      "metadata": {
        "colab": {
          "base_uri": "https://localhost:8080/",
          "height": 410
        },
        "id": "dLle8BBYCdr8",
        "outputId": "1280744f-bfdd-499f-a198-606ef4846fed"
      },
      "execution_count": 33,
      "outputs": [
        {
          "output_type": "display_data",
          "data": {
            "text/plain": [
              "<Figure size 500x400 with 1 Axes>"
            ],
            "image/png": "[encoded data removed]"
          },
          "metadata": {}
        }
      ]
    }
  ]
}