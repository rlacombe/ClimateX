{
 "cells": [
  {
   "cell_type": "code",
   "execution_count": 1,
   "metadata": {},
   "outputs": [
    {
     "data": {
      "text/plain": [
       "True"
      ]
     },
     "execution_count": 1,
     "metadata": {},
     "output_type": "execute_result"
    }
   ],
   "source": [
    "import pandas as pd\n",
    "import numpy as np\n",
    "import os\n",
    "from together import Together\n",
    "from dotenv import load_dotenv # pip install python-dotenv\n",
    "from utils.experiments import *\n",
    "from utils.analysis import *\n",
    "load_dotenv()   # Set API KEY values from .env file\n"
   ]
  },
  {
   "cell_type": "markdown",
   "metadata": {},
   "source": [
    "# Notebook with example of how to run an experiment with a together.ai model"
   ]
  },
  {
   "cell_type": "markdown",
   "metadata": {},
   "source": [
    "Prerequisites: \n",
    "\n",
    "- Make a Together.ai account (https://www.together.ai/), get a Together api key, and put it in a .env file in the root directory of this repo. \n",
    "    - in your .env file: TOGETHER_API_KEY=\"your api key\"\n",
    "- Python requirements: \n",
    "    - pip install together python-dotenv pandas numpy scikit-learn \n",
    "- Run all the code before the \"Choose Model\" markdown cell\n",
    "\n",
    "Yoou're ready to run experiments! \n",
    "You can copy cells in the \"run Experiment and Analyze\" section, change the model variable to any model string listed on https://docs.together.ai/docs/inference-models, and get running! \n",
    "\n",
    "Note: the results_df variable gets rewritten, so the notebook will not be happy if you run cells out of order."
   ]
  },
  {
   "cell_type": "code",
   "execution_count": 2,
   "metadata": {},
   "outputs": [],
   "source": [
    "dataset = pd.read_csv(\"data/ipcc_statements_dataset_original_cleaned_context.csv\")\n",
    "test_set = dataset[dataset[\"split\"]==\"test\"]\n",
    "train_set = dataset[dataset[\"split\"]==\"train\"]\n"
   ]
  },
  {
   "cell_type": "code",
   "execution_count": 3,
   "metadata": {},
   "outputs": [],
   "source": [
    "client = Together(api_key=os.environ.get(\"TOGETHER_API_KEY\"))"
   ]
  },
  {
   "cell_type": "code",
   "execution_count": 4,
   "metadata": {},
   "outputs": [],
   "source": [
    "def query_together_model(client, statement, prompt_fn, model): \n",
    "    response = client.chat.completions.create(\n",
    "        model=model,\n",
    "        messages=[\n",
    "            {\"role\": \"user\", \"content\": prompt_fn(statement)}\n",
    "            ],\n",
    "        temperature=0, \n",
    "        logprobs=1,\n",
    "        )\n",
    "    raw_output = response.choices[0].message.content\n",
    "    cleaned_output = extract_confidence(raw_output)\n",
    "    logprobs = response.choices[0].logprobs\n",
    "    return pd.Series([raw_output, cleaned_output, logprobs])"
   ]
  },
  {
   "cell_type": "code",
   "execution_count": 5,
   "metadata": {},
   "outputs": [],
   "source": [
    "# Query the model. n_sc = number of times to run the experiment, for self-consistency.\n",
    "# The input dataset will be modified with additional columns containing the results of the experiment.\n",
    "def run_experiment(dataset, model, n_sc=5, prompt_fn=get_zero_shot_prompt):\n",
    "    for i in range(1, n_sc+1):\n",
    "        dataset[[f\"raw_output_{i}\", f\"model_confidence_classification_{i}\", f\"model_logprobs{i}\"]] = dataset[\"final_statement\"].apply(lambda x: query_together_model(client, x, prompt_fn, model))\n",
    "    return dataset\n",
    "                                                                                                                   "
   ]
  },
  {
   "cell_type": "markdown",
   "metadata": {},
   "source": [
    "# Choose model - Llama 3 8B Chat"
   ]
  },
  {
   "cell_type": "markdown",
   "metadata": {},
   "source": [
    "## Run Experiment and Analyze"
   ]
  },
  {
   "cell_type": "code",
   "execution_count": 6,
   "metadata": {},
   "outputs": [
    {
     "name": "stderr",
     "output_type": "stream",
     "text": [
      "/var/folders/zw/vnb4lkhd14n9cx0d71_qh_z00000gn/T/ipykernel_25859/2997118475.py:5: SettingWithCopyWarning: \n",
      "A value is trying to be set on a copy of a slice from a DataFrame.\n",
      "Try using .loc[row_indexer,col_indexer] = value instead\n",
      "\n",
      "See the caveats in the documentation: https://pandas.pydata.org/pandas-docs/stable/user_guide/indexing.html#returning-a-view-versus-a-copy\n",
      "  dataset[[f\"raw_output_{i}\", f\"model_confidence_classification_{i}\", f\"model_logprobs{i}\"]] = dataset[\"final_statement\"].apply(lambda x: query_together_model(client, x, prompt_fn, model))\n",
      "/var/folders/zw/vnb4lkhd14n9cx0d71_qh_z00000gn/T/ipykernel_25859/2997118475.py:5: SettingWithCopyWarning: \n",
      "A value is trying to be set on a copy of a slice from a DataFrame.\n",
      "Try using .loc[row_indexer,col_indexer] = value instead\n",
      "\n",
      "See the caveats in the documentation: https://pandas.pydata.org/pandas-docs/stable/user_guide/indexing.html#returning-a-view-versus-a-copy\n",
      "  dataset[[f\"raw_output_{i}\", f\"model_confidence_classification_{i}\", f\"model_logprobs{i}\"]] = dataset[\"final_statement\"].apply(lambda x: query_together_model(client, x, prompt_fn, model))\n",
      "/var/folders/zw/vnb4lkhd14n9cx0d71_qh_z00000gn/T/ipykernel_25859/2997118475.py:5: SettingWithCopyWarning: \n",
      "A value is trying to be set on a copy of a slice from a DataFrame.\n",
      "Try using .loc[row_indexer,col_indexer] = value instead\n",
      "\n",
      "See the caveats in the documentation: https://pandas.pydata.org/pandas-docs/stable/user_guide/indexing.html#returning-a-view-versus-a-copy\n",
      "  dataset[[f\"raw_output_{i}\", f\"model_confidence_classification_{i}\", f\"model_logprobs{i}\"]] = dataset[\"final_statement\"].apply(lambda x: query_together_model(client, x, prompt_fn, model))\n",
      "/var/folders/zw/vnb4lkhd14n9cx0d71_qh_z00000gn/T/ipykernel_25859/2997118475.py:5: SettingWithCopyWarning: \n",
      "A value is trying to be set on a copy of a slice from a DataFrame.\n",
      "Try using .loc[row_indexer,col_indexer] = value instead\n",
      "\n",
      "See the caveats in the documentation: https://pandas.pydata.org/pandas-docs/stable/user_guide/indexing.html#returning-a-view-versus-a-copy\n",
      "  dataset[[f\"raw_output_{i}\", f\"model_confidence_classification_{i}\", f\"model_logprobs{i}\"]] = dataset[\"final_statement\"].apply(lambda x: query_together_model(client, x, prompt_fn, model))\n",
      "/var/folders/zw/vnb4lkhd14n9cx0d71_qh_z00000gn/T/ipykernel_25859/2997118475.py:5: SettingWithCopyWarning: \n",
      "A value is trying to be set on a copy of a slice from a DataFrame.\n",
      "Try using .loc[row_indexer,col_indexer] = value instead\n",
      "\n",
      "See the caveats in the documentation: https://pandas.pydata.org/pandas-docs/stable/user_guide/indexing.html#returning-a-view-versus-a-copy\n",
      "  dataset[[f\"raw_output_{i}\", f\"model_confidence_classification_{i}\", f\"model_logprobs{i}\"]] = dataset[\"final_statement\"].apply(lambda x: query_together_model(client, x, prompt_fn, model))\n",
      "/var/folders/zw/vnb4lkhd14n9cx0d71_qh_z00000gn/T/ipykernel_25859/2997118475.py:5: SettingWithCopyWarning: \n",
      "A value is trying to be set on a copy of a slice from a DataFrame.\n",
      "Try using .loc[row_indexer,col_indexer] = value instead\n",
      "\n",
      "See the caveats in the documentation: https://pandas.pydata.org/pandas-docs/stable/user_guide/indexing.html#returning-a-view-versus-a-copy\n",
      "  dataset[[f\"raw_output_{i}\", f\"model_confidence_classification_{i}\", f\"model_logprobs{i}\"]] = dataset[\"final_statement\"].apply(lambda x: query_together_model(client, x, prompt_fn, model))\n",
      "/var/folders/zw/vnb4lkhd14n9cx0d71_qh_z00000gn/T/ipykernel_25859/2997118475.py:5: SettingWithCopyWarning: \n",
      "A value is trying to be set on a copy of a slice from a DataFrame.\n",
      "Try using .loc[row_indexer,col_indexer] = value instead\n",
      "\n",
      "See the caveats in the documentation: https://pandas.pydata.org/pandas-docs/stable/user_guide/indexing.html#returning-a-view-versus-a-copy\n",
      "  dataset[[f\"raw_output_{i}\", f\"model_confidence_classification_{i}\", f\"model_logprobs{i}\"]] = dataset[\"final_statement\"].apply(lambda x: query_together_model(client, x, prompt_fn, model))\n",
      "/var/folders/zw/vnb4lkhd14n9cx0d71_qh_z00000gn/T/ipykernel_25859/2997118475.py:5: SettingWithCopyWarning: \n",
      "A value is trying to be set on a copy of a slice from a DataFrame.\n",
      "Try using .loc[row_indexer,col_indexer] = value instead\n",
      "\n",
      "See the caveats in the documentation: https://pandas.pydata.org/pandas-docs/stable/user_guide/indexing.html#returning-a-view-versus-a-copy\n",
      "  dataset[[f\"raw_output_{i}\", f\"model_confidence_classification_{i}\", f\"model_logprobs{i}\"]] = dataset[\"final_statement\"].apply(lambda x: query_together_model(client, x, prompt_fn, model))\n",
      "/var/folders/zw/vnb4lkhd14n9cx0d71_qh_z00000gn/T/ipykernel_25859/2997118475.py:5: SettingWithCopyWarning: \n",
      "A value is trying to be set on a copy of a slice from a DataFrame.\n",
      "Try using .loc[row_indexer,col_indexer] = value instead\n",
      "\n",
      "See the caveats in the documentation: https://pandas.pydata.org/pandas-docs/stable/user_guide/indexing.html#returning-a-view-versus-a-copy\n",
      "  dataset[[f\"raw_output_{i}\", f\"model_confidence_classification_{i}\", f\"model_logprobs{i}\"]] = dataset[\"final_statement\"].apply(lambda x: query_together_model(client, x, prompt_fn, model))\n"
     ]
    }
   ],
   "source": [
    "model = \"meta-llama/Llama-3-8b-chat-hf\"\n",
    "results_df = test_set\n",
    "results_df = run_experiment(results_df, model, 5, get_zero_shot_prompt) \n",
    "results_df.to_csv(f\"results/cleaned_dataset/{model.replace(\"/\", \"-\")}_zero_shot_06052024.csv\")"
   ]
  },
  {
   "cell_type": "code",
   "execution_count": null,
   "metadata": {},
   "outputs": [],
   "source": [
    "results_df.head()"
   ]
  },
  {
   "cell_type": "code",
   "execution_count": null,
   "metadata": {},
   "outputs": [],
   "source": [
    "model_classification_col_names = [f\"model_confidence_classification_{i}\" for i in range(1, 6)]\n",
    "print_accuracy_slope_bias_metrics(results_df, model_classification_col_names, plot=False, verbose=False)"
   ]
  },
  {
   "cell_type": "code",
   "execution_count": null,
   "metadata": {},
   "outputs": [],
   "source": []
  }
 ],
 "metadata": {
  "kernelspec": {
   "display_name": "climate-llms",
   "language": "python",
   "name": "python3"
  },
  "language_info": {
   "codemirror_mode": {
    "name": "ipython",
    "version": 3
   },
   "file_extension": ".py",
   "mimetype": "text/x-python",
   "name": "python",
   "nbconvert_exporter": "python",
   "pygments_lexer": "ipython3",
   "version": "3.12.3"
  }
 },
 "nbformat": 4,
 "nbformat_minor": 2
}
